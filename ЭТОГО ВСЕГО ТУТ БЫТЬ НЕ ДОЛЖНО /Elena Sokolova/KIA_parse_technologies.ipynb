{
  "nbformat": 4,
  "nbformat_minor": 0,
  "metadata": {
    "colab": {
      "provenance": []
    },
    "kernelspec": {
      "name": "python3",
      "display_name": "Python 3"
    },
    "language_info": {
      "name": "python"
    }
  },
  "cells": [
    {
      "cell_type": "code",
      "execution_count": null,
      "metadata": {
        "id": "0FwdmPG7jdqc"
      },
      "outputs": [],
      "source": [
        "import requests\n",
        "\n",
        "url = \"https://www.kia.ru/ajax/page/technologies/more?limit=40&page=1\"\n",
        "\n",
        "headers = {\n",
        "    \"Referer\": \"https://www.kia.ru/about/technologies/\",  # Example Referer header\n",
        "}\n",
        "\n",
        "response = requests.get(url, headers=headers)\n",
        "json_data = response.text"
      ]
    },
    {
      "cell_type": "code",
      "source": [
        "json_data"
      ],
      "metadata": {
        "colab": {
          "base_uri": "https://localhost:8080/",
          "height": 109
        },
        "id": "GUbxYuUYbGAp",
        "outputId": "cd0eb78a-3fcd-44ab-cb84-5aabd9db5742"
      },
      "execution_count": null,
      "outputs": [
        {
          "output_type": "execute_result",
          "data": {
            "text/plain": [
              "'{\"error\":0,\"content\":{\"accessories\":[],\"filter\":{\"groups\":[{\"code\":\"wheels\",\"created_at\":null,\"depth_level\":0,\"id\":\"a72d8c89-eab6-4304-a2cb-8b7ffe167d18\",\"is_active\":true,\"items\":[{\"code\":\"wheel_disks\",\"id\":\"10c763f3-b065-4f4a-a5a6-560613dad7fd\",\"name\":\"\\\\u041a\\\\u043e\\\\u043b\\\\u0435\\\\u0441\\\\u043d\\\\u044b\\\\u0435 \\\\u0434\\\\u0438\\\\u0441\\\\u043a\\\\u0438\",\"parent_id\":\"a72d8c89-eab6-4304-a2cb-8b7ffe167d18\"},{\"code\":\"w4\",\"id\":\"1e8a5cf6-4475-43ce-9d86-71768f732dc3\",\"name\":\"\\\\u041a\\\\u043e\\\\u043b\\\\u0451\\\\u0441\\\\u043d\\\\u044b\\\\u0435 \\\\u0433\\\\u0430\\\\u0439\\\\u043a\\\\u0438 \\\\u0438 \\\\u0434\\\\u0430\\\\u0442\\\\u0447\\\\u0438\\\\u043a\\\\u0438\",\"parent_id\":\"a72d8c89-eab6-4304-a2cb-8b7ffe167d18\"}],\"name\":\"\\\\u041a\\\\u043e\\\\u043b\\\\u0451\\\\u0441\\\\u0430\",\"parent_id\":null,\"sort\":100,\"updated_at\":null},{\"code\":\"exterior\",\"created_at\":null,\"depth_level\":0,\"id\":\"28097139-0dd2-41fc-9d5d-7ad1f47f99f8\",\"is_active\":true,\"items\":[{\"code\":\"e1\",\"id\":\"898d6f45-cc4e-4cde-8fb9-9e193dc83b6e\",\"name\":\"\\\\u041a\\\\u043e\\\\u043c\\\\u0444\\\\u043e\\\\u0440\\\\u0442\",\"parent_id\":\"28097139-0dd2-41fc-9d5d-7ad1f47f99f8\"},{\"code\":\"e2\",\"id\":\"a342bdb7-b5cf-40ec-922c-2d39573aeff0\",\"name\":\"\\\\u0421\\\\u0442\\\\u0438\\\\u043b\\\\u044c\",\"parent_id\":\"28097139-0dd2-41fc-9d5d-7ad1f47f99f8\"}],\"name\":\"\\\\u042d\\\\u043a\\\\u0441\\\\u0442\\\\u0435\\\\u0440\\\\u044c\\\\u0435\\\\u0440\",\"parent_id\":null,\"sort\":200,\"updated_at\":null},{\"code\":\"interior\",\"created_at\":null,\"depth_level\":0,\"id\":\"63b75b25-654a-4666-8ba4-f451d0bfad9b\",\"is_active\":true,\"items\":[{\"code\":\"i1\",\"id\":\"4c6857df-bc75-4dd1-8d6d-a725f599e1ab\",\"name\":\"\\\\u0421\\\\u0430\\\\u043b\\\\u043e\\\\u043d\",\"parent_id\":\"63b75b25-654a-4666-8ba4-f451d0bfad9b\"},{\"code\":\"i2\",\"id\":\"cdc7edcd-bdd4-44d2-acfe-559b3fe4ebf3\",\"name\":\"\\\\u0411\\\\u0430\\\\u0433\\\\u0430\\\\u0436\\\\u043d\\\\u0438\\\\u043a\",\"parent_id\":\"63b75b25-654a-4666-8ba4-f451d0bfad9b\"}],\"name\":\"\\\\u0418\\\\u043d\\\\u0442\\\\u0435\\\\u0440\\\\u044c\\\\u0435\\\\u0440\",\"parent_id\":null,\"sort\":300,\"updated_at\":null},{\"code\":\"electronics\",\"created_at\":null,\"depth_level\":0,\"id\":\"466c37e9-49cd-46dc-b180-7045f25a11b5\",\"is_active\":true,\"items\":[{\"code\":\"el1\",\"id\":\"de23d721-6edb-4d5e-9d7a-89657015e3ef\",\"name\":\"\\\\u041e\\\\u0445\\\\u0440\\\\u0430\\\\u043d\\\\u043d\\\\u044b\\\\u0435 \\\\u0441\\\\u0438\\\\u0441\\\\u0442\\\\u0435\\\\u043c\\\\u044b\",\"parent_id\":\"466c37e9-49cd-46dc-b180-7045f25a11b5\"},{\"code\":\"el2\",\"id\":\"4b7c1f56-34f2-491b-83d7-1441cb77d3ab\",\"name\":\"\\\\u0421\\\\u0438\\\\u0441\\\\u0442\\\\u0435\\\\u043c\\\\u044b \\\\u043f\\\\u043e\\\\u043c\\\\u043e\\\\u0449\\\\u0438 \\\\u043f\\\\u0440\\\\u0438 \\\\u043f\\\\u0430\\\\u0440\\\\u043a\\\\u043e\\\\u0432\\\\u043a\\\\u0435\",\"parent_id\":\"466c37e9-49cd-46dc-b180-7045f25a11b5\"},{\"code\":\"el3\",\"id\":\"989c7e51-41cd-4a6f-a4a1-b5c4b84c8ccb\",\"name\":\"\\\\u0412\\\\u0438\\\\u0434\\\\u0435\\\\u043e\\\\u0440\\\\u0435\\\\u0433\\\\u0438\\\\u0441\\\\u0442\\\\u0440\\\\u0430\\\\u0442\\\\u043e\\\\u0440\\\\u044b\",\"parent_id\":\"466c37e9-49cd-46dc-b180-7045f25a11b5\"}],\"name\":\"\\\\u042d\\\\u043b\\\\u0435\\\\u043a\\\\u0442\\\\u0440\\\\u043e\\\\u043d\\\\u0438\\\\u043a\\\\u0430\",\"parent_id\":null,\"sort\":400,\"updated_at\":null},{\"code\":\"transportation\",\"created_at\":null,\"depth_level\":0,\"id\":\"09abc8db-2bc8-4446-a5ea-6c689e3d680f\",\"is_active\":true,\"items\":[{\"code\":\"t2\",\"id\":\"32923ba1-90b0-4f05-b933-047863fe5a5d\",\"name\":\"\\\\u0422\\\\u044f\\\\u0433\\\\u043e\\\\u0432\\\\u043e-\\\\u0441\\\\u0446\\\\u0435\\\\u043f\\\\u043d\\\\u044b\\\\u0435 \\\\u0443\\\\u0441\\\\u0442\\\\u0440\\\\u043e\\\\u0439\\\\u0441\\\\u0442\\\\u0432\\\\u0430\",\"parent_id\":\"09abc8db-2bc8-4446-a5ea-6c689e3d680f\"},{\"code\":\"t1\",\"id\":\"8abea638-d40a-4d86-8e36-5483a56b4c6e\",\"name\":\"\\\\u0411\\\\u0430\\\\u0433\\\\u0430\\\\u0436\\\\u043d\\\\u044b\\\\u0435 \\\\u0441\\\\u0438\\\\u0441\\\\u0442\\\\u0435\\\\u043c\\\\u044b\",\"parent_id\":\"09abc8db-2bc8-4446-a5ea-6c689e3d680f\"}],\"name\":\"\\\\u0422\\\\u0440\\\\u0430\\\\u043d\\\\u0441\\\\u043f\\\\u043e\\\\u0440\\\\u0442\\\\u0438\\\\u0440\\\\u043e\\\\u0432\\\\u043a\\\\u0430\",\"parent_id\":null,\"sort\":500,\"updated_at\":null},{\"code\":\"help\",\"created_at\":null,\"depth_level\":0,\"id\":\"3250ff14-cd3a-47ed-8d41-0df7170233e2\",\"is_active\":true,\"items\":[{\"code\":\"h1\",\"id\":\"56bf721c-2498-4ddc-b04a-a83ff48aa224\",\"name\":\"\\\\u0412 \\\\u043f\\\\u043e\\\\u043c\\\\u043e\\\\u0449\\\\u044c \\\\u0432\\\\u043e\\\\u0434\\\\u0438\\\\u0442\\\\u0435\\\\u043b\\\\u044e\",\"parent_id\":\"3250ff14-cd3a-47ed-8d41-0df7170233e2\"}],\"name\":\"\\\\u0412 \\\\u043f\\\\u043e\\\\u043c\\\\u043e\\\\u0449\\\\u044c \\\\u0432\\\\u043e\\\\u0434\\\\u0438\\\\u0442\\\\u0435\\\\u043b\\\\u044e\",\"parent_id\":null,\"sort\":600,\"updated_at\":null},{\"code\":\"souvenir\",\"created_at\":null,\"depth_level\":0,\"id\":\"ca3d0af9-0d84-4577-8710-535ecc5c371f\",\"is_active\":true,\"items\":[{\"code\":\"s1\",\"id\":\"21223226-1748-4c8e-82d2-27627b06e6a2\",\"name\":\"\\\\u0414\\\\u043b\\\\u044f \\\\u0434\\\\u0435\\\\u0442\\\\u0435\\\\u0439\",\"parent_id\":\"ca3d0af9-0d84-4577-8710-535ecc5c371f\"},{\"code\":\"s2\",\"id\":\"6c701e9d-c8c3-4055-b8dc-24b809a7f460\",\"name\":\"\\\\u0421\\\\u0443\\\\u0432\\\\u0435\\\\u043d\\\\u0438\\\\u0440\\\\u044b\",\"parent_id\":\"ca3d0af9-0d84-4577-8710-535ecc5c371f\"}],\"name\":\"\\\\u0421\\\\u0443\\\\u0432\\\\u0435\\\\u043d\\\\u0438\\\\u0440\\\\u043d\\\\u0430\\\\u044f \\\\u043f\\\\u0440\\\\u043e\\\\u0434\\\\u0443\\\\u043a\\\\u0446\\\\u0438\\\\u044f\",\"parent_id\":null,\"sort\":700,\"updated_at\":null},{\"code\":\"safety\",\"id\":\"1671074d-5144-412d-9089-0140ba46d653\",\"items\":[{\"code\":\"s1\",\"id\":\"51346aab-3b50-459d-b857-ab69d4eeaaf7\",\"name\":\"\\\\u0417\\\\u0430\\\\u0449\\\\u0438\\\\u0442\\\\u0430\",\"parent_id\":\"1671074d-5144-412d-9089-0140ba46d653\"}],\"name\":\"\\\\u0417\\\\u0430\\\\u0449\\\\u0438\\\\u0442\\\\u0430\",\"parent_id\":null}],\"models\":[{\"accessory\":null,\"code\":\"picanto\",\"external_id\":\"G6S620222022\",\"id\":\"e29252fd-b5b8-4872-9a7a-a49bc3b27248\",\"model_line_id\":\"224e47b5-c5d7-42f6-be5c-369b7ab9d7bf\",\"name\":\"Picanto\"},{\"accessory\":null,\"code\":\"rio\",\"external_id\":\"H0S420222022\",\"id\":\"4926cbe3-907c-45d1-b036-f107c07807e8\",\"model_line_id\":\"a14527a8-20ef-4b4f-ba81-f4c5d47996ed\",\"name\":\"Rio\"},{\"accessory\":null,\"code\":\"rio-x\",\"external_id\":\"H0S620222022\",\"id\":\"005890f6-090b-463f-a3e8-95d3c4115a5c\",\"model_line_id\":\"e3b21af4-46f7-44be-95dc-bc28827aa7c3\",\"name\":\"Rio X\"},{\"accessory\":null,\"code\":\"ceed\",\"external_id\":\"J7S620222022\",\"id\":\"5d326005-8393-4494-969a-eb2d9c9bc7fe\",\"model_line_id\":\"9c048c34-3475-4ccd-aea0-e7b011afc27b\",\"name\":\"Ceed\"},{\"accessory\":null,\"code\":\"ceed_sw\",\"external_id\":\"J7W520222022\",\"id\":\"5fae7606-6065-496b-8450-8235eec771c4\",\"model_line_id\":\"e9cd3a16-dc23-4ea1-9ff9-f8f9e943b539\",\"name\":\"Ceed SW\"},{\"accessory\":\"\\\\/master-data\\\\/accessories\\\\/R8490AC100M6.pdf\",\"code\":\"cerato\",\"external_id\":\"DJS420222022\",\"id\":\"8883e5d9-9733-4405-b05d-64600200f1d5\",\"model_line_id\":\"489fb34c-ce57-4eba-bc2e-1732251cfd31\",\"name\":\"Cerato\"},{\"accessory\":null,\"code\":\"k5\",\"external_id\":\"EXS420222022\",\"id\":\"5d8e6351-522b-4049-91a8-19ef9f68b4df\",\"model_line_id\":\"378f0511-b41a-487d-86b3-2d7db87a2cdf\",\"name\":\"K5\"},{\"accessory\":null,\"code\":\"stinger\",\"external_id\":\"J5S620222022\",\"id\":\"47fa6fe2-c88a-4c6e-af05-cec22bb574b7\",\"model_line_id\":\"48265c16-efbc-4cea-9d2b-8b971808a518\",\"name\":\"Stinger\"},{\"accessory\":null,\"code\":\"k9\",\"external_id\":\"J6S420222022\",\"id\":\"5ca6b789-7bde-4e5d-b904-8c047334efc8\",\"model_line_id\":\"365af969-7ba5-4a24-a834-26f8aa72f76d\",\"name\":\"K9\"},{\"accessory\":null,\"code\":\"soul\",\"external_id\":\"SKW520222022\",\"id\":\"88d6189d-8d73-4615-a021-d49c30cd9d2d\",\"model_line_id\":\"88b88d67-ed36-4566-b52e-f6e4237def68\",\"name\":\"Soul\"},{\"accessory\":null,\"code\":\"seltos\",\"external_id\":\"THW520222022\",\"id\":\"8a4c4c34-fe14-4c10-ad1e-f6a315b0ed32\",\"model_line_id\":\"b9568e27-e57f-4b73-af9c-e271c7215b83\",\"name\":\"Seltos\"},{\"accessory\":null,\"code\":\"sportage\",\"external_id\":\"GYWD20222022\",\"id\":\"b89c529b-9972-4ce6-80cc-373ce7cc8c77\",\"model_line_id\":\"cc8519a8-021d-4a85-8b82-e0cc67740765\",\"name\":\"Sportage\"},{\"accessory\":null,\"code\":\"sorento\",\"external_id\":\"GZW520222022\",\"id\":\"d145a6a3-3830-48b4-b085-9d43be35fa8b\",\"model_line_id\":\"259f93e4-313c-450f-a575-a479d9b82133\",\"name\":\"Sorento\"},{\"accessory\":null,\"code\":\"mohave\",\"external_id\":\"ENW720222022\",\"id\":\"e30fa456-6cf3-40d4-80a4-ba2c63aa871d\",\"model_line_id\":\"e1b6e4af-6fcf-4ba2-8149-fc24609774d2\",\"name\":\"Mohave\"},{\"accessory\":null,\"code\":\"carnival\",\"external_id\":\"HSB720222022\",\"id\":\"dcff52f5-8af6-4f9d-a485-4278960854fa\",\"model_line_id\":\"c70a9df0-5046-45be-a4db-82bc83b76547\",\"name\":\"Carnival\"}]},\"meta\":{\"current_page\":101,\"last_page\":23,\"per_page\":24,\"total\":537}}}'"
            ],
            "application/vnd.google.colaboratory.intrinsic+json": {
              "type": "string"
            }
          },
          "metadata": {},
          "execution_count": 6
        }
      ]
    },
    {
      "cell_type": "code",
      "source": [
        "import json\n",
        "\n",
        "data = json.loads(json_data)\n",
        "\n",
        "ids = [tech['id'] for tech in data['content']['technologies']]\n",
        "\n",
        "print(ids)"
      ],
      "metadata": {
        "colab": {
          "base_uri": "https://localhost:8080/"
        },
        "id": "GVZ_J27PjhEA",
        "outputId": "2436b35d-f121-499e-d1d5-87ad2e3cfeea"
      },
      "execution_count": null,
      "outputs": [
        {
          "output_type": "stream",
          "name": "stdout",
          "text": [
            "['f4960620-1702-457a-99df-485f60ceeee9', 'f55ce731-dbc8-4137-88ea-ffef208a8d0e', 'b8b0ad36-deda-450d-86df-ed9eda0e7059', '882bec53-f5f1-43fa-a21e-093c17153c85', 'adb18898-32da-42e6-afe6-1f85838971f7', '38756dea-eed9-4cc8-982e-ede3ed10c144', '9a0877db-ec1a-4052-8b17-e6d5557ff5cb', '06e40a3a-6593-4646-a89a-99225e81a018', '74696b8b-2e3d-4225-a196-d6edfffbbc44', '58fa29bd-fb0e-47b5-a798-9aecb78e7825', 'f963afc5-d664-4897-bd10-0542bd4895e1', '07d70a7e-ae8b-4fee-9e43-2951aa107e89', '366b6336-775a-4e6d-881d-1408b1e51f13', '02c6153a-f5d1-4d72-8c6c-fa75485a1510', '16c63807-8ca1-439a-905f-1d8340e707c2', '68813cf0-9537-4bb4-bfdd-0564dc86a21e', '70ca6092-90f2-48c1-ac8d-f344ad5876d3', '0008c086-d9bf-435a-bf3e-ca372aa77bb7', 'ceee9a98-2707-442b-8b68-8dc7653c65fc', '521a6f45-5a5b-420e-8165-889bd6aa5421', '6042f93e-df6f-41f5-a509-8d10373db83b', 'b8a87938-ec61-4d11-ad25-0bca4c35751e', 'bfbb0b7c-2c0f-4ef8-b281-9ce22ae99291', '6acf27eb-5059-460d-a0fd-da94d85447eb', '75530e70-a1e8-4cee-9791-59de3793d1fd', '187f292e-4519-4009-a5e8-00235bf1489f', 'be5df88f-ad5d-4d19-ae7c-e7567e747601', '96972a20-b0da-4c6a-8a94-b08434abb9eb', 'a63922c9-9401-4245-b505-1d90567d25fb', 'c377b10e-96e1-43b1-a080-eec7ed60f3b3', '8142136a-1db5-42e4-a2ea-b30b0baf9930', '22ef8f92-0764-4bd5-98ae-c580b9f61f1b', '4e424688-121e-4c5a-812d-10bd03500d21', '6376f00e-31ab-4411-89c0-437d4c4641e3']\n"
          ]
        }
      ]
    },
    {
      "cell_type": "code",
      "source": [
        "static_url = 'https://www.kia.ru/about/technologies/'\n",
        "urls = []\n",
        "\n",
        "for id in ids:\n",
        "    urls.append(static_url+id)"
      ],
      "metadata": {
        "id": "HqHx-fHwjiuq"
      },
      "execution_count": null,
      "outputs": []
    },
    {
      "cell_type": "code",
      "source": [
        "print(urls)"
      ],
      "metadata": {
        "colab": {
          "base_uri": "https://localhost:8080/"
        },
        "id": "CpK1dRCSjl5B",
        "outputId": "5231c182-8702-4af6-e570-6a9349942df6"
      },
      "execution_count": null,
      "outputs": [
        {
          "output_type": "stream",
          "name": "stdout",
          "text": [
            "['https://www.kia.ru/about/technologies/f4960620-1702-457a-99df-485f60ceeee9', 'https://www.kia.ru/about/technologies/f55ce731-dbc8-4137-88ea-ffef208a8d0e', 'https://www.kia.ru/about/technologies/b8b0ad36-deda-450d-86df-ed9eda0e7059', 'https://www.kia.ru/about/technologies/882bec53-f5f1-43fa-a21e-093c17153c85', 'https://www.kia.ru/about/technologies/adb18898-32da-42e6-afe6-1f85838971f7', 'https://www.kia.ru/about/technologies/38756dea-eed9-4cc8-982e-ede3ed10c144', 'https://www.kia.ru/about/technologies/9a0877db-ec1a-4052-8b17-e6d5557ff5cb', 'https://www.kia.ru/about/technologies/06e40a3a-6593-4646-a89a-99225e81a018', 'https://www.kia.ru/about/technologies/74696b8b-2e3d-4225-a196-d6edfffbbc44', 'https://www.kia.ru/about/technologies/58fa29bd-fb0e-47b5-a798-9aecb78e7825', 'https://www.kia.ru/about/technologies/f963afc5-d664-4897-bd10-0542bd4895e1', 'https://www.kia.ru/about/technologies/07d70a7e-ae8b-4fee-9e43-2951aa107e89', 'https://www.kia.ru/about/technologies/366b6336-775a-4e6d-881d-1408b1e51f13', 'https://www.kia.ru/about/technologies/02c6153a-f5d1-4d72-8c6c-fa75485a1510', 'https://www.kia.ru/about/technologies/16c63807-8ca1-439a-905f-1d8340e707c2', 'https://www.kia.ru/about/technologies/68813cf0-9537-4bb4-bfdd-0564dc86a21e', 'https://www.kia.ru/about/technologies/70ca6092-90f2-48c1-ac8d-f344ad5876d3', 'https://www.kia.ru/about/technologies/0008c086-d9bf-435a-bf3e-ca372aa77bb7', 'https://www.kia.ru/about/technologies/ceee9a98-2707-442b-8b68-8dc7653c65fc', 'https://www.kia.ru/about/technologies/521a6f45-5a5b-420e-8165-889bd6aa5421', 'https://www.kia.ru/about/technologies/6042f93e-df6f-41f5-a509-8d10373db83b', 'https://www.kia.ru/about/technologies/b8a87938-ec61-4d11-ad25-0bca4c35751e', 'https://www.kia.ru/about/technologies/bfbb0b7c-2c0f-4ef8-b281-9ce22ae99291', 'https://www.kia.ru/about/technologies/6acf27eb-5059-460d-a0fd-da94d85447eb', 'https://www.kia.ru/about/technologies/75530e70-a1e8-4cee-9791-59de3793d1fd', 'https://www.kia.ru/about/technologies/187f292e-4519-4009-a5e8-00235bf1489f', 'https://www.kia.ru/about/technologies/be5df88f-ad5d-4d19-ae7c-e7567e747601', 'https://www.kia.ru/about/technologies/96972a20-b0da-4c6a-8a94-b08434abb9eb', 'https://www.kia.ru/about/technologies/a63922c9-9401-4245-b505-1d90567d25fb', 'https://www.kia.ru/about/technologies/c377b10e-96e1-43b1-a080-eec7ed60f3b3', 'https://www.kia.ru/about/technologies/8142136a-1db5-42e4-a2ea-b30b0baf9930', 'https://www.kia.ru/about/technologies/22ef8f92-0764-4bd5-98ae-c580b9f61f1b', 'https://www.kia.ru/about/technologies/4e424688-121e-4c5a-812d-10bd03500d21', 'https://www.kia.ru/about/technologies/6376f00e-31ab-4411-89c0-437d4c4641e3']\n"
          ]
        }
      ]
    },
    {
      "cell_type": "code",
      "source": [
        "import os\n",
        "from bs4 import BeautifulSoup\n",
        "\n",
        "resulturl = []\n",
        "\n",
        "def savetxt(dir, name, text):\n",
        "  if not os.path.exists('result'): os.mkdir('result')\n",
        "  if not os.path.exists('result/'+dir): os.mkdir('result/'+dir)\n",
        "  #if os.path.exists('result/'+dir+'/'+name):\n",
        "  #  return 'File exists'\n",
        "  with open('result/'+dir+'/'+name,'w',encoding='utf-8') as f:\n",
        "    f.write(text)\n",
        "  return True\n",
        "\n",
        "def resulttotext(r):\n",
        "  if r is not None:\n",
        "    return r.text\n",
        "  else:\n",
        "    return ''\n",
        "\n",
        "def parsermodel(soup):\n",
        "    text = ''\n",
        "    allblock = soup.findAll('div', class_='constructor-block')\n",
        "    if allblock is not None:\n",
        "      for block in allblock:\n",
        "        label = block.find('div',class_='constructor-block__label')\n",
        "        info = block.find('div',class_='constructor-block__info')\n",
        "        slider = block.find('div',class_='constructor-block__slider')\n",
        "\n",
        "        label = resulttotext(label)\n",
        "        info = resulttotext(info)\n",
        "        slider = resulttotext(slider)\n",
        "\n",
        "        text += f'<Заголовок: {label}>\\n{info}\\n{slider}\\n'\n",
        "\n",
        "    allsliders = soup.findAll('div', class_='trim-slider')\n",
        "    if allsliders is not None:\n",
        "      for slider in allsliders:\n",
        "        label = slider.find('div',class_='trim-slider__header')\n",
        "        label = label.find('div',class_='text-n1').text\n",
        "\n",
        "        text += f'<Заголовок: {label}>\\n'\n",
        "\n",
        "        cards = slider.findAll('div',class_='trim-card')\n",
        "        for card in cards:\n",
        "          cardheader = card.find('div',class_='trim-card__header').text\n",
        "          cardcontent = card.find('div',class_='trim-card__content')\n",
        "          cardcontent = cardcontent.select('div[class*=\"text-\"]')\n",
        "          cardcontent = ''.join(i.text+'\\n' for i in cardcontent)\n",
        "\n",
        "          text += f'<Заголовок опции: {cardheader}>\\n {cardcontent}\\n'\n",
        "    return text\n",
        "\n",
        "def parser(soup):\n",
        "    text = ''\n",
        "    pages = soup.findAll('div', class_='g-padding')\n",
        "    if pages is None:\n",
        "      print(soup.find('title').text.split(' – ')[0])\n",
        "      print(soup)\n",
        "    else:\n",
        "      for page in pages:\n",
        "        if page.find('div',class_='faq') is not None:\n",
        "          text += page.find('div',class_='faq').text\n",
        "        else:\n",
        "          content = page.select('div[class*=\"text-\"]')\n",
        "          text += ''.join(i.text+'\\n' for i in content)\n",
        "    return text\n",
        "\n",
        "def parserabout(soup):\n",
        "    text = ''\n",
        "    pages = soup.find('div', class_='articles-detail__technology-txt')\n",
        "    if pages is None:\n",
        "      print(soup.find('title').text.split(' – ')[0])\n",
        "      print(soup)\n",
        "    else:\n",
        "       innertitle = pages.select('div[class*=\"text-x5 desktop:text-x4 mb-4\"]')\n",
        "       text += ''.join('<' + i.text + '> \\n' for i in innertitle)\n",
        "       # text += ''.join(innertitle+'\\n' for i in content)\n",
        "       content = pages.select('div[class*=\"text-\"]')\n",
        "       text += ''.join(i.text+'\\n' for i in content)\n",
        "\n",
        "    imgs = soup.find('div', class_='articles-detail__technology-img desktop:w-4/10')\n",
        "\n",
        "    if imgs is None:\n",
        "      print(soup.find('title').text.split(' – ')[0])\n",
        "      print(soup)\n",
        "    else:\n",
        "        img_tag = soup.find('img')\n",
        "        src_value = img_tag['src']\n",
        "        text += ''.join('[IMG ' + src_value+']\\n')\n",
        "\n",
        "    return text\n",
        "\n",
        "\n",
        "\n",
        "\n",
        "for url in urls:\n",
        "  content = requests.get(url)\n",
        "  if content.status_code == 200:\n",
        "    #constructor-block\n",
        "    text = ''\n",
        "    html = ''.join(line.strip() for line in content.text.split(\"\\n\"))\n",
        "    soup = BeautifulSoup(html, \"html.parser\")\n",
        "    name = soup.find('title').text.split(' – ')[0]\n",
        "    dir = url.split('www.kia.ru')[1].split('/')[1]\n",
        "\n",
        "    if dir == 'models':\n",
        "      forclear = soup.findAll('div', class_='constructor-block__slider-counter')\n",
        "      for i in forclear:\n",
        "        i.clear()\n",
        "      text += parsermodel(soup)\n",
        "    elif dir == 'about':\n",
        "      text += parserabout(soup)\n",
        "    else:\n",
        "      text += parser(soup)\n",
        "\n",
        "\n",
        "\n",
        "\n",
        "  savetxt(dir, name.replace('/','-')+'.txt', text)\n"
      ],
      "metadata": {
        "id": "V1gA2maMjoCo"
      },
      "execution_count": null,
      "outputs": []
    }
  ]
}