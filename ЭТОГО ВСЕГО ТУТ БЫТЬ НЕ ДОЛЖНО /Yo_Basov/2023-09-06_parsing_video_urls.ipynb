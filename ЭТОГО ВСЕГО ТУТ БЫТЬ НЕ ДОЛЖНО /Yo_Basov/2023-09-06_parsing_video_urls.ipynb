{
  "nbformat": 4,
  "nbformat_minor": 0,
  "metadata": {
    "colab": {
      "provenance": []
    },
    "kernelspec": {
      "name": "python3",
      "display_name": "Python 3"
    },
    "language_info": {
      "name": "python"
    }
  },
  "cells": [
    {
      "cell_type": "code",
      "execution_count": null,
      "metadata": {
        "id": "qUNxmXHwmTde"
      },
      "outputs": [],
      "source": [
        "import requests, json\n",
        "\n",
        "headers = {'referer': 'https://www.kia.ru/'}\n",
        "response = requests.get('https://www.kia.ru/ajax/video_bank/?limit=-1', headers=headers)\n",
        "\n",
        "jsonObj = json.loads(response.text)\n",
        "\n",
        "lists = jsonObj['content']['video_bank']['list']\n",
        "groups = jsonObj['content']['video_bank']['groups']\n",
        "\n",
        "urls = {}\n",
        "for list in lists:\n",
        "    for video in lists[list]:\n",
        "        urls[video['video_link']] = video['name']\n",
        "\n",
        "links = [i for i in urls.keys()]\n",
        "\n",
        "print(links)"
      ]
    }
  ]
}