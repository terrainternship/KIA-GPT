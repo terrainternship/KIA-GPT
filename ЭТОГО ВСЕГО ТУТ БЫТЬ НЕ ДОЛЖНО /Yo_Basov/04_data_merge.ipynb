{
  "nbformat": 4,
  "nbformat_minor": 0,
  "metadata": {
    "colab": {
      "provenance": []
    },
    "kernelspec": {
      "name": "python3",
      "display_name": "Python 3"
    },
    "language_info": {
      "name": "python"
    }
  },
  "cells": [
    {
      "cell_type": "code",
      "source": [
        "# ЧЕРНОВОЙ ВАРИАНТ ПО ОБЪЕДИНЕНИЮ ФАЙЛА parser.txt от ГРУППЫ ПАРСЕР с САММАРИЗАЦИЯМИ ГРУППЫ ВИДEО summary.txt"
      ],
      "metadata": {
        "id": "vi6shOejteFC"
      },
      "execution_count": null,
      "outputs": []
    },
    {
      "cell_type": "code",
      "source": [
        "# Для использования на гугл диске в меню доступные мне найдите V1 и замонтируйте как папку к себе на Мой Диск"
      ],
      "metadata": {
        "id": "v6hjis8t1rPZ"
      },
      "execution_count": null,
      "outputs": []
    },
    {
      "cell_type": "code",
      "source": [
        "from google.colab import drive\n",
        "drive.mount('/content/drive')"
      ],
      "metadata": {
        "id": "ERe005B_vu70"
      },
      "execution_count": null,
      "outputs": []
    },
    {
      "cell_type": "code",
      "source": [
        "HOWTO_TEXTS={\"12.1.1\" : \"https://drive.google.com/file/d/10P6JttipRmhyczrHIedjgsHBE2iX2KXd/view?usp=drive_link\"\n",
        ", \"12.1.2\": \"https://drive.google.com/file/d/1kCgDeK6dsj7FEH5iRDM1wqnciZ9r87-g/view?usp=drive_link\"\n",
        ", \"12.1.3\": \"https://drive.google.com/file/d/1_kKtp6rJp911mtljJ0VzwdL0YeTVBApn/view?usp=drive_link\"\n",
        ", \"12.1.4\": \"https://drive.google.com/file/d/1kLOKaTwZ4Hc0_a46WgsD-foDbnBsv6KG/view?usp=drive_link\"\n",
        ", \"12.2.1\": \"https://drive.google.com/file/d/15bbALOsgazmk1U7aE5se1n5rE5Rw2Tu8/view?usp=drive_link\"\n",
        ", \"12.2.2\": \"https://drive.google.com/file/d/1Kgx_PFmDy0aqg-6zB9rLcCUxTE5W4ujJ/view?usp=drive_link\"\n",
        ", \"12.2.3\": \"https://drive.google.com/file/d/166PSqkusw9dBZEJKm9nHiLhGpmKNoGw0/view?usp=drive_link\"\n",
        ", \"12.2.4\": \"https://drive.google.com/file/d/1IoEX-FZ_7UXX2fWj0g7OnW9CbIlgFyBy/view?usp=drive_link\"\n",
        ", \"12.2.5\": \"https://drive.google.com/file/d/1leq5RhhriIcIDy6m9cKDWcs41bOSlrD4/view?usp=drive_link\"\n",
        ", \"12.2.6\": \"https://drive.google.com/file/d/1FlpE0IdQZb-XGt-j6nxi4GjmnD8V3Bjv/view?usp=drive_link\"\n",
        ", \"12.2.7\": \"https://drive.google.com/file/d/1Ibmd32L3KNk-0QgdcVP1TCwrDvUoMsxe/view?usp=drive_link\"\n",
        ", \"12.2.8\": \"https://drive.google.com/file/d/1YmjjdY0vclz5Exdm5rCpnasdPk4F6Elx/view?usp=drive_link\"\n",
        ", \"12.3.1\": \"https://drive.google.com/file/d/1C9HdWjB3iE1FUsu_HS6DKs2s-IzJjhC1/view?usp=drive_link\"\n",
        ", \"12.3.2\": \"https://drive.google.com/file/d/1dJiCnqrxIaYo65oWj6PnYfgiIib6cnWG/view?usp=drive_link\"\n",
        ", \"12.3.3\": \"https://drive.google.com/file/d/1gOUDbvrhVB36PgaNm3t2oz1Jrb-uK2di/view?usp=drive_link\"\n",
        ", \"12.3.4\": \"https://drive.google.com/file/d/18KEWG7U95hWhj465jS15L6FVopaOmeE8/view?usp=drive_link\"\n",
        ", \"12.3.5\": \"https://drive.google.com/file/d/1NO-hRhFxdAon98jJz-7WSv2_p6SESKuh/view?usp=drive_link\"\n",
        ", \"12.3.6\": \"https://drive.google.com/file/d/10152IOaFpTvZwEtkBXJUB6nw6QrHMm0z/view?usp=drive_link\"\n",
        ", \"12.3.7\": \"https://drive.google.com/file/d/1_pLRwTEz0jFoxNoQCahrp3g8zb_y2CeP/view?usp=drive_link\"\n",
        ", \"12.3.8\": \"https://drive.google.com/file/d/1Up36WPDmim6gGD88ffxjVCYtoRL_fjDw/view?usp=drive_link\"\n",
        ", \"12.3.9\": \"https://drive.google.com/file/d/1JzWBv4R7CQ-R-iLDA8JIzvknZiHXcCfT/view?usp=drive_link\"\n",
        ", \"12.3.10\": \"https://drive.google.com/file/d/1e1UzW4lFBsdKhy8JhjAtJuJNIMLG4A0V/view?usp=drive_link\"\n",
        ", \"12.3.11\": \"https://drive.google.com/file/d/1OYwL3vkw_F04vJs4HaKzQDNmZ0wA_Mzj/view?usp=drive_link\"\n",
        ", \"12.3.12\": \"https://drive.google.com/file/d/1i3gcXDKAF0RDQ0ysbMh-a4luyaF49SqA/view?usp=drive_link\"\n",
        ", \"12.3.13\": \"https://drive.google.com/file/d/1DGlzPKr6I8CW_-95i6unhauoEykn_SH2/view?usp=drive_link\"\n",
        ", \"12.3.14\": \"https://drive.google.com/file/d/1ELblG_HmiAP-8EOfSPQ796i49MmwTslf/view?usp=drive_link\"\n",
        ", \"12.3.15\": \"https://drive.google.com/file/d/1rxYMfTClhDG2eJsOAX-gzjqzzfAhhydW/view?usp=drive_link\"\n",
        "}\n",
        "encoding=\"ISO-8859-1\""
      ],
      "metadata": {
        "id": "aGKKURGz4uXe"
      },
      "execution_count": null,
      "outputs": []
    },
    {
      "cell_type": "code",
      "source": [
        "import codecs\n",
        "import re\n",
        "\n",
        "with codecs.open(\"/content/drive/My Drive/V1/KIA (Транскрибация)/algoritm.txt\", \"w\", encoding=encoding) as fa:\n",
        "    with codecs.open(\"/content/drive/My Drive/V1/KIA (Транскрибация)/parser.txt\", \"r\", encoding=encoding) as fp:\n",
        "        for k in HOWTO_TEXTS:\n",
        "            fa.write(\"#<>\\n\")\n",
        "            with codecs.open(\"/content/drive/My Drive/V1/KIA (Транскрибация)/\" + k + \".txt\", \"r\", encoding=encoding) as fs:\n",
        "                while True:\n",
        "                    fs_line = fs.readline().encode('utf-8', 'ignore').decode(encoding)\n",
        "                    if not fs_line: break\n",
        "                    fa.write(re.sub('<[^>]*>', '', fs_line).encode(encoding, 'ignore').decode('utf-8'))\n",
        "            fa.write(\"\\n\")\n",
        "        while True:\n",
        "            fp_line = fp.readline().encode('utf-8', 'ignore').decode(encoding)\n",
        "            if not fp_line: break\n",
        "            fa.write(re.sub('<[^>]*>', '', fp_line).encode(encoding, 'ignore').decode('utf-8'))"
      ],
      "metadata": {
        "id": "anSkncs2wjuv"
      },
      "execution_count": null,
      "outputs": []
    },
    {
      "cell_type": "code",
      "source": [
        "# ЧЕРНОВОЙ ВАРИАНТ деления на чанки и сохранения в базу данных.txt\n",
        "\n",
        "!pip -q install langchain openai chromadb"
      ],
      "metadata": {
        "id": "WHiCkL7f0Bs6"
      },
      "execution_count": null,
      "outputs": []
    },
    {
      "cell_type": "code",
      "source": [
        "NUMBERS = {\"parser\": 3000000\n",
        ",\"summary\": 2000000\n",
        ",\"dialog\": 1000000\n",
        ",\"algoritm\": 0}"
      ],
      "metadata": {
        "id": "3AsRAGH49QWI"
      },
      "execution_count": null,
      "outputs": []
    },
    {
      "cell_type": "code",
      "source": [
        "import csv\n",
        "\n",
        "from langchain.text_splitter import MarkdownHeaderTextSplitter\n",
        "from langchain.text_splitter import RecursiveCharacterTextSplitter\n",
        "\n",
        "headers_to_split_on = [\n",
        "    (\"#\", \"Header 1\"),\n",
        "    (\"##\", \"Header 2\"),\n",
        "    (\"###\", \"Header 3\"),\n",
        "]\n",
        "\n",
        "for key in [\"algoritm\"]:\n",
        "    name = \"\"\n",
        "    with codecs.open(\"/content/drive/My Drive/V1/KIA (Транскрибация)/DB_\" + key + \".txt\", \"w\", encoding=encoding) as ts:\n",
        "        writer = csv.writer(ts, delimiter='\\t', lineterminator='\\n')\n",
        "        markdown_document = \"\"\n",
        "        with codecs.open(\"/content/drive/My Drive/V1/KIA (Транскрибация)/\" + key + \".txt\", \"r\", encoding=encoding) as fs:\n",
        "            while True:\n",
        "                fs_line = fs.readline().encode('utf-8', 'ignore').decode(encoding)\n",
        "                if not fs_line: break\n",
        "                name = re.match('<[^>]*>', fs_line)\n",
        "                name = name.encode(encoding, 'ignore').decode('utf-8') if name else \"\"\n",
        "                markdown_document += re.sub('<[^>]*>', '', fs_line).encode(encoding, 'ignore').decode('utf-8')\n",
        "        # MD splits\n",
        "        markdown_splitter = MarkdownHeaderTextSplitter(headers_to_split_on=headers_to_split_on)\n",
        "        md_header_splits = markdown_splitter.split_text(markdown_document)\n",
        "\n",
        "        # Char-level splits\n",
        "        chunk_size = 1024\n",
        "        chunk_overlap = 30\n",
        "        text_splitter = RecursiveCharacterTextSplitter(\n",
        "            chunk_size=chunk_size, chunk_overlap=chunk_overlap\n",
        "        )\n",
        "\n",
        "        # Split\n",
        "        splits = text_splitter.split_documents(md_header_splits)\n",
        "        cnt = 0\n",
        "        for split in splits:\n",
        "            cnt = cnt + 1\n",
        "            writer.writerow([str(NUMBERS[key] + cnt), split.page_content.encode('latin-1', 'ignore').decode(encoding)])"
      ],
      "metadata": {
        "id": "fTAq4M1b2O2w"
      },
      "execution_count": null,
      "outputs": []
    },
    {
      "cell_type": "code",
      "source": [],
      "metadata": {
        "id": "mrbpcj-42Vub"
      },
      "execution_count": null,
      "outputs": []
    }
  ]
}