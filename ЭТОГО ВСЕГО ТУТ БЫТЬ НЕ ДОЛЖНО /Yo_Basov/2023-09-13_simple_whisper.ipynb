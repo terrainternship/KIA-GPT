{
  "nbformat": 4,
  "nbformat_minor": 0,
  "metadata": {
    "colab": {
      "provenance": [],
      "gpuType": "T4"
    },
    "kernelspec": {
      "name": "python3",
      "display_name": "Python 3"
    },
    "language_info": {
      "name": "python"
    },
    "accelerator": "GPU"
  },
  "cells": [
    {
      "cell_type": "markdown",
      "source": [
        "## **🔰 Упрощенный код для Whisper [ver.2 Google Colab] 08-09-2023**"
      ],
      "metadata": {
        "id": "my1rGPUBVO8x"
      }
    },
    {
      "cell_type": "markdown",
      "source": [
        "Полезные ссылки:\n",
        "\n",
        "- **[Запуск whisper на Windows](https://www.itworks.hu/accelerating-speech-recognition-with-whisper-and-gpus-on-windows-11/)**\n",
        "\n",
        "- **[Быстрые курсы по регулярным выражениям](https://regexlearn.com/ru/learn)**"
      ],
      "metadata": {
        "id": "XPznWvRvVDXi"
      }
    },
    {
      "cell_type": "code",
      "source": [
        "!ls -ahl"
      ],
      "metadata": {
        "id": "MBtILYQWVFxO"
      },
      "execution_count": null,
      "outputs": []
    },
    {
      "cell_type": "code",
      "execution_count": null,
      "metadata": {
        "cellView": "form",
        "id": "kVLoEruHi5gv"
      },
      "outputs": [],
      "source": [
        "#@markdown Проврека выделенной видео-карты (нужна T4 или выше)\n",
        "!nvidia-smi\n",
        "!nvidia-smi --query-gpu=name --format=csv,noheader,nounits\n"
      ]
    },
    {
      "cell_type": "code",
      "execution_count": null,
      "metadata": {
        "id": "PcbIvCXpfyjZ"
      },
      "outputs": [],
      "source": [
        "# Установка yt-dlp\n",
        "!pip install -q yt-dlp"
      ]
    },
    {
      "cell_type": "code",
      "execution_count": null,
      "metadata": {
        "id": "-tJFNGlCHr22"
      },
      "outputs": [],
      "source": [
        "# Список ссылок для загрузки\n",
        "\n",
        "urls_list = [\n",
        "    \"https://youtu.be/ih_B0-Y9gNE\",\n",
        "    \"https://youtu.be/6DG5gzCXoRg?list=TLGGjOElj14_uCEyNTA4MjAyMw\",\n",
        "    \"https://youtu.be/V1rcD1gDu9k\",\n",
        "    \"https://www.youtube.com/embed/ih_B0-Y9gNE?iv_load_policy=3&autoplay=1&rel=0&version=3&loop=1&playlist=ih_B0-Y9gNE\"\n",
        "]"
      ]
    },
    {
      "cell_type": "code",
      "execution_count": null,
      "metadata": {
        "id": "DPFaJzW8Ht5-"
      },
      "outputs": [],
      "source": [
        "# Функция очистки ссылок\n",
        "import re\n",
        "\n",
        "def clean_youtube_url(url: str) -> str:\n",
        "    \"\"\"\n",
        "    Преобразует любую ссылку на видео YouTube в формат короткой ссылки (https://youtu.be/ID_ВИДЕО).\n",
        "\n",
        "    Параметры:\n",
        "        url (str): Исходная ссылка на видео на YouTube.\n",
        "\n",
        "    Возвращает:\n",
        "        str: Короткая ссылка на видео или None, если исходная ссылка не соответствует формату YouTube.\n",
        "\n",
        "    Пример:\n",
        "        >>> clean_youtube_url(\"https://www.youtube.com/watch?v=dQw4w9WgXcQ\")\n",
        "        \"https://youtu.be/dQw4w9WgXcQ\"\n",
        "    \"\"\"\n",
        "\n",
        "    # Регулярное выражение для поиска идентификаторов видео YouTube:\n",
        "    # 1. (?:https?:\\/\\/)? - необязательный протокол (http или https).\n",
        "    # 2. (?:www\\.)? - необязательный префикс \"www\".\n",
        "    # 3. (?:youtube\\.com\\/(?:watch\\?v=|embed\\/)|youtu\\.be\\/) - паттерн для длинных (стандартных и embed) и коротких ссылок YouTube.\n",
        "    # 4. ([a-zA-Z0-9_-]{11}) - идентификатор видео, состоящий из 11 символов.\n",
        "    pattern = r\"(?:https?:\\/\\/)?(?:www\\.)?(?:youtube\\.com\\/(?:watch\\?v=|embed\\/)|youtu\\.be\\/)([a-zA-Z0-9_-]{11})\"\n",
        "\n",
        "    # Поиск совпадения с помощью регулярного выражения\n",
        "    match = re.search(pattern, url)\n",
        "    if match:\n",
        "        # Если найдено совпадение, извлекаем идентификатор видео\n",
        "        video_id = match.group(1)\n",
        "        return f\"https://youtu.be/{video_id}\"\n",
        "    else:\n",
        "        return None"
      ]
    },
    {
      "cell_type": "code",
      "execution_count": null,
      "metadata": {
        "id": "K2Nqm1-MINeo"
      },
      "outputs": [],
      "source": [
        "# Создаем список \"очищенных\" коротких ссылок на видео YouTube.\n",
        "# Все недопустимые или неподходящие ссылки будут проигнорированы.\n",
        "cleaned_urls = set(filter(None, map(clean_youtube_url, urls_list)))\n",
        "\n",
        "# Выводим результат\n",
        "print(cleaned_urls)"
      ]
    },
    {
      "cell_type": "code",
      "execution_count": null,
      "metadata": {
        "id": "t0bkr5EUIl67"
      },
      "outputs": [],
      "source": [
        "# Функция загрузки видео в формате m4a (аудиофайл) с YouTube в директоррию /content/videos/\n",
        "import subprocess\n",
        "\n",
        "def download_video(url: str) -> None:\n",
        "    \"\"\"\n",
        "    Загружает видео с YouTube в формате m4a (аудиофайл) и сохраняет в директории /content/audios/.\n",
        "\n",
        "    Параметры:\n",
        "        url (str): Ссылка на видео на YouTube.\n",
        "\n",
        "    Пример:\n",
        "        >>> download_video(\"https://www.youtube.com/watch?v=dQw4w9WgXcQ\")\n",
        "        ...\n",
        "    \"\"\"\n",
        "\n",
        "    # Команда для yt-dlp, которая:\n",
        "    # 1. Использует опцию \"-x\" для извлечения аудио.\n",
        "    # 2. Устанавливает формат аудио в \"m4a\".\n",
        "    # 3. Определяет путь для сохранения файла.\n",
        "    cmd = [\n",
        "        \"yt-dlp\",\n",
        "        \"-x\",\n",
        "        \"--audio-format\", \"m4a\",\n",
        "        \"-o\", \"/content/audios/%(title)s.%(ext)s\",\n",
        "        url\n",
        "    ]\n",
        "\n",
        "    try:\n",
        "        # Инициализация подпроцесса с заданной командой.\n",
        "        # stdout=subprocess.PIPE позволяет читать вывод в реальном времени.\n",
        "        process = subprocess.Popen(cmd, stdout=subprocess.PIPE, stderr=subprocess.STDOUT, text=True)\n",
        "\n",
        "        # Чтение вывода команды в реальном времени и его вывод на экран.\n",
        "        for line in process.stdout:\n",
        "            print(line.strip())\n",
        "\n",
        "        # Ожидание завершения подпроцесса и получение кода завершения.\n",
        "        return_code = process.wait()\n",
        "\n",
        "        # Если процесс завершился с ошибкой (не нулевой код завершения), генерируем исключение.\n",
        "        if return_code != 0:\n",
        "            raise subprocess.CalledProcessError(return_code, cmd)\n",
        "\n",
        "    # Обработка исключений при выполнении команды.\n",
        "    except subprocess.CalledProcessError as e:\n",
        "        print(f\"Ошибка при обработке ссылки {url}:\")\n",
        "        print(str(e))"
      ]
    },
    {
      "cell_type": "code",
      "execution_count": null,
      "metadata": {
        "id": "e8v-LIimJM4G"
      },
      "outputs": [],
      "source": [
        "# Перебор каждой очищенной ссылки из списка cleaned_urls.\n",
        "# Для каждой ссылки будет вызвана функция download_video,\n",
        "# которая загрузит видео в формате m4a и сохранит его в директории /content/audios/.\n",
        "for url in cleaned_urls:\n",
        "    download_video(url)"
      ]
    },
    {
      "cell_type": "code",
      "execution_count": null,
      "metadata": {
        "id": "70vucUET-q4R"
      },
      "outputs": [],
      "source": [
        "# Установка whisper\n",
        "!pip install -q git+https://github.com/openai/whisper.git"
      ]
    },
    {
      "cell_type": "code",
      "execution_count": null,
      "metadata": {
        "id": "AU-xLnn6nFgX"
      },
      "outputs": [],
      "source": [
        "import os\n",
        "from typing import List\n",
        "\n",
        "def _construct_whisper_command(input_path: str, output_dir: str) -> List[str]:\n",
        "    \"\"\"\n",
        "    Формирование команды для программы whisper.\n",
        "\n",
        "    Args:\n",
        "    - input_path (str): Путь к исходному аудиофайлу.\n",
        "    - output_dir (str): Путь к директории, где сохранить результаты транскрибации.\n",
        "\n",
        "    Returns:\n",
        "    - List[str]: Список аргументов для команды whisper.\n",
        "\n",
        "    Команда whisper используется для автоматической транскрибации аудиозаписей.\n",
        "    В данной функции мы формируем список аргументов для этой команды:\n",
        "    1. `--model large-v2`: использование улучшенной большой модели (версии 2) для транскрибации.\n",
        "    2. `--language ru`: указание языка речи на русском.\n",
        "    3. `--device cuda`: использование графического процессора (GPU) для ускорения транскрибации.\n",
        "    4. `--output_format txt`: формат вывода результатов транскрибации в текстовом файле.\n",
        "    \"\"\"\n",
        "    return [\n",
        "        'whisper',\n",
        "        input_path,\n",
        "        '--model', \"large-v2\",\n",
        "        '--language', 'ru',\n",
        "        '--device', 'cuda',\n",
        "        '--output_format', 'all',\n",
        "        '--output_dir', output_dir\n",
        "    ]\n",
        "\n",
        "\n",
        "def transcribe_audio_files(input_directory: str, output_directory: str) -> None:\n",
        "    \"\"\"\n",
        "    Транскрибирование всех аудиофайлов из указанной директории с помощью whisper.\n",
        "\n",
        "    Args:\n",
        "    - input_directory (str): Директория с исходными аудиофайлами.\n",
        "    - output_directory (str): Директория для сохранения результатов транскрибации.\n",
        "\n",
        "    Для каждого файла из `input_directory` запускается процесс транскрибации.\n",
        "    Результаты сохраняются в поддиректории `output_directory`, где каждая поддиректория соответствует одному аудиофайлу.\n",
        "    \"\"\"\n",
        "\n",
        "    # Проверка наличия выходной директории и её создание при отсутствии\n",
        "    if not os.path.exists(output_directory):\n",
        "        os.makedirs(output_directory)\n",
        "\n",
        "    # Формирование списка аудиофайлов с расширением .m4a\n",
        "    files = [f for f in os.listdir(input_directory) if os.path.isfile(os.path.join(input_directory, f)) and f.endswith('.m4a')]\n",
        "\n",
        "    # Для каждого аудиофайла:\n",
        "    for file in files:\n",
        "        input_path = os.path.join(input_directory, file)\n",
        "\n",
        "        # Имя поддиректории формируется на основе имени файла без расширения\n",
        "        subdir_name = os.path.splitext(file)[0]\n",
        "        subdir_path = os.path.join(output_directory, subdir_name)\n",
        "\n",
        "        # Информирование пользователя о текущем файле\n",
        "        print(f\"Транскрибирование файла: {file}...\")\n",
        "\n",
        "        # Формирование команды для whisper\n",
        "        cmd = _construct_whisper_command(input_path, subdir_path)\n",
        "\n",
        "        # Запуск процесса транскрибации и вывод результатов в реальном времени\n",
        "        with subprocess.Popen(cmd, stdout=subprocess.PIPE, text=True) as process:\n",
        "            for line in iter(process.stdout.readline, ''):\n",
        "                print(line, end='')  # Вывод строки в реальном времени\n",
        "            print(f\"\\nТранскрибирование файла {file} завершено.\")\n"
      ]
    },
    {
      "cell_type": "code",
      "execution_count": null,
      "metadata": {
        "id": "dq1GPfa8np_i"
      },
      "outputs": [],
      "source": [
        "transcribe_audio_files('/content/audios', '/content/out')"
      ]
    },
    {
      "cell_type": "code",
      "source": [
        "!ls -ahl /content/audios"
      ],
      "metadata": {
        "id": "uF88UDDuXvqx"
      },
      "execution_count": null,
      "outputs": []
    },
    {
      "cell_type": "code",
      "source": [
        "!ls -ahl /content/out"
      ],
      "metadata": {
        "id": "RezafyWKXx7l"
      },
      "execution_count": null,
      "outputs": []
    },
    {
      "cell_type": "code",
      "source": [
        "!zip -r /content/out.zip /content/out"
      ],
      "metadata": {
        "id": "h-9DxvMxmZz7"
      },
      "execution_count": null,
      "outputs": []
    },
    {
      "cell_type": "code",
      "source": [
        "from google.colab import files\n",
        "files.download(\"/content/out.zip\")"
      ],
      "metadata": {
        "id": "5U5GK2SHmeIy"
      },
      "execution_count": null,
      "outputs": []
    }
  ]
}