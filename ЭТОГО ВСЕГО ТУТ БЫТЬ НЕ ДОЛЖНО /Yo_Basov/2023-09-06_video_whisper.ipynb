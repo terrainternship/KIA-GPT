{
  "cells": [
    {
      "cell_type": "markdown",
      "source": [
        "Whisper.\n",
        "* model_size  = \"large-v2\"\n",
        "* language = \"russian\"\n",
        "\n",
        "Включите поддержку GPU\n"
      ],
      "metadata": {
        "id": "uU1HdvltFgaK"
      }
    },
    {
      "cell_type": "markdown",
      "metadata": {
        "id": "xxXuAfOUyjXq"
      },
      "source": [
        "## Зависимости, импорты и настройка"
      ]
    },
    {
      "cell_type": "code",
      "execution_count": null,
      "metadata": {
        "ExecuteTime": {
          "end_time": "2023-04-17T11:38:26.210036Z",
          "start_time": "2023-04-17T11:38:02.962717Z"
        },
        "id": "IWXr55NdyjXt",
        "cellView": "form",
        "colab": {
          "base_uri": "https://localhost:8080/"
        },
        "outputId": "e4baa424-aab1-46a5-da89-b0e5b19e9a78"
      },
      "outputs": [
        {
          "output_type": "stream",
          "name": "stderr",
          "text": [
            "100%|█████████████████████████████████████| 2.87G/2.87G [00:44<00:00, 69.0MiB/s]\n"
          ]
        },
        {
          "output_type": "stream",
          "name": "stdout",
          "text": [
            "Загружена модель Whisper large-v2\n",
            "Введите секретный ключ для сервиса chatGPT: ··········\n",
            "Mounted at /content/drive\n"
          ]
        }
      ],
      "source": [
        "#@title Устанавливаем зависимости\n",
        "!pip install -qq git+https://github.com/openai/whisper.git\n",
        "!pip install -qq langchain\n",
        "!pip install -qq openai\n",
        "!pip install -qq google-search-results\n",
        "# !pip install -qq chromadb\n",
        "!pip install -qq python-docx\n",
        "# !pip install -qq pytube\n",
        "!pip install -U pytube\n",
        "# !pip install -qq pytube==12.0.0\n",
        "!pip install -qq tiktoken\n",
        "\n",
        "from IPython.display import clear_output\n",
        "clear_output()\n",
        "\n",
        "\n",
        "import whisper\n",
        "try:\n",
        "  modelWhisper = whisper.load_model(\"large-v2\")\n",
        "  print(\"Загружена модель Whisper large-v2\")\n",
        "except:\n",
        "  print(\"ОШИБКА загрузки Whisper.\")\n",
        "\n",
        "\n",
        "import getpass\n",
        "import openai\n",
        "import os\n",
        "def get_key_ОpenAI():\n",
        "  openai.api_key = getpass.getpass(prompt='Введите секретный ключ для сервиса chatGPT: ')\n",
        "  os.environ[\"OPENAI_API_KEY\"] = openai.api_key\n",
        "\n",
        "get_key_ОpenAI()\n",
        "\n",
        "\n",
        "from google.colab import drive                    # Для работы с Google Drive\n",
        "drive.mount('/content/drive', force_remount=True)"
      ]
    },
    {
      "cell_type": "code",
      "source": [
        "#@title memory\n",
        "from psutil import virtual_memory\n",
        "ram_gb = virtual_memory().total / 1e9\n",
        "print('Your runtime has {:.1f} gigabytes of available RAM\\n'.format(ram_gb))\n",
        "\n",
        "if ram_gb < 20:\n",
        "  print('Not using a high-RAM runtime')\n",
        "else:\n",
        "  print('You are using a high-RAM runtime!')"
      ],
      "metadata": {
        "colab": {
          "base_uri": "https://localhost:8080/"
        },
        "cellView": "form",
        "id": "LNJU6Ay93M3K",
        "outputId": "2b870076-2350-4edb-e018-d02c096ccebf"
      },
      "execution_count": null,
      "outputs": [
        {
          "output_type": "stream",
          "name": "stdout",
          "text": [
            "Your runtime has 54.8 gigabytes of available RAM\n",
            "\n",
            "You are using a high-RAM runtime!\n"
          ]
        }
      ]
    },
    {
      "cell_type": "code",
      "execution_count": null,
      "metadata": {
        "ExecuteTime": {
          "end_time": "2023-04-17T12:43:48.565935Z",
          "start_time": "2023-04-17T12:43:48.554429Z"
        },
        "id": "GDkfX0GUyjXu",
        "cellView": "form"
      },
      "outputs": [],
      "source": [
        "#@title Импорт библиотек\n",
        "import os\n",
        "import re\n",
        "from pathlib import Path\n",
        "import json\n",
        "import ipywidgets as widgets\n",
        "from IPython.display import display\n",
        "from pytube import YouTube\n",
        "from tqdm.auto import tqdm\n",
        "import getpass\n",
        "import pickle\n",
        "\n",
        "import torch\n",
        "import tiktoken\n",
        "import whisper\n",
        "import openai\n",
        "\n",
        "from docx import Document\n",
        "from docx.enum.text import WD_PARAGRAPH_ALIGNMENT\n",
        "\n",
        "# Сохраняем во временное хранилище\n",
        "import codecs\n",
        "\n",
        "### @title  Импорты  OpenAI LLM\n",
        "from langchain.chains import ConversationChain         # Импортируем класс для создания цепочек диалогов\n",
        "from langchain.chat_models import ChatOpenAI           # Импортируем класс для работы с чатами на базе OpenAI\n",
        "from langchain.llms import OpenAI\n",
        "from langchain.memory import ConversationBufferMemory  # Импортируем класс для управления памятью диалогов\n",
        "from langchain.prompts import (\n",
        "    ChatPromptTemplate,\n",
        "    MessagesPlaceholder,\n",
        "    SystemMessagePromptTemplate,\n",
        "    HumanMessagePromptTemplate,\n",
        "    PromptTemplate\n",
        ")\n",
        "from langchain.schema import (\n",
        "    AIMessage,\n",
        "    HumanMessage,\n",
        "    SystemMessage\n",
        ")\n",
        "\n",
        "class WorkerWhisperОpenAI():\n",
        "  def __init__(self, video_path = None, \\\n",
        "               Name = \"Видео1\", \\\n",
        "               NameLessons = \"Имя Урока\", \\\n",
        "               modelWhisper  = None, \\\n",
        "               whisper_file = None, \\\n",
        "               result_json_file = None, \\\n",
        "               chunks_pickle_file = None, \\\n",
        "               SAVE_DIR = '/content/drive/MyDrive/Colab Notebooks/ChatGPT/Video/TXT/', \\\n",
        "               modelОpenAI = 'gpt-3.5-turbo-0613'):   # 0301\n",
        "\n",
        "    self.modelОpenAI = modelОpenAI\n",
        "    self.YouTube_video_title = Name\n",
        "    self.NameLessons = NameLessons\n",
        "    self.SAVE_DIR = SAVE_DIR\n",
        "    self.modelWhisper = modelWhisper\n",
        "\n",
        "    # self.get_key_ОpenAI()\n",
        "    self.encoding = tiktoken.encoding_for_model(self.modelОpenAI)\n",
        "    self.titles_model = ChatOpenAI(temperature=0.1, max_tokens=300)\n",
        "    self.summarization_model = ChatOpenAI(temperature=0.1, max_tokens=1000)\n",
        "\n",
        "    self.video_path = video_path\n",
        "\n",
        "    # загружаем сохраненный\n",
        "    if whisper_file:\n",
        "        with open(whisper_file, 'rb') as pick:\n",
        "          self.whisper_result = pickle.load(pick)\n",
        "\n",
        "    # загружаем сохраненный .json\n",
        "    if result_json_file:\n",
        "        with open(result_json_file, \"r\") as f:\n",
        "            self.whisper_result = json.load(f)\n",
        "\n",
        "    # загружаем сохраненный .pickle\n",
        "    if chunks_pickle_file:\n",
        "        with open(chunks_pickle_file, 'rb') as pick:\n",
        "          self.chunks = pickle.load(pick)\n",
        "\n",
        "\n",
        "  # Транскрибация\n",
        "  def get_whisper_result(self, ):\n",
        "\n",
        "      # RTX3090: 21 минут обработка видео длинной 2 часа 45 минут на модели large-v2\n",
        "      # Google Colab Tesla T4: 4 минут 52 секунды на обработку видео длинной 23 минуты 11 секунд на модели large-v2\n",
        "      self.whisper_result = self.modelWhisper.transcribe(str(self.video_path), fp16=True, language=\"russian\")\n",
        "\n",
        "      with open(f'{self.SAVE_DIR}{self.YouTube_video_title}_whisper.json', \"w\") as f:\n",
        "        f.write(str(self.whisper_result))\n",
        "\n",
        "      # with open(f'{self.SAVE_DIR}{self.YouTube_video_title}_whisper.pickle', 'wb') as pick:\n",
        "      #     pickle.dump(self.whisper_result, pick, protocol=pickle.HIGHEST_PROTOCOL)\n",
        "      print('Файл whisper сохранен.')\n",
        "\n",
        "### ---------------------------------------------------\n",
        "#### Группируем сегменты по токенам, чтобы в сегменте было не более 3000 токенов\n",
        "  def grouping_segments_by_tokens(self):\n",
        "\n",
        "      ## @title Группируем сегменты по предложениям\n",
        "      def merge_chunks_by_sentences(chunks):\n",
        "          merged_chunks = []\n",
        "          current_chunk = None\n",
        "          for chunk in chunks:\n",
        "              if not current_chunk:\n",
        "                  current_chunk = {\"text\": chunk[\"text\"]}\n",
        "              elif current_chunk[\"text\"][-1] in ['.', '!', '?']:\n",
        "                  merged_chunks.append(current_chunk)\n",
        "                  current_chunk = {\"text\": chunk[\"text\"]}\n",
        "              else:\n",
        "                  current_chunk[\"text\"] += \" \" + chunk[\"text\"]\n",
        "          if current_chunk:\n",
        "              merged_chunks.append(current_chunk)\n",
        "          return merged_chunks\n",
        "\n",
        "      sentences = merge_chunks_by_sentences(self.whisper_result[\"segments\"])\n",
        "      for sentence in sentences:\n",
        "          if sentence[\"text\"][-1] != \".\":\n",
        "            sentence[\"text\"] += \".\"\n",
        "\n",
        "      # with open(f'{self.SAVE_DIR}{self.YouTube_video_title}_collecting.pickle', 'wb') as pick:\n",
        "      #     pickle.dump(sentences, pick, protocol=pickle.HIGHEST_PROTOCOL)\n",
        "\n",
        "      print(f\"Ранее было предложений: {len(self.whisper_result['segments'])}\")\n",
        "      print(f\"Стало предложений: {len(sentences)}\")\n",
        "      print(\"Группируем сегменты по токенам.\")\n",
        "\n",
        "      #@title Группируем сегменты по токенам(не более 3000)\n",
        "      def merge_chunks_by_tokens(chunks, max_tokens=3000):\n",
        "          merged_chunks = []\n",
        "          current_chunk = None\n",
        "          for chunk_i, chunk in enumerate(chunks):\n",
        "              chunk_tokens_count = len(self.encoding.encode(chunk[\"text\"]))\n",
        "              if not current_chunk:\n",
        "                  current_chunk = {\"text\": chunk[\"text\"], \"tokens_count\": chunk_tokens_count}\n",
        "              elif chunk_tokens_count + current_chunk[\"tokens_count\"] > max_tokens:\n",
        "                  merged_chunks.append(current_chunk)\n",
        "                  assert current_chunk[\"tokens_count\"] <= max_tokens + 1, current_chunk[\"tokens_count\"]\n",
        "                  current_chunk = {\"text\": chunk[\"text\"], \"tokens_count\": chunk_tokens_count}\n",
        "              else:\n",
        "                  current_chunk[\"text\"] += \" \" + chunk[\"text\"]\n",
        "                  current_chunk[\"tokens_count\"] = len(self.encoding.encode(current_chunk[\"text\"]))\n",
        "\n",
        "          if current_chunk:\n",
        "              merged_chunks.append(current_chunk)\n",
        "          return merged_chunks\n",
        "\n",
        "      try:\n",
        "        self.chunks = merge_chunks_by_tokens(sentences)\n",
        "        print(f\"Было предложений: {len(sentences)}\")\n",
        "        print(f\"Сгруппировали на  {len(self.chunks)}  блоков\")\n",
        "      except:\n",
        "        self.chunks = merge_chunks_by_tokens(self.whisper_result[\"segments\"])\n",
        "        print(f\"Альтернативный вариант. =========\")\n",
        "        print(f\"Сгруппировали на  {len(self.chunks)}  блоков\")\n",
        "\n",
        "      # with open(f'{self.SAVE_DIR}{self.YouTube_video_title}_chunks.pickle', 'wb') as pick:\n",
        "      #     pickle.dump(self.chunks, pick, protocol=pickle.HIGHEST_PROTOCOL)\n",
        "      # print('Сгруппированные chunks - файл .pickle сохранен.')\n",
        "\n",
        "      # # Создаем новый документ\n",
        "      new_txt = ''\n",
        "      for chunk_i, chunk in enumerate(self.chunks):\n",
        "          new_txt +=f\"<Chunk>\\n Урок:{self.NameLessons}\\n\"\n",
        "          new_txt +=chunk[\"text\"] + \"\\n\\n\"\n",
        "\n",
        "      with open(f'{self.SAVE_DIR}{self.YouTube_video_title}_grouping.txt', \"w\") as f:\n",
        "        f.write(str(new_txt))\n",
        "      print(\"Создали новый документ\")\n",
        "\n",
        "### ---------------------------------------------------\n",
        "# Собираем итоговую суммаризацию.\n",
        "  def summarization(self):\n",
        "      print('Генерируем заголовки')\n",
        "      # Генерируем заголовки\n",
        "      for chunk in tqdm(self.chunks):\n",
        "          messages = [\n",
        "              SystemMessage(content=\"\"\"\n",
        "Ты профессиональный копирайтер.\n",
        "Сделай короткий заголовок для фрагмента текста Лекции.\n",
        "Необходимо уложиться в 300 токенов.\n",
        "\"\"\"),\n",
        "              HumanMessage(content=chunk[\"text\"])\n",
        "          ]\n",
        "          res = self.titles_model(messages)\n",
        "          chunk[\"title\"] = res.content\n",
        "\n",
        "      print('Генерируем пересказ')\n",
        "      # Генерируем пересказ\n",
        "      for chunk in tqdm(self.chunks):\n",
        "          messages = [\n",
        "              SystemMessage(content=\"\"\"\n",
        "Ты профессиональный копирайтер. У тебя большой опыт работы с Бизнесом в разных сферах, ты качественно структурируешь текст на Русском языке.\n",
        "\n",
        "Сделай формальный технический пересказ того, о чем рассказывает лектор на семинаре. Пиши от имени Лектора.\n",
        "Необходимо уложиться в 1000 токенов.\n",
        "\"\"\"),\n",
        "              HumanMessage(content=chunk[\"text\"])\n",
        "          ]\n",
        "          res = self.summarization_model(messages)\n",
        "          chunk[\"summarization\"] = res.content\n",
        "\n",
        "      # # Создаем новый документ\n",
        "      new_txt = ''\n",
        "      for chunk_i, chunk in enumerate(self.chunks):\n",
        "          new_txt +=f\"<Chunk>\\n Урок:{self.NameLessons}\\n\"\n",
        "          new_txt +=f\"Тема: {chunk['title']}\\n\"\n",
        "          new_txt +=chunk[\"summarization\"] + \"\\n\\n\"\n",
        "\n",
        "      with open(f'{self.SAVE_DIR}{self.YouTube_video_title}_summ.txt', \"w\") as f:\n",
        "        f.write(str(new_txt))\n",
        "      print(\"Создали новый документ\")\n",
        "\n",
        "\n",
        "clear_output()"
      ]
    },
    {
      "cell_type": "markdown",
      "metadata": {
        "id": "UxaobVYRyjXw"
      },
      "source": [
        "## Транскрибация"
      ]
    },
    {
      "cell_type": "code",
      "source": [
        "# https://youtu.be/twTVQ2F7Xnw\n",
        "YouTube_video_title = \"Систематизация. 1 занятие\"\n",
        "NameLessons = \"Систематизация бизнеса. Занятие №1.\"\n",
        "SAVE_DIR = '/content/drive/MyDrive/_Projects_GPT/УИИ/'\n",
        "project_name = 'TXT_УИИ/'\n",
        "\n",
        "project_path = SAVE_DIR + project_name\n",
        "video_path = f'{SAVE_DIR}Video/{YouTube_video_title}.mp4'\n",
        "whisper_path = f'{SAVE_DIR}{project_name}{YouTube_video_title}_whisper.pickle'\n"
      ],
      "metadata": {
        "id": "SAUCDoyEFq08"
      },
      "execution_count": null,
      "outputs": []
    },
    {
      "cell_type": "code",
      "source": [
        "# Готовим класс для работы\n",
        "nature = WorkerWhisperОpenAI(video_path = video_path, \\\n",
        "                             Name = YouTube_video_title, \\\n",
        "                             NameLessons = NameLessons, \\\n",
        "                             modelWhisper = modelWhisper,\\\n",
        "                             SAVE_DIR = project_path)\n",
        "\n",
        "# nature = WorkerWhisperОpenAI(Name = YouTube_video_title, \\\n",
        "#                              whisper_file = whisper_path)\n",
        "\n",
        "# nature = WorkerWhisperОpenAI(Name = YouTube_video_title, \\\n",
        "#                              chunks_pickle_file = CHUNKS_pickle_file)"
      ],
      "metadata": {
        "id": "oVgYS9tddD8p"
      },
      "execution_count": null,
      "outputs": []
    },
    {
      "cell_type": "code",
      "source": [
        "# Транскрибация\n",
        "%%time\n",
        "nature.get_whisper_result()"
      ],
      "metadata": {
        "id": "k0peed_N5nMh",
        "colab": {
          "base_uri": "https://localhost:8080/"
        },
        "outputId": "7c9f3c79-6566-4759-c15f-faa87a56e756"
      },
      "execution_count": null,
      "outputs": [
        {
          "output_type": "stream",
          "name": "stdout",
          "text": [
            "Файл whisper сохранен.\n",
            "CPU times: user 1h 29min 56s, sys: 34.8 s, total: 1h 30min 31s\n",
            "Wall time: 1h 30min 27s\n"
          ]
        }
      ]
    },
    {
      "cell_type": "code",
      "source": [
        "# Группируем сегменты по токенам\n",
        "%%time\n",
        "nature.grouping_segments_by_tokens()"
      ],
      "metadata": {
        "id": "7lBtW1vJKhK-",
        "colab": {
          "base_uri": "https://localhost:8080/"
        },
        "outputId": "9a02403b-cb73-4cb8-e36b-04a8a8b295ed"
      },
      "execution_count": null,
      "outputs": [
        {
          "output_type": "stream",
          "name": "stdout",
          "text": [
            "Ранее было предложений: 3733\n",
            "Стало предложений: 1897\n",
            "Группируем сегменты по токенам.\n",
            "Альтернативный вариант. =========\n",
            "Сгруппировали на  41  блоков\n",
            "Сгруппированные chunks - файл .pickle сохранен.\n",
            "Создали новый документ\n",
            "CPU times: user 6.35 s, sys: 5.02 ms, total: 6.36 s\n",
            "Wall time: 6.34 s\n"
          ]
        }
      ]
    },
    {
      "cell_type": "code",
      "source": [
        "# Собираем итоговую суммаризацию.\n",
        "# Генерация субтитров и анализ текста\n",
        "%%time\n",
        "nature.summarization()"
      ],
      "metadata": {
        "id": "0uuR6hlKKwz1",
        "colab": {
          "base_uri": "https://localhost:8080/",
          "height": 223,
          "referenced_widgets": [
            "abbc9ed5807d46569480ea6d6c1f2c5e",
            "00d53b387518443cbd976bdee1df94f0",
            "e53366c5a0284312b9bf98fd5715d34f",
            "bf7526f495d947baa7b1250e7b986cad",
            "fc4fa159ed77448ea738094ddd3ffd6a",
            "c0b473d8880f4d85a71bcbe396cf8550",
            "1a5fb0b267954f558c1c974e09a6d1f6",
            "0f6eb28131464678b8deaa2588b6fbc9",
            "7eb759f45ebf428daa80069e1da7cf7e",
            "8aec5a8c6cef4a93a3b90f1dc0fbab90",
            "6acff3af07d749d6b84f06baad5d9626",
            "0ae77c4afba0426492c781a4d29f700e",
            "a76e03a362754dd0bdf2a40760e991b9",
            "4f9abbce681f4fb4b515432664e86549",
            "f805af4f55704d43b6356a7353111061",
            "3c34bfe684c54760914175d9e16e0bbb",
            "d937dd0bdd2049f98d90779d546dee1b",
            "f303850bcbc64e4a9be801be1eb732ba",
            "67a495298b224cf4b624627823c2b413",
            "ba4df08f6f844925a4399be514b93aab",
            "6da61515fe0b4973902585ade9eec48f",
            "b9804112274d4835844673ee6979d037"
          ]
        },
        "outputId": "d1b044c0-0199-40f0-d792-a5357fcc852f"
      },
      "execution_count": null,
      "outputs": [
        {
          "output_type": "stream",
          "name": "stdout",
          "text": [
            "Генерируем заголовки\n"
          ]
        },
        {
          "output_type": "display_data",
          "data": {
            "text/plain": [
              "  0%|          | 0/41 [00:00<?, ?it/s]"
            ],
            "application/vnd.jupyter.widget-view+json": {
              "version_major": 2,
              "version_minor": 0,
              "model_id": "abbc9ed5807d46569480ea6d6c1f2c5e"
            }
          },
          "metadata": {}
        },
        {
          "output_type": "stream",
          "name": "stderr",
          "text": [
            "WARNING:langchain.llms.base:Retrying langchain.chat_models.openai.ChatOpenAI.completion_with_retry.<locals>._completion_with_retry in 4.0 seconds as it raised Timeout: Request timed out: HTTPSConnectionPool(host='api.openai.com', port=443): Read timed out. (read timeout=600).\n"
          ]
        },
        {
          "output_type": "stream",
          "name": "stdout",
          "text": [
            "Генерируем пересказ\n"
          ]
        },
        {
          "output_type": "display_data",
          "data": {
            "text/plain": [
              "  0%|          | 0/41 [00:00<?, ?it/s]"
            ],
            "application/vnd.jupyter.widget-view+json": {
              "version_major": 2,
              "version_minor": 0,
              "model_id": "0ae77c4afba0426492c781a4d29f700e"
            }
          },
          "metadata": {}
        },
        {
          "output_type": "stream",
          "name": "stderr",
          "text": [
            "WARNING:langchain.llms.base:Retrying langchain.chat_models.openai.ChatOpenAI.completion_with_retry.<locals>._completion_with_retry in 4.0 seconds as it raised Timeout: Request timed out: HTTPSConnectionPool(host='api.openai.com', port=443): Read timed out. (read timeout=600).\n"
          ]
        },
        {
          "output_type": "stream",
          "name": "stdout",
          "text": [
            "Создали новый документ\n",
            "CPU times: user 6.97 s, sys: 1.18 s, total: 8.15 s\n",
            "Wall time: 26min 15s\n"
          ]
        }
      ]
    }
  ],
  "metadata": {
    "kernelspec": {
      "display_name": "Python 3",
      "name": "python3"
    },
    "language_info": {
      "codemirror_mode": {
        "name": "ipython",
        "version": 3
      },
      "file_extension": ".py",
      "mimetype": "text/x-python",
      "name": "python",
      "nbconvert_exporter": "python",
      "pygments_lexer": "ipython3",
      "version": "3.9.16"
    },
    "colab": {
      "provenance": [],
      "gpuType": "T4",
      "machine_shape": "hm"
    },
    "accelerator": "GPU",
    "widgets": {
      "application/vnd.jupyter.widget-state+json": {
        "abbc9ed5807d46569480ea6d6c1f2c5e": {
          "model_module": "@jupyter-widgets/controls",
          "model_name": "HBoxModel",
          "model_module_version": "1.5.0",
          "state": {
            "_dom_classes": [],
            "_model_module": "@jupyter-widgets/controls",
            "_model_module_version": "1.5.0",
            "_model_name": "HBoxModel",
            "_view_count": null,
            "_view_module": "@jupyter-widgets/controls",
            "_view_module_version": "1.5.0",
            "_view_name": "HBoxView",
            "box_style": "",
            "children": [
              "IPY_MODEL_00d53b387518443cbd976bdee1df94f0",
              "IPY_MODEL_e53366c5a0284312b9bf98fd5715d34f",
              "IPY_MODEL_bf7526f495d947baa7b1250e7b986cad"
            ],
            "layout": "IPY_MODEL_fc4fa159ed77448ea738094ddd3ffd6a"
          }
        },
        "00d53b387518443cbd976bdee1df94f0": {
          "model_module": "@jupyter-widgets/controls",
          "model_name": "HTMLModel",
          "model_module_version": "1.5.0",
          "state": {
            "_dom_classes": [],
            "_model_module": "@jupyter-widgets/controls",
            "_model_module_version": "1.5.0",
            "_model_name": "HTMLModel",
            "_view_count": null,
            "_view_module": "@jupyter-widgets/controls",
            "_view_module_version": "1.5.0",
            "_view_name": "HTMLView",
            "description": "",
            "description_tooltip": null,
            "layout": "IPY_MODEL_c0b473d8880f4d85a71bcbe396cf8550",
            "placeholder": "​",
            "style": "IPY_MODEL_1a5fb0b267954f558c1c974e09a6d1f6",
            "value": "100%"
          }
        },
        "e53366c5a0284312b9bf98fd5715d34f": {
          "model_module": "@jupyter-widgets/controls",
          "model_name": "FloatProgressModel",
          "model_module_version": "1.5.0",
          "state": {
            "_dom_classes": [],
            "_model_module": "@jupyter-widgets/controls",
            "_model_module_version": "1.5.0",
            "_model_name": "FloatProgressModel",
            "_view_count": null,
            "_view_module": "@jupyter-widgets/controls",
            "_view_module_version": "1.5.0",
            "_view_name": "ProgressView",
            "bar_style": "success",
            "description": "",
            "description_tooltip": null,
            "layout": "IPY_MODEL_0f6eb28131464678b8deaa2588b6fbc9",
            "max": 41,
            "min": 0,
            "orientation": "horizontal",
            "style": "IPY_MODEL_7eb759f45ebf428daa80069e1da7cf7e",
            "value": 41
          }
        },
        "bf7526f495d947baa7b1250e7b986cad": {
          "model_module": "@jupyter-widgets/controls",
          "model_name": "HTMLModel",
          "model_module_version": "1.5.0",
          "state": {
            "_dom_classes": [],
            "_model_module": "@jupyter-widgets/controls",
            "_model_module_version": "1.5.0",
            "_model_name": "HTMLModel",
            "_view_count": null,
            "_view_module": "@jupyter-widgets/controls",
            "_view_module_version": "1.5.0",
            "_view_name": "HTMLView",
            "description": "",
            "description_tooltip": null,
            "layout": "IPY_MODEL_8aec5a8c6cef4a93a3b90f1dc0fbab90",
            "placeholder": "​",
            "style": "IPY_MODEL_6acff3af07d749d6b84f06baad5d9626",
            "value": " 41/41 [10:46&lt;00:00,  1.05s/it]"
          }
        },
        "fc4fa159ed77448ea738094ddd3ffd6a": {
          "model_module": "@jupyter-widgets/base",
          "model_name": "LayoutModel",
          "model_module_version": "1.2.0",
          "state": {
            "_model_module": "@jupyter-widgets/base",
            "_model_module_version": "1.2.0",
            "_model_name": "LayoutModel",
            "_view_count": null,
            "_view_module": "@jupyter-widgets/base",
            "_view_module_version": "1.2.0",
            "_view_name": "LayoutView",
            "align_content": null,
            "align_items": null,
            "align_self": null,
            "border": null,
            "bottom": null,
            "display": null,
            "flex": null,
            "flex_flow": null,
            "grid_area": null,
            "grid_auto_columns": null,
            "grid_auto_flow": null,
            "grid_auto_rows": null,
            "grid_column": null,
            "grid_gap": null,
            "grid_row": null,
            "grid_template_areas": null,
            "grid_template_columns": null,
            "grid_template_rows": null,
            "height": null,
            "justify_content": null,
            "justify_items": null,
            "left": null,
            "margin": null,
            "max_height": null,
            "max_width": null,
            "min_height": null,
            "min_width": null,
            "object_fit": null,
            "object_position": null,
            "order": null,
            "overflow": null,
            "overflow_x": null,
            "overflow_y": null,
            "padding": null,
            "right": null,
            "top": null,
            "visibility": null,
            "width": null
          }
        },
        "c0b473d8880f4d85a71bcbe396cf8550": {
          "model_module": "@jupyter-widgets/base",
          "model_name": "LayoutModel",
          "model_module_version": "1.2.0",
          "state": {
            "_model_module": "@jupyter-widgets/base",
            "_model_module_version": "1.2.0",
            "_model_name": "LayoutModel",
            "_view_count": null,
            "_view_module": "@jupyter-widgets/base",
            "_view_module_version": "1.2.0",
            "_view_name": "LayoutView",
            "align_content": null,
            "align_items": null,
            "align_self": null,
            "border": null,
            "bottom": null,
            "display": null,
            "flex": null,
            "flex_flow": null,
            "grid_area": null,
            "grid_auto_columns": null,
            "grid_auto_flow": null,
            "grid_auto_rows": null,
            "grid_column": null,
            "grid_gap": null,
            "grid_row": null,
            "grid_template_areas": null,
            "grid_template_columns": null,
            "grid_template_rows": null,
            "height": null,
            "justify_content": null,
            "justify_items": null,
            "left": null,
            "margin": null,
            "max_height": null,
            "max_width": null,
            "min_height": null,
            "min_width": null,
            "object_fit": null,
            "object_position": null,
            "order": null,
            "overflow": null,
            "overflow_x": null,
            "overflow_y": null,
            "padding": null,
            "right": null,
            "top": null,
            "visibility": null,
            "width": null
          }
        },
        "1a5fb0b267954f558c1c974e09a6d1f6": {
          "model_module": "@jupyter-widgets/controls",
          "model_name": "DescriptionStyleModel",
          "model_module_version": "1.5.0",
          "state": {
            "_model_module": "@jupyter-widgets/controls",
            "_model_module_version": "1.5.0",
            "_model_name": "DescriptionStyleModel",
            "_view_count": null,
            "_view_module": "@jupyter-widgets/base",
            "_view_module_version": "1.2.0",
            "_view_name": "StyleView",
            "description_width": ""
          }
        },
        "0f6eb28131464678b8deaa2588b6fbc9": {
          "model_module": "@jupyter-widgets/base",
          "model_name": "LayoutModel",
          "model_module_version": "1.2.0",
          "state": {
            "_model_module": "@jupyter-widgets/base",
            "_model_module_version": "1.2.0",
            "_model_name": "LayoutModel",
            "_view_count": null,
            "_view_module": "@jupyter-widgets/base",
            "_view_module_version": "1.2.0",
            "_view_name": "LayoutView",
            "align_content": null,
            "align_items": null,
            "align_self": null,
            "border": null,
            "bottom": null,
            "display": null,
            "flex": null,
            "flex_flow": null,
            "grid_area": null,
            "grid_auto_columns": null,
            "grid_auto_flow": null,
            "grid_auto_rows": null,
            "grid_column": null,
            "grid_gap": null,
            "grid_row": null,
            "grid_template_areas": null,
            "grid_template_columns": null,
            "grid_template_rows": null,
            "height": null,
            "justify_content": null,
            "justify_items": null,
            "left": null,
            "margin": null,
            "max_height": null,
            "max_width": null,
            "min_height": null,
            "min_width": null,
            "object_fit": null,
            "object_position": null,
            "order": null,
            "overflow": null,
            "overflow_x": null,
            "overflow_y": null,
            "padding": null,
            "right": null,
            "top": null,
            "visibility": null,
            "width": null
          }
        },
        "7eb759f45ebf428daa80069e1da7cf7e": {
          "model_module": "@jupyter-widgets/controls",
          "model_name": "ProgressStyleModel",
          "model_module_version": "1.5.0",
          "state": {
            "_model_module": "@jupyter-widgets/controls",
            "_model_module_version": "1.5.0",
            "_model_name": "ProgressStyleModel",
            "_view_count": null,
            "_view_module": "@jupyter-widgets/base",
            "_view_module_version": "1.2.0",
            "_view_name": "StyleView",
            "bar_color": null,
            "description_width": ""
          }
        },
        "8aec5a8c6cef4a93a3b90f1dc0fbab90": {
          "model_module": "@jupyter-widgets/base",
          "model_name": "LayoutModel",
          "model_module_version": "1.2.0",
          "state": {
            "_model_module": "@jupyter-widgets/base",
            "_model_module_version": "1.2.0",
            "_model_name": "LayoutModel",
            "_view_count": null,
            "_view_module": "@jupyter-widgets/base",
            "_view_module_version": "1.2.0",
            "_view_name": "LayoutView",
            "align_content": null,
            "align_items": null,
            "align_self": null,
            "border": null,
            "bottom": null,
            "display": null,
            "flex": null,
            "flex_flow": null,
            "grid_area": null,
            "grid_auto_columns": null,
            "grid_auto_flow": null,
            "grid_auto_rows": null,
            "grid_column": null,
            "grid_gap": null,
            "grid_row": null,
            "grid_template_areas": null,
            "grid_template_columns": null,
            "grid_template_rows": null,
            "height": null,
            "justify_content": null,
            "justify_items": null,
            "left": null,
            "margin": null,
            "max_height": null,
            "max_width": null,
            "min_height": null,
            "min_width": null,
            "object_fit": null,
            "object_position": null,
            "order": null,
            "overflow": null,
            "overflow_x": null,
            "overflow_y": null,
            "padding": null,
            "right": null,
            "top": null,
            "visibility": null,
            "width": null
          }
        },
        "6acff3af07d749d6b84f06baad5d9626": {
          "model_module": "@jupyter-widgets/controls",
          "model_name": "DescriptionStyleModel",
          "model_module_version": "1.5.0",
          "state": {
            "_model_module": "@jupyter-widgets/controls",
            "_model_module_version": "1.5.0",
            "_model_name": "DescriptionStyleModel",
            "_view_count": null,
            "_view_module": "@jupyter-widgets/base",
            "_view_module_version": "1.2.0",
            "_view_name": "StyleView",
            "description_width": ""
          }
        },
        "0ae77c4afba0426492c781a4d29f700e": {
          "model_module": "@jupyter-widgets/controls",
          "model_name": "HBoxModel",
          "model_module_version": "1.5.0",
          "state": {
            "_dom_classes": [],
            "_model_module": "@jupyter-widgets/controls",
            "_model_module_version": "1.5.0",
            "_model_name": "HBoxModel",
            "_view_count": null,
            "_view_module": "@jupyter-widgets/controls",
            "_view_module_version": "1.5.0",
            "_view_name": "HBoxView",
            "box_style": "",
            "children": [
              "IPY_MODEL_a76e03a362754dd0bdf2a40760e991b9",
              "IPY_MODEL_4f9abbce681f4fb4b515432664e86549",
              "IPY_MODEL_f805af4f55704d43b6356a7353111061"
            ],
            "layout": "IPY_MODEL_3c34bfe684c54760914175d9e16e0bbb"
          }
        },
        "a76e03a362754dd0bdf2a40760e991b9": {
          "model_module": "@jupyter-widgets/controls",
          "model_name": "HTMLModel",
          "model_module_version": "1.5.0",
          "state": {
            "_dom_classes": [],
            "_model_module": "@jupyter-widgets/controls",
            "_model_module_version": "1.5.0",
            "_model_name": "HTMLModel",
            "_view_count": null,
            "_view_module": "@jupyter-widgets/controls",
            "_view_module_version": "1.5.0",
            "_view_name": "HTMLView",
            "description": "",
            "description_tooltip": null,
            "layout": "IPY_MODEL_d937dd0bdd2049f98d90779d546dee1b",
            "placeholder": "​",
            "style": "IPY_MODEL_f303850bcbc64e4a9be801be1eb732ba",
            "value": "100%"
          }
        },
        "4f9abbce681f4fb4b515432664e86549": {
          "model_module": "@jupyter-widgets/controls",
          "model_name": "FloatProgressModel",
          "model_module_version": "1.5.0",
          "state": {
            "_dom_classes": [],
            "_model_module": "@jupyter-widgets/controls",
            "_model_module_version": "1.5.0",
            "_model_name": "FloatProgressModel",
            "_view_count": null,
            "_view_module": "@jupyter-widgets/controls",
            "_view_module_version": "1.5.0",
            "_view_name": "ProgressView",
            "bar_style": "success",
            "description": "",
            "description_tooltip": null,
            "layout": "IPY_MODEL_67a495298b224cf4b624627823c2b413",
            "max": 41,
            "min": 0,
            "orientation": "horizontal",
            "style": "IPY_MODEL_ba4df08f6f844925a4399be514b93aab",
            "value": 41
          }
        },
        "f805af4f55704d43b6356a7353111061": {
          "model_module": "@jupyter-widgets/controls",
          "model_name": "HTMLModel",
          "model_module_version": "1.5.0",
          "state": {
            "_dom_classes": [],
            "_model_module": "@jupyter-widgets/controls",
            "_model_module_version": "1.5.0",
            "_model_name": "HTMLModel",
            "_view_count": null,
            "_view_module": "@jupyter-widgets/controls",
            "_view_module_version": "1.5.0",
            "_view_name": "HTMLView",
            "description": "",
            "description_tooltip": null,
            "layout": "IPY_MODEL_6da61515fe0b4973902585ade9eec48f",
            "placeholder": "​",
            "style": "IPY_MODEL_b9804112274d4835844673ee6979d037",
            "value": " 41/41 [15:28&lt;00:00, 50.49s/it]"
          }
        },
        "3c34bfe684c54760914175d9e16e0bbb": {
          "model_module": "@jupyter-widgets/base",
          "model_name": "LayoutModel",
          "model_module_version": "1.2.0",
          "state": {
            "_model_module": "@jupyter-widgets/base",
            "_model_module_version": "1.2.0",
            "_model_name": "LayoutModel",
            "_view_count": null,
            "_view_module": "@jupyter-widgets/base",
            "_view_module_version": "1.2.0",
            "_view_name": "LayoutView",
            "align_content": null,
            "align_items": null,
            "align_self": null,
            "border": null,
            "bottom": null,
            "display": null,
            "flex": null,
            "flex_flow": null,
            "grid_area": null,
            "grid_auto_columns": null,
            "grid_auto_flow": null,
            "grid_auto_rows": null,
            "grid_column": null,
            "grid_gap": null,
            "grid_row": null,
            "grid_template_areas": null,
            "grid_template_columns": null,
            "grid_template_rows": null,
            "height": null,
            "justify_content": null,
            "justify_items": null,
            "left": null,
            "margin": null,
            "max_height": null,
            "max_width": null,
            "min_height": null,
            "min_width": null,
            "object_fit": null,
            "object_position": null,
            "order": null,
            "overflow": null,
            "overflow_x": null,
            "overflow_y": null,
            "padding": null,
            "right": null,
            "top": null,
            "visibility": null,
            "width": null
          }
        },
        "d937dd0bdd2049f98d90779d546dee1b": {
          "model_module": "@jupyter-widgets/base",
          "model_name": "LayoutModel",
          "model_module_version": "1.2.0",
          "state": {
            "_model_module": "@jupyter-widgets/base",
            "_model_module_version": "1.2.0",
            "_model_name": "LayoutModel",
            "_view_count": null,
            "_view_module": "@jupyter-widgets/base",
            "_view_module_version": "1.2.0",
            "_view_name": "LayoutView",
            "align_content": null,
            "align_items": null,
            "align_self": null,
            "border": null,
            "bottom": null,
            "display": null,
            "flex": null,
            "flex_flow": null,
            "grid_area": null,
            "grid_auto_columns": null,
            "grid_auto_flow": null,
            "grid_auto_rows": null,
            "grid_column": null,
            "grid_gap": null,
            "grid_row": null,
            "grid_template_areas": null,
            "grid_template_columns": null,
            "grid_template_rows": null,
            "height": null,
            "justify_content": null,
            "justify_items": null,
            "left": null,
            "margin": null,
            "max_height": null,
            "max_width": null,
            "min_height": null,
            "min_width": null,
            "object_fit": null,
            "object_position": null,
            "order": null,
            "overflow": null,
            "overflow_x": null,
            "overflow_y": null,
            "padding": null,
            "right": null,
            "top": null,
            "visibility": null,
            "width": null
          }
        },
        "f303850bcbc64e4a9be801be1eb732ba": {
          "model_module": "@jupyter-widgets/controls",
          "model_name": "DescriptionStyleModel",
          "model_module_version": "1.5.0",
          "state": {
            "_model_module": "@jupyter-widgets/controls",
            "_model_module_version": "1.5.0",
            "_model_name": "DescriptionStyleModel",
            "_view_count": null,
            "_view_module": "@jupyter-widgets/base",
            "_view_module_version": "1.2.0",
            "_view_name": "StyleView",
            "description_width": ""
          }
        },
        "67a495298b224cf4b624627823c2b413": {
          "model_module": "@jupyter-widgets/base",
          "model_name": "LayoutModel",
          "model_module_version": "1.2.0",
          "state": {
            "_model_module": "@jupyter-widgets/base",
            "_model_module_version": "1.2.0",
            "_model_name": "LayoutModel",
            "_view_count": null,
            "_view_module": "@jupyter-widgets/base",
            "_view_module_version": "1.2.0",
            "_view_name": "LayoutView",
            "align_content": null,
            "align_items": null,
            "align_self": null,
            "border": null,
            "bottom": null,
            "display": null,
            "flex": null,
            "flex_flow": null,
            "grid_area": null,
            "grid_auto_columns": null,
            "grid_auto_flow": null,
            "grid_auto_rows": null,
            "grid_column": null,
            "grid_gap": null,
            "grid_row": null,
            "grid_template_areas": null,
            "grid_template_columns": null,
            "grid_template_rows": null,
            "height": null,
            "justify_content": null,
            "justify_items": null,
            "left": null,
            "margin": null,
            "max_height": null,
            "max_width": null,
            "min_height": null,
            "min_width": null,
            "object_fit": null,
            "object_position": null,
            "order": null,
            "overflow": null,
            "overflow_x": null,
            "overflow_y": null,
            "padding": null,
            "right": null,
            "top": null,
            "visibility": null,
            "width": null
          }
        },
        "ba4df08f6f844925a4399be514b93aab": {
          "model_module": "@jupyter-widgets/controls",
          "model_name": "ProgressStyleModel",
          "model_module_version": "1.5.0",
          "state": {
            "_model_module": "@jupyter-widgets/controls",
            "_model_module_version": "1.5.0",
            "_model_name": "ProgressStyleModel",
            "_view_count": null,
            "_view_module": "@jupyter-widgets/base",
            "_view_module_version": "1.2.0",
            "_view_name": "StyleView",
            "bar_color": null,
            "description_width": ""
          }
        },
        "6da61515fe0b4973902585ade9eec48f": {
          "model_module": "@jupyter-widgets/base",
          "model_name": "LayoutModel",
          "model_module_version": "1.2.0",
          "state": {
            "_model_module": "@jupyter-widgets/base",
            "_model_module_version": "1.2.0",
            "_model_name": "LayoutModel",
            "_view_count": null,
            "_view_module": "@jupyter-widgets/base",
            "_view_module_version": "1.2.0",
            "_view_name": "LayoutView",
            "align_content": null,
            "align_items": null,
            "align_self": null,
            "border": null,
            "bottom": null,
            "display": null,
            "flex": null,
            "flex_flow": null,
            "grid_area": null,
            "grid_auto_columns": null,
            "grid_auto_flow": null,
            "grid_auto_rows": null,
            "grid_column": null,
            "grid_gap": null,
            "grid_row": null,
            "grid_template_areas": null,
            "grid_template_columns": null,
            "grid_template_rows": null,
            "height": null,
            "justify_content": null,
            "justify_items": null,
            "left": null,
            "margin": null,
            "max_height": null,
            "max_width": null,
            "min_height": null,
            "min_width": null,
            "object_fit": null,
            "object_position": null,
            "order": null,
            "overflow": null,
            "overflow_x": null,
            "overflow_y": null,
            "padding": null,
            "right": null,
            "top": null,
            "visibility": null,
            "width": null
          }
        },
        "b9804112274d4835844673ee6979d037": {
          "model_module": "@jupyter-widgets/controls",
          "model_name": "DescriptionStyleModel",
          "model_module_version": "1.5.0",
          "state": {
            "_model_module": "@jupyter-widgets/controls",
            "_model_module_version": "1.5.0",
            "_model_name": "DescriptionStyleModel",
            "_view_count": null,
            "_view_module": "@jupyter-widgets/base",
            "_view_module_version": "1.2.0",
            "_view_name": "StyleView",
            "description_width": ""
          }
        }
      }
    }
  },
  "nbformat": 4,
  "nbformat_minor": 0
}