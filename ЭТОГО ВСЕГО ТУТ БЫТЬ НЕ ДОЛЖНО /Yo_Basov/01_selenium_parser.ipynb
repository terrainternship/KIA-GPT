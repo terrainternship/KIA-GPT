{
  "nbformat": 4,
  "nbformat_minor": 0,
  "metadata": {
    "colab": {
      "provenance": [],
      "gpuType": "T4"
    },
    "kernelspec": {
      "name": "python3",
      "display_name": "Python 3"
    },
    "language_info": {
      "name": "python"
    }
  },
  "cells": [
    {
      "cell_type": "code",
      "source": [
        "!apt-get update"
      ],
      "metadata": {
        "id": "LX314XQoR50C"
      },
      "execution_count": null,
      "outputs": []
    },
    {
      "cell_type": "code",
      "source": [
        "!apt install chromium-chromedriver -y"
      ],
      "metadata": {
        "id": "pA0GU8EIR5pe"
      },
      "execution_count": null,
      "outputs": []
    },
    {
      "cell_type": "code",
      "source": [
        "!pip install selenium"
      ],
      "metadata": {
        "id": "0HTp_B91R-6E"
      },
      "execution_count": null,
      "outputs": []
    },
    {
      "cell_type": "code",
      "source": [
        "import time\n",
        "from selenium import webdriver\n",
        "from selenium.webdriver.common.by import By\n",
        "from selenium.webdriver.support.ui import WebDriverWait\n",
        "from selenium.webdriver.support import expected_conditions as EC\n",
        "from selenium.common.exceptions import TimeoutException"
      ],
      "metadata": {
        "id": "dbko3oKPSGIG"
      },
      "execution_count": null,
      "outputs": []
    },
    {
      "cell_type": "markdown",
      "source": [
        "# https://stackoverflow.com/a/25664873\n",
        "For Linux\n",
        "\n",
        "1. Check you have installed latest version of chrome browser-> \"chromium-browser -version\"\n",
        "2. If not, install latest version of chrome \"sudo apt-get install chromium-browser\"\n",
        "3. Get the appropriate version of chrome driver from http://chromedriver.storage.googleapis.com/index.html\n",
        "4. Unzip the chromedriver.zip\n",
        "5. Move the file to /usr/bin directory sudo mv chromedriver /usr/bin\n",
        "6. Goto /usr/bin directory and you would need to run something like \"chmod a+x chromedriver\" to mark it executable.\n",
        "7. finally you can execute the code.\n",
        "\n",
        "from selenium import webdriver\n",
        "driver = webdriver.Chrome()\n",
        "driver.get(\"http://www.google.com\")\n",
        "display.stop()"
      ],
      "metadata": {
        "id": "YYZYV-tZSrPk"
      }
    },
    {
      "cell_type": "code",
      "source": [
        "!sudo apt-get install chromium-browser\n",
        "\n"
      ],
      "metadata": {
        "id": "oRmYz2ZISGFu"
      },
      "execution_count": null,
      "outputs": []
    },
    {
      "cell_type": "code",
      "source": [
        "!wget -O chromedriver_linux64.zip http://chromedriver.storage.googleapis.com/114.0.5735.90/chromedriver_linux64.zip"
      ],
      "metadata": {
        "id": "WX-zjXQJSF7r"
      },
      "execution_count": null,
      "outputs": []
    },
    {
      "cell_type": "code",
      "source": [
        "!unzip -fo chromedriver_linux64.zip"
      ],
      "metadata": {
        "id": "3KDZKMacSF40"
      },
      "execution_count": null,
      "outputs": []
    },
    {
      "cell_type": "code",
      "source": [
        "!sudo mv chromedriver /usr/bin"
      ],
      "metadata": {
        "id": "JaAfLnL4SF16"
      },
      "execution_count": null,
      "outputs": []
    },
    {
      "cell_type": "code",
      "source": [
        "!chmod a+x /usr/bin/chromedriver"
      ],
      "metadata": {
        "id": "NT75hnAUTjcE"
      },
      "execution_count": null,
      "outputs": []
    },
    {
      "cell_type": "code",
      "source": [
        "!pip install fake-useragent"
      ],
      "metadata": {
        "id": "mzUEqL7zqtuX"
      },
      "execution_count": null,
      "outputs": []
    },
    {
      "cell_type": "code",
      "source": [
        "from fake_useragent import UserAgent\n",
        "user_agent = UserAgent()\n",
        "\n",
        "USER_DATA_PATH=\"/content\"\n",
        "chrome_options = webdriver.ChromeOptions()\n",
        "chrome_options.add_argument('--headless')\n",
        "chrome_options.add_argument('--no-sandbox')\n",
        "chrome_options.add_argument(\"--disable-dev-shm-usage\")\n",
        "chrome_options.add_argument(\"--disable-notifications\")\n",
        "chrome_options.add_argument(\"--user-agent=\"+user_agent.chrome)\n",
        "chrome_options.add_argument(\"--window-size=1280,720\")\n",
        "chrome_options.add_argument(f\"user-data-dir={USER_DATA_PATH}\")\n",
        "chrome_options.headless = True\n",
        "driver = webdriver.Chrome(options=chrome_options)\n",
        "\n",
        "import traceback\n",
        "try:\n",
        "    driver.add_cookie({'name': '.kia.ru', 'value': ''})\n",
        "except Exception:\n",
        "    print(traceback.format_exc())\n",
        "\n",
        "# Create a request interceptor\n",
        "def interceptor(request):\n",
        "    # README https://stackoverflow.com/a/51919307\n",
        "    del request.headers['Referer']  # Delete the header first\n",
        "    request.headers['Referer'] = 'some_referer'\n",
        "\n",
        "# Set the interceptor on the driver\n",
        "driver.request_interceptor = interceptor\n",
        "\n"
      ],
      "metadata": {
        "id": "BxgyVidyToKg"
      },
      "execution_count": null,
      "outputs": []
    },
    {
      "cell_type": "code",
      "source": [
        "import time\n",
        "import random\n",
        "time.sleep(random.randrange(1))\n",
        "\n",
        "# User-agent: *\n",
        "\n",
        "# Disallow: /personal/\n",
        "# Disallow: /service/yandex_promo/\n",
        "# Disallow: /favorites/\n",
        "# Disallow: /cart/\n",
        "# Disallow: /mykianews/\n",
        "# Disallow: /info/\n",
        "# Disallow: /welcome/\n",
        "# Disallow: /popup-store/\n",
        "\n",
        "# Disallow: *.html\n",
        "# Disallow: *.php\n",
        "# Disallow: *.pdf\n",
        "# Disallow: */*?\n",
        "# Disallow: */configurator/step_5/\n",
        "# Disallow: */preorder/\n",
        "# Disallow: */preapproval/\n",
        "# Disallow: */calc/step_6/\n",
        "\n",
        "# Sitemap: https://www.kia.ru/sitemap.xml\n",
        "\n",
        "# ссылка на страницу\n",
        "test_url = \"https://www.kia.ru/robots.txt\"\n",
        "\n",
        "# запрос на страницу\n",
        "driver.get(test_url)\n",
        "\n",
        "# код страницы\n",
        "print(driver.page_source)"
      ],
      "metadata": {
        "id": "Cp3mGweCVRll"
      },
      "execution_count": null,
      "outputs": []
    },
    {
      "cell_type": "code",
      "source": [
        "!ls /content"
      ],
      "metadata": {
        "id": "KyecIMvjj6fI"
      },
      "execution_count": null,
      "outputs": []
    },
    {
      "cell_type": "code",
      "source": [
        "!mkdir -p \"/content/WORKDIR\""
      ],
      "metadata": {
        "id": "dJQLFp4IYseM"
      },
      "execution_count": null,
      "outputs": []
    },
    {
      "cell_type": "code",
      "source": [
        "!pip install openpyxl"
      ],
      "metadata": {
        "id": "AFit7l4aS3iR"
      },
      "execution_count": null,
      "outputs": []
    },
    {
      "cell_type": "code",
      "source": [
        "import pandas as pd\n",
        "import requests\n",
        "from io import BytesIO\n",
        "import openpyxl\n",
        "\n",
        "# Шаг 0: Загрузить xlsx файл c urls из Google Drive\n",
        "import time\n",
        "import random\n",
        "time.sleep(random.randrange(1))\n",
        "\n",
        "urls = {}\n",
        "sheet_urls = \"https://docs.google.com/spreadsheets/d/1btiLDeliT87fFw4yI4aFMEthwL0GtUFMKAgGDW6ryOk/export?format=xlsx\"\n",
        "response_urls = requests.get(sheet_urls)\n",
        "wb_urls = openpyxl.load_workbook(filename=BytesIO(response_urls.content))\n",
        "sheets_urls = wb_urls.sheetnames\n",
        "ws_urls = wb_urls[sheets_urls[0]]\n",
        "for row_urls in range(1,10000):\n",
        "    for col_urls in range(1,4):\n",
        "        if ws_urls.cell(row=row_urls, column=col_urls).hyperlink is not None:\n",
        "            k = int(ws_urls.cell(row=row_urls, column=col_urls-1).value)\n",
        "            v = ws_urls.cell(row=row_urls, column=col_urls).hyperlink.target\n",
        "            urls[k] = v\n",
        "            if k < 3: print(f\"{k}: {v}\")\n",
        "print(f\"...\")\n",
        "print(f\"total: {len(urls)}\")"
      ],
      "metadata": {
        "id": "8ZC_PpNcRiuR"
      },
      "execution_count": null,
      "outputs": []
    },
    {
      "cell_type": "code",
      "source": [
        "# Шаг 1: Загрузить xlsx файл c dialogs из Google Drive\n",
        "dialogs = {}\n",
        "sheet_dialogs = \"https://docs.google.com/spreadsheets/d/1UDwTDX41NHL626aZpLGO4yvYDvX4P_wfL20kv6ekbD8/export?format=xlsx\"\n",
        "response_dialogs = requests.get(sheet_dialogs)\n",
        "wb_dialogs = openpyxl.load_workbook(filename=BytesIO(response_dialogs.content))\n",
        "sheets_dialogs = wb_dialogs.sheetnames\n",
        "ws_dialogs = wb_dialogs[sheets_dialogs[0]]\n",
        "for row_dialogs in range(1,10000):\n",
        "    for col_dialogs in range(3,4):\n",
        "        if ws_dialogs.cell(row=row_dialogs, column=col_dialogs-2).value is not None:\n",
        "            k = int(ws_dialogs.cell(row=row_dialogs, column=col_dialogs-2).value)\n",
        "            v = ws_dialogs.cell(row=row_dialogs, column=col_dialogs).value\n",
        "            dialogs[k] = v\n",
        "            if k < 3: print(f\"{k}: {v}\")\n",
        "print(f\"...\")\n",
        "print(f\"total: {len(dialogs)}\")\n"
      ],
      "metadata": {
        "id": "eJRcjP3qVWFm"
      },
      "execution_count": null,
      "outputs": []
    },
    {
      "cell_type": "code",
      "source": [
        "# Шаг 2: Копируем xlsx файл c urls, чтобы добавлять вкладки на страницах под новыми номерами\n",
        "wb_new_urls = openpyxl.Workbook()\n",
        "wb_new_urls.create_sheet(\"sites_for_gpt\")\n",
        "wb_new_urls.save(\"/content/WORKDIR/urls.xlsx\")"
      ],
      "metadata": {
        "id": "jKwa7Do5XcQd"
      },
      "execution_count": null,
      "outputs": []
    },
    {
      "cell_type": "code",
      "source": [
        "# Шаг 3: Копируем xlsx файл c dialogs, чтобы добавлять свои вопросы по страницам под новыми номерами\n",
        "wb_new_dialogs = openpyxl.Workbook()\n",
        "wb_new_dialogs.create_sheet(\"faq_2023_edit\")\n",
        "wb_new_dialogs.save(\"/content/WORKDIR/dialogs.xlsx\")"
      ],
      "metadata": {
        "id": "NVIiJax2ZEjm"
      },
      "execution_count": null,
      "outputs": []
    },
    {
      "cell_type": "code",
      "source": [
        "# Шаг 4: Создаем xlsx файл c errors, чтобы расхождения со скаченными руками страницами фиксировать\n",
        "wb_new_logs = openpyxl.Workbook()\n",
        "wb_new_logs.create_sheet(\"errors_with_docs\")\n",
        "wb_new_logs.save(\"/content/WORKDIR/logs.xlsx\")"
      ],
      "metadata": {
        "id": "tR8InAbPdZRG"
      },
      "execution_count": null,
      "outputs": []
    },
    {
      "cell_type": "code",
      "source": [
        "# Шаг 5: Определяемся с категориями страниц\n",
        "categories = {}\n",
        "\n",
        "categories[0] = \"Неизвестно\"\n",
        "\n",
        "categories[1] = \"Модели машин. Где будет информация по каждой представленой машине.\"\n",
        "\n",
        "categories[2] = \"Технологии. Тут будет информация об используемых технологиях\"\n",
        "\n",
        "categories[3] = \"Спецпредложения. Ну тут вся инфа по текущим спецпредложениям, я думаю она часто будет редактироваться.\"\n",
        "\n",
        "categories[4] = \"Сервис обслуживания. Что предлагается по обслуживанию клиентов\"\n",
        "\n",
        "categories[5] = \"Спецпредложения.\"\n",
        "\n",
        "categories[6] = \"Инструкции к ПО. тут инфа по использованию ПО. Тут много видосов.Нужно будет перегонять в текст\"\n",
        "\n",
        "categories[7] = \"Запчасти! БОЛьшой раздел не понятно чо ним делать пока\"\n",
        "\n",
        "categories[8] = \"Журнал. Тут инфа из журнала. ВОоще левая инфа не сильно нужна по ТЗ если останется время то сделать\"\n",
        "\n",
        "categories[9] = \"БЛог. Тоже самое что журнал\"\n",
        "\n",
        "categories[10] = \"ЕЩЕ Я БЫ ВЫДЕЛИЛ АКСЕСУАРЫ! Это ведь тоже товары?)\"\n"
      ],
      "metadata": {
        "id": "laSE_7MpbmCo"
      },
      "execution_count": null,
      "outputs": []
    },
    {
      "cell_type": "code",
      "source": [
        "# Шаг 6: Определяемся с шаблонами страниц\n",
        "templates = {}\n",
        "\n",
        "templates[0] = \"LIKE https://www.kia.ru/models/picanto/desc/\"\n",
        "\n",
        "templates[1] = \"LIKE https://www.kia.ru/models/rio-x/desc/\""
      ],
      "metadata": {
        "id": "zCajTApfco-6"
      },
      "execution_count": null,
      "outputs": []
    },
    {
      "cell_type": "code",
      "source": [
        "# Шаг 7: Создаем функцию парсинга всех вкладок страницы\n",
        "def parse(cur_driver, cur_url, cur_template):\n",
        "  from selenium import webdriver\n",
        "  from selenium.webdriver.chrome.service import Service\n",
        "  from selenium.webdriver.chrome.options import Options\n",
        "  from selenium.webdriver.common.by import By\n",
        "  from selenium.webdriver.support.ui import WebDriverWait\n",
        "  from selenium.webdriver.support import expected_conditions as EC\n",
        "  from selenium.webdriver.common.keys import Keys\n",
        "  from selenium.webdriver.common.action_chains import ActionChains\n",
        "  import pandas as pd\n",
        "  import time as t\n",
        "\n",
        "  import time\n",
        "  import random\n",
        "  time.sleep(random.randrange(1))\n",
        "\n",
        "  # README https://www.codementor.io/@scrapingdog/10-tips-to-avoid-getting-blocked-while-scraping-websites-16papipe62\n",
        "  if 1==0:\n",
        "    u={}\n",
        "    country_code=\"792\"\n",
        "    novaurl=\"https://www.proxynova.com/proxy-server-list/country-\"+country_code+\"/\"\n",
        "    respo = requests.get(novaurl).text\n",
        "    from bs4 import BeautifulSoup\n",
        "    soup = BeautifulSoup(respo,'html.parser')\n",
        "    allproxy = soup.find_all(\"tr\")\n",
        "    for proxy in allproxy:\n",
        "      foo = proxy.find_all(\"td\")\n",
        "      try:\n",
        "          l[\"ip\"]=foo[0].text.replace(\"\\n\",\"\").replace(\"document.write(\",\"\").replace(\")\",\"\").replace(\"\\'\",\"\").replace(\";\",\"\")\n",
        "      except:\n",
        "        l[\"ip\"]=None\n",
        "      try:\n",
        "        l[\"port\"]=foo[1].text.replace(\"\\n\",\"\").replace(\" \",\"\")\n",
        "      except:\n",
        "        l[\"port\"]=None\n",
        "      try:\n",
        "        l[\"country\"]=foo[5].text.replace(\"\\n\",\"\").replace(\" \",\"\")\n",
        "      except:\n",
        "        l[\"country\"]=None\n",
        "      if(l[\"port\"] is not None):\n",
        "        u.append(l)\n",
        "    l={}\n",
        "    print(u)\n",
        "\n",
        "  # ссылка на страницу\n",
        "  test_url = cur_url\n",
        "\n",
        "  # запрос на страницу\n",
        "  cur_driver.get(test_url)\n",
        "  cur_driver.implicitly_wait(1000)\n",
        "\n",
        "  # шаманские действия c js\n",
        "  html = cur_driver.find_element(By.TAG_NAME, 'html')\n",
        "  html.send_keys(Keys.END)\n",
        "  cur_driver.implicitly_wait(random.randrange(1000))\n",
        "\n",
        "  # шаманские действия c кнопкой согласен\n",
        "  for button1 in driver.find_elements(By.XPATH, \"//button\"):\n",
        "      label = \"\"\n",
        "      try:\n",
        "          label = button1.get_attribute(\"innerText\")\n",
        "      except Exception:\n",
        "          pass\n",
        "      if label is not None and label.lower() == \"согласен\":\n",
        "          cur_driver.implicitly_wait(random.randrange(1000))\n",
        "          # wait = WebDriverWait(cur_driver, 20)\n",
        "          button1.click()\n",
        "          cur_driver.implicitly_wait(3000)\n",
        "  html.send_keys(Keys.HOME)\n",
        "\n",
        "  # шаманские действия cо screenshot\n",
        "  cur_driver.get(test_url)\n",
        "  cur_driver.implicitly_wait(1000)\n",
        "  cur_driver.find_element(By.TAG_NAME, 'html').send_keys(Keys.END)\n",
        "  cur_driver.implicitly_wait(random.randrange(1000))\n",
        "  cur_driver.save_screenshot('screenshot.png')\n",
        "\n",
        "  from IPython.display import Image, display\n",
        "  display(Image(filename='screenshot.png'))\n",
        "\n",
        "  cur_driver.find_element(By.TAG_NAME, 'html').send_keys(Keys.HOME)\n",
        "  cur_driver.implicitly_wait(random.randrange(1000))\n",
        "  cur_driver.save_screenshot('screenshot.png')\n",
        "\n",
        "  # from IPython.display import Image, display\n",
        "  # display(Image(filename='screenshot.png'))\n",
        "  # cur_driver.implicitly_wait(2000)\n",
        "\n",
        "  # код страницы\n",
        "  text = ''\n",
        "  for el in cur_driver.find_elements(By.XPATH, \"//div\"):\n",
        "      inner = \"\"\n",
        "      try:\n",
        "          inner = el.get_attribute(\"innerText\")\n",
        "      except Exception:\n",
        "          pass\n",
        "      if inner is not None:\n",
        "          text += inner.replace(\"\\n\", \"   \") + '\\n'\n",
        "  # return [cur_driver.page_source]\n",
        "\n",
        "  spans = 0\n",
        "  for alt in cur_driver.find_elements(By.XPATH, \"//div\"):\n",
        "      id = \"\"\n",
        "      try:\n",
        "          id = alt.get_attribute(\"class\")\n",
        "      except Exception:\n",
        "          pass\n",
        "      if id.find(\"tabs-button \") >= 0:\n",
        "          spans += 1\n",
        "  return [text for i in range(spans + 1)]"
      ],
      "metadata": {
        "id": "rJTRTByBdS5M"
      },
      "execution_count": null,
      "outputs": []
    },
    {
      "cell_type": "code",
      "source": [
        "# Шаг 1000: разбираем все вкладки страницы #0\n",
        "print(urls[0])\n",
        "if urls[0] != \"https://www.kia.ru/models/picanto/desc/\": raise Exception(\"STOP\")\n",
        "\n",
        "n1000 = 6 # вкладок\n",
        "q1000 = \"Здравствуйте. Что такое электроусилитель рулевого управления с функцией наклона (MDPS)?\"\n",
        "print(q1000)\n",
        "\n",
        "import traceback\n",
        "r1000 = []\n",
        "try:\n",
        "    r1000 = parse(driver, urls[0], templates[0])\n",
        "except Exception:\n",
        "    print(traceback.format_exc())\n",
        "\n",
        "# if n1000 != len(r1000): raise Exception(\"FAIL: found \" + str(len(r1000)))\n",
        "if r1000[0].find('рулевого управления') >= 0:\n",
        "  print(\"OK\")\n",
        "else:\n",
        "  print(\"ERROR\")\n",
        "\n",
        "[lines[:9999] + \" ... \" if len(lines) > 9999 else lines for lines in [r1000[0]]]\n"
      ],
      "metadata": {
        "id": "TSwdtIgcerA0"
      },
      "execution_count": null,
      "outputs": []
    },
    {
      "cell_type": "code",
      "source": [],
      "metadata": {
        "id": "z0IowEmECYRJ"
      },
      "execution_count": null,
      "outputs": []
    }
  ]
}