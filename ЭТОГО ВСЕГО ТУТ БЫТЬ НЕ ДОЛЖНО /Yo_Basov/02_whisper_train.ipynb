{
  "cells": [
    {
      "cell_type": "code",
      "execution_count": null,
      "metadata": {
        "id": "4Bnzl61oB_0W"
      },
      "outputs": [],
      "source": [
        "# ЧЕРНОВОЙ ВАРИАНТ ПО ЗАПУСКУ WHISPER LARGE V2 ИЗ COLAB"
      ]
    },
    {
      "cell_type": "code",
      "source": [],
      "metadata": {
        "id": "DLPEhEERFyYZ"
      },
      "execution_count": null,
      "outputs": []
    },
    {
      "cell_type": "code",
      "source": [
        "from google.colab import drive\n",
        "drive.mount('/content/drive')"
      ],
      "metadata": {
        "id": "kisKd6Ij1XrD"
      },
      "execution_count": null,
      "outputs": []
    },
    {
      "cell_type": "markdown",
      "source": [
        "## ЗАРЕГИСТРИРОВАЛИСЬ НА HUGGING FACE, ИЗ SETTINGS, ACCESS TOKENS СОЗДАЛИ ТОКЕН"
      ],
      "metadata": {
        "id": "TCR3G6ytLcGX"
      }
    },
    {
      "cell_type": "code",
      "execution_count": null,
      "metadata": {
        "id": "5m_c7nDIB0c2"
      },
      "outputs": [],
      "source": [
        "from huggingface_hub import notebook_login"
      ]
    },
    {
      "cell_type": "code",
      "execution_count": null,
      "metadata": {
        "id": "0TtYX0UbC-DT"
      },
      "outputs": [],
      "source": [
        "notebook_login()"
      ]
    },
    {
      "cell_type": "code",
      "source": [],
      "metadata": {
        "id": "p7igBWEFGzEH"
      },
      "execution_count": null,
      "outputs": []
    },
    {
      "cell_type": "markdown",
      "source": [
        "## CОХРАНИЛИ В MP4 ФАЙЛЫ"
      ],
      "metadata": {
        "id": "tIYS10zGLtgF"
      }
    },
    {
      "cell_type": "code",
      "execution_count": null,
      "metadata": {
        "id": "HWBOxPLAyfCM"
      },
      "outputs": [],
      "source": [
        "# README https://github.com/ryanwebster90/colab-yt-dl/blob/main/dl_yt_playlist.ipynb"
      ]
    },
    {
      "cell_type": "code",
      "execution_count": null,
      "metadata": {
        "id": "XkZRq_KYyT6o"
      },
      "outputs": [],
      "source": [
        "!pip install --upgrade youtube_dl\n",
        "!apt -y install ffmpeg lame"
      ]
    },
    {
      "cell_type": "code",
      "execution_count": null,
      "metadata": {
        "id": "WAp3n973y-WW"
      },
      "outputs": [],
      "source": [
        "# README https://stackoverflow.com/a/76409717"
      ]
    },
    {
      "cell_type": "code",
      "execution_count": null,
      "metadata": {
        "id": "t97uTE7Yy9wk"
      },
      "outputs": [],
      "source": [
        "!sudo pip install --upgrade --force-reinstall \"git+https://github.com/ytdl-org/youtube-dl.git\""
      ]
    },
    {
      "cell_type": "code",
      "execution_count": null,
      "metadata": {
        "id": "VepQjGH9yYmN"
      },
      "outputs": [],
      "source": [
        "yt_urls = ['https://www.youtube.com/watch?v=cEeHV7zzOv8&list=PLMquADD-aVhqY63PQl0DBETkI-cguhzk5&index=1&pp=iAQB',\n",
        "           'https://www.youtube.com/watch?v=aI71FGde_0k&list=PLMquADD-aVhqY63PQl0DBETkI-cguhzk5&index=2&pp=iAQB',\n",
        "           'https://www.youtube.com/watch?v=Kx6pJDzqMtI&list=PLMquADD-aVhqY63PQl0DBETkI-cguhzk5&index=3&pp=iAQB']\n",
        "import os\n",
        "def my_mkdirs(folder):\n",
        "  if os.path.exists(folder)==False:\n",
        "    os.makedirs(folder)\n",
        "my_mkdirs('/content/tmp/')\n",
        "output_folder = '/content/drive/My Drive/kia/ambient20/'\n",
        "my_mkdirs(output_folder)"
      ]
    },
    {
      "cell_type": "code",
      "execution_count": null,
      "metadata": {
        "id": "RX8yVH56ymN9"
      },
      "outputs": [],
      "source": [
        "# download youtube videos\n",
        "for ind,url in enumerate(yt_urls):\n",
        "  !youtube-dl $url -f 'bestaudio[ext=m4a]' -o 'tmp/%(title)s.m4a'\n",
        "# !youtube-dl https://www.youtube.com/watch?v=Mhi6Lb52ZbM -f 'bestaudio[ext=m4a]' -o tmp3.m4a\n",
        "\n"
      ]
    },
    {
      "cell_type": "code",
      "source": [
        "youtube_files = []"
      ],
      "metadata": {
        "id": "heUgJvZ-qBz6"
      },
      "execution_count": null,
      "outputs": []
    },
    {
      "cell_type": "code",
      "execution_count": null,
      "metadata": {
        "id": "-bCm4eGHytBG"
      },
      "outputs": [],
      "source": [
        "import glob\n",
        "files = glob.glob('/content/tmp/*')\n",
        "for file in files:\n",
        "  out_file = f'{output_folder}{file[13:-3]}.mp3'\n",
        "  file = file.replace(' ','\\ ')\n",
        "  out_file = out_file.replace(' ','\\ ')\n",
        "  youtube_files.append(out_file)\n",
        "  !ffmpeg -i $file -vn -ab 128k -ar 44100 -y $out_file"
      ]
    },
    {
      "cell_type": "code",
      "source": [
        "# README https://github.com/Vaibhavs10/fast-whisper-finetuning/blob/main/Whisper_w_PEFT.ipynb\n",
        "\n",
        "# README https://colab.research.google.com/drive/1DOkD_5OUjFa0r5Ik3SgywJLJtEo2qLxO?usp=sharing#scrollTo=090fa3ed"
      ],
      "metadata": {
        "id": "Qz1Ydxu_GAaI"
      },
      "execution_count": null,
      "outputs": []
    },
    {
      "cell_type": "markdown",
      "source": [
        "## ДАЛЕЕ ЭКСПЕРИМЕНТЫ"
      ],
      "metadata": {
        "id": "XKX1U_MWLUfb"
      }
    },
    {
      "cell_type": "code",
      "source": [
        "!pip install bitsandbytes"
      ],
      "metadata": {
        "id": "NkGNRZqAUW4S"
      },
      "execution_count": null,
      "outputs": []
    },
    {
      "cell_type": "code",
      "source": [
        "# !pip install transformers==4.30"
      ],
      "metadata": {
        "id": "pBBFz4nTWRHP"
      },
      "execution_count": null,
      "outputs": []
    },
    {
      "cell_type": "code",
      "source": [
        "!pip install accelerate"
      ],
      "metadata": {
        "id": "GnOydBEzGAWs"
      },
      "execution_count": null,
      "outputs": []
    },
    {
      "cell_type": "code",
      "source": [],
      "metadata": {
        "id": "SBHQ0IEgWP7o"
      },
      "execution_count": null,
      "outputs": []
    },
    {
      "cell_type": "code",
      "source": [],
      "metadata": {
        "id": "85vdy77TF74E"
      },
      "execution_count": null,
      "outputs": []
    },
    {
      "cell_type": "markdown",
      "metadata": {
        "id": "5cefac89"
      },
      "source": [
        "# Fine-tune Whisper (large) with LoRA & BNB powerd by PEFT ⚡️"
      ]
    },
    {
      "cell_type": "markdown",
      "metadata": {
        "id": "090fa3ed"
      },
      "source": [
        "A one size fits all notebook, to fine-tune Whisper (large) on a consumer GPU with less than 8GB GPU VRAM, all with comparable performance to full-finetuning. ⚡️\n",
        "\n",
        "We present a step-by-step guide on how to fine-tune Whisper with Common Voice 13.0 dataset using 🤗 Transformers and PEFT. In this Colab, we leverage `PEFT` and `bitsandbytes` to train a `whisper-large-v2` checkpoint seamlessly with a free T4 GPU (16 GB VRAM).\n",
        "\n",
        "For more details on Whisper fine-tuning, datasets and metrics, refer to Sanchit Gandhi's brilliant blogpost: [Fine-Tune Whisper For Multilingual ASR with 🤗 Transformers](https://huggingface.co/blog/fine-tune-whisper)\n",
        "\n",
        "## Why Parameter Efficient Fine Tuning ([PEFT](https://github.com/huggingface/peft))?\n",
        "\n",
        "As the model size continue to increase, fine tuning a model has become both computationally expensive and storage heavy. For example, a `Whisper-large-v2` model requires ~24GB of GPU VRAM to fine-tune for full fine-tuning and requires ~7 GB of storage for each fine-tuned storage. For low-resource environments this becomes quite a bottleneck and often near impossible to get meaningful results.\n",
        "\n",
        "Cue, PEFT, with PEFT you can tackle this bottleneck head on. PEFT approaches (like Low Rank Adaptation) only fine-tune a small number of (extra) model parameters while freezing most parameters of the pretrained model, thereby greatly decreasing the computational and storage costs. We've observed that it also overcomes the issues of catastrophic forgetting, a behaviour observed during the full finetuning of large models.\n",
        "\n",
        "### Aha! So wait, what's this LoRA thing?\n",
        "\n",
        "PEFT comes out-of-the-box with multiple parameter efficient techniques. One such technique is [Low Rank Adaptation or LoRA](https://github.com/microsoft/LoRA). LoRA freezes the pre-trained model weights and injects trainable rank decomposition matrices into each layer of the Transformer architecture. This greatly reduces the number of trainable parameters for downstream tasks.\n",
        "\n",
        "LoRA performs on-par or better than fine-tuning in model quality despite having fewer trainable parameters, a higher training throughput, and, unlike adapters, no additional inference latency.\n",
        "\n",
        "### That's all cool, but show me the numbers?\n",
        "\n",
        "Don't worry, we got ya! We ran multiple experiments to compare a full fine-tuning of Whisper-large-v2 checkpoint and that with PEFT, here's what we found:\n",
        "\n",
        "1. We were able to fine-tune a 1.6B parameter model with less than 8GB GPU VRAM. 🤯\n",
        "2. With significantly less number of traininable parameters, we were able to fit almost **5x** more batch size. 📈\n",
        "3. The resultant checkpoint were less than 1% the size of the original model, ~60MB (i.e. 1% the size of orignal model) 🚀\n",
        "\n",
        "To make things even better, all of this comes with minimal changes to the existing 🤗 transformers Whisper inference codebase.\n",
        "\n",
        "### Curious to test this out for yourself? Follow along!"
      ]
    },
    {
      "cell_type": "markdown",
      "metadata": {
        "id": "625e47a0"
      },
      "source": [
        "## Prepare Environment\n",
        "\n",
        "We'll employ several popular Python packages to fine-tune the Whisper model.\n",
        "We'll use `datasets` to download and prepare our training data and\n",
        "`transformers` to load and train our Whisper model. We'll also require\n",
        "the `librosa` package to pre-process audio files, `evaluate` and `jiwer` to\n",
        "assess the performance of our model. Finally, we'll\n",
        "use `PEFT`, `bitsandbytes`, `accelerate` to prepare and fine-tune the model with LoRA."
      ]
    },
    {
      "cell_type": "code",
      "execution_count": null,
      "metadata": {
        "id": "r_Ivl7qlX0dz"
      },
      "outputs": [],
      "source": [
        "!pip install -q transformers datasets librosa evaluate jiwer gradio bitsandbytes==0.37 accelerate\n",
        "!pip install -q git+https://github.com/huggingface/peft.git@main"
      ]
    },
    {
      "cell_type": "markdown",
      "metadata": {
        "id": "2MvOaXjUjK71"
      },
      "source": [
        "With the environment now set up, let's try to secure a decent GPU for our Colab! Unfortunately, it's becoming much harder to get access to a good GPU with the free version of Google Colab. However, with Google Colab Pro one should have no issues in being allocated a V100 or P100 GPU.\n",
        "\n",
        "To get a GPU, click _Runtime_ -> _Change runtime type_, then change _Hardware accelerator_ from _None_ to _GPU_.\n",
        "\n",
        "We can verify that we've been assigned a GPU and view its specifications:"
      ]
    },
    {
      "cell_type": "code",
      "execution_count": null,
      "metadata": {
        "id": "2kBtM9XSjKE5"
      },
      "outputs": [],
      "source": [
        "gpu_info = !nvidia-smi\n",
        "gpu_info = '\\n'.join(gpu_info)\n",
        "if gpu_info.find('failed') >= 0:\n",
        "  print('Not connected to a GPU')\n",
        "else:\n",
        "  print(gpu_info)"
      ]
    },
    {
      "cell_type": "markdown",
      "metadata": {
        "id": "6WwnavbBuezQ"
      },
      "source": [
        "Alrighty! Let's configure our environment to ensure it uses the GPU provided by Colab to us."
      ]
    },
    {
      "cell_type": "code",
      "execution_count": null,
      "metadata": {
        "id": "e1da5fff"
      },
      "outputs": [],
      "source": [
        "import os\n",
        "\n",
        "os.environ[\"CUDA_VISIBLE_DEVICES\"] = \"0\""
      ]
    },
    {
      "cell_type": "markdown",
      "metadata": {
        "id": "8a528c1a"
      },
      "source": [
        "We strongly advise you to upload model checkpoints directly the [Hugging Face Hub](https://huggingface.co/)\n",
        "whilst training. The Hub provides:\n",
        "- Integrated version control: you can be sure that no model checkpoint is lost during training.\n",
        "- Tensorboard logs: track important metrics over the course of training.\n",
        "- Model cards: document what a model does and its intended use cases.\n",
        "- Community: an easy way to share and collaborate with the community!\n",
        "\n",
        "Linking the notebook to the Hub is straightforward - it simply requires entering your Hub authentication token when prompted. Find your Hub authentication token [here](https://huggingface.co/settings/tokens):"
      ]
    },
    {
      "cell_type": "code",
      "execution_count": null,
      "metadata": {
        "id": "ed0OpduhX2JF"
      },
      "outputs": [],
      "source": [
        "# FIXME from huggingface_hub import notebook_login\n",
        "\n",
        "# FIXME notebook_login()"
      ]
    },
    {
      "cell_type": "markdown",
      "metadata": {
        "id": "gG-2lYDPw3uW"
      },
      "source": [
        "Next up, we define Whisper model checkpoints and task details."
      ]
    },
    {
      "cell_type": "code",
      "execution_count": null,
      "metadata": {
        "id": "mJ9M1WKhu0KM"
      },
      "outputs": [],
      "source": [
        "# FIXME model_name_or_path = \"openai/whisper-large-v2\"\n",
        "# FIXME task = \"transcribe\""
      ]
    },
    {
      "cell_type": "markdown",
      "metadata": {
        "id": "EuhppXc9xAt2"
      },
      "source": [
        "Lastly, we define the dataset details, including the language we'd like to fine-tune Whisper on too."
      ]
    },
    {
      "cell_type": "code",
      "execution_count": null,
      "metadata": {
        "id": "7sE0FPf7w-he"
      },
      "outputs": [],
      "source": [
        "# FIXME dataset_name = \"mozilla-foundation/common_voice_13_0\"\n",
        "# FIXME language = \"Hindi\"\n",
        "# FIXME language_abbr = \"hi\" # Short hand code for the language we want to fine-tune"
      ]
    },
    {
      "cell_type": "markdown",
      "metadata": {
        "id": "XPI5OZz4u3b1"
      },
      "source": [
        "# Load Dataset\n",
        "\n",
        "Using 🤗 Datasets, downloading and preparing data is extremely simple.\n",
        "We can download and prepare the Common Voice splits in just one line of code.\n",
        "\n",
        "First, ensure you have accepted the terms of use on the Hugging Face Hub: [mozilla-foundation/common_voice_13_0](https://huggingface.co/datasets/mozilla-foundation/common_voice_13_0). Once you have accepted the terms, you will have full access to the dataset and be able to download the data locally.\n",
        "\n",
        "Since Hindi is very low-resource, we'll combine the `train` and `validation`\n",
        "splits to give approximately 12 hours of training data. We'll use the 6 hours\n",
        "of `test` data as our held-out test set:"
      ]
    },
    {
      "cell_type": "code",
      "execution_count": null,
      "metadata": {
        "id": "a2787582-554f-44ce-9f38-4180a5ed6b44"
      },
      "outputs": [],
      "source": [
        "# FIXME from datasets import load_dataset, DatasetDict\n",
        "\n",
        "# FIXME common_voice = DatasetDict()\n",
        "\n",
        "# FIXME common_voice[\"train\"] = load_dataset(dataset_name, language_abbr, split=\"train+validation\", use_auth_token=True)\n",
        "# FIXME common_voice[\"test\"] = load_dataset(dataset_name, language_abbr, split=\"test\", use_auth_token=True)\n",
        "\n",
        "# FIXME print(common_voice)"
      ]
    },
    {
      "cell_type": "markdown",
      "metadata": {
        "id": "805b1c56"
      },
      "source": [
        "Most ASR datasets only provide input audio samples (`audio`) and the\n",
        "corresponding transcribed text (`sentence`). Common Voice contains additional\n",
        "metadata information, such as `accent` and `locale`, which we can disregard for ASR.\n",
        "Keeping the notebook as general as possible, we only consider the input audio and\n",
        "transcribed text for fine-tuning, discarding the additional metadata information:"
      ]
    },
    {
      "cell_type": "code",
      "execution_count": null,
      "metadata": {
        "id": "20ba635d-518c-47ac-97ee-3cad25f1e0ce"
      },
      "outputs": [],
      "source": [
        "# FIXME common_voice = common_voice.remove_columns(\n",
        "# FIXME     [\"accent\", \"age\", \"client_id\", \"down_votes\", \"gender\", \"locale\", \"path\", \"segment\", \"up_votes\", \"variant\"]\n",
        "# FIXME )\n",
        "\n",
        "# FIXME print(common_voice)"
      ]
    },
    {
      "cell_type": "markdown",
      "metadata": {
        "id": "2d63b2d2-f68a-4d74-b7f1-5127f6d16605"
      },
      "source": [
        "## Prepare Feature Extractor, Tokenizer and Data\n",
        "\n",
        "The ASR pipeline can be de-composed into three stages:\n",
        "1. A feature extractor which pre-processes the raw audio-inputs\n",
        "2. The model which performs the sequence-to-sequence mapping\n",
        "3. A tokenizer which post-processes the model outputs to text format\n",
        "\n",
        "In 🤗 Transformers, the Whisper model has an associated feature extractor and tokenizer,\n",
        "called [WhisperFeatureExtractor](https://huggingface.co/docs/transformers/main/model_doc/whisper#transformers.WhisperFeatureExtractor)\n",
        "and [WhisperTokenizer](https://huggingface.co/docs/transformers/main/model_doc/whisper#transformers.WhisperTokenizer)\n",
        "respectively."
      ]
    },
    {
      "cell_type": "code",
      "execution_count": null,
      "metadata": {
        "id": "bc77d7bb-f9e2-47f5-b663-30f7a4321ce5"
      },
      "outputs": [],
      "source": [
        "# FIXME from transformers import WhisperFeatureExtractor\n",
        "\n",
        "# FIXME feature_extractor = WhisperFeatureExtractor.from_pretrained(model_name_or_path)"
      ]
    },
    {
      "cell_type": "code",
      "execution_count": null,
      "metadata": {
        "id": "c7b07f9b-ae0e-4f89-98f0-0c50d432eab6"
      },
      "outputs": [],
      "source": [
        "# FIXME from transformers import WhisperTokenizer\n",
        "\n",
        "# FIXME tokenizer = WhisperTokenizer.from_pretrained(model_name_or_path, language=language, task=task)"
      ]
    },
    {
      "cell_type": "markdown",
      "metadata": {
        "id": "gIaGxWbXkcrC"
      },
      "source": [
        "To simplify using the feature extractor and tokenizer, we can _wrap_ both into a single `WhisperProcessor` class. This processor object can be used on the audio inputs and model predictions as required.\n",
        "In doing so, we only need to keep track of two objects during training:\n",
        "the `processor` and the `model`:"
      ]
    },
    {
      "cell_type": "code",
      "execution_count": null,
      "metadata": {
        "id": "77d9f0c5-8607-4642-a8ac-c3ab2e223ea6"
      },
      "outputs": [],
      "source": [
        "# FIXME from transformers import WhisperProcessor\n",
        "\n",
        "# FIXME processor = WhisperProcessor.from_pretrained(model_name_or_path, language=language, task=task)"
      ]
    },
    {
      "cell_type": "markdown",
      "metadata": {
        "id": "381acd09-0b0f-4d04-9eb3-f028ac0e5f2c"
      },
      "source": [
        "### Prepare Data\n",
        "\n",
        "Let's print the first example of the Common Voice dataset to see\n",
        "what form the data is in:"
      ]
    },
    {
      "cell_type": "code",
      "execution_count": null,
      "metadata": {
        "id": "6e6b0ec5-0c94-4e2c-ae24-c791be1b2255"
      },
      "outputs": [],
      "source": [
        "# FIXME print(common_voice[\"train\"][0])"
      ]
    },
    {
      "cell_type": "markdown",
      "metadata": {
        "id": "5a679f05-063d-41b3-9b58-4fc9c6ccf4fd"
      },
      "source": [
        "Since\n",
        "our input audio is sampled at 48kHz, we need to _downsample_ it to\n",
        "16kHz prior to passing it to the Whisper feature extractor, 16kHz being the sampling rate expected by the Whisper model.\n",
        "\n",
        "We'll set the audio inputs to the correct sampling rate using dataset's\n",
        "[`cast_column`](https://huggingface.co/docs/datasets/package_reference/main_classes.html?highlight=cast_column#datasets.DatasetDict.cast_column)\n",
        "method. This operation does not change the audio in-place,\n",
        "but rather signals to `datasets` to resample audio samples _on the fly_ the\n",
        "first time that they are loaded:"
      ]
    },
    {
      "cell_type": "code",
      "execution_count": null,
      "metadata": {
        "id": "f12e2e57-156f-417b-8cfb-69221cc198e8"
      },
      "outputs": [],
      "source": [
        "# FIXME from datasets import Audio\n",
        "\n",
        "# FIXME common_voice = common_voice.cast_column(\"audio\", Audio(sampling_rate=16000))"
      ]
    },
    {
      "cell_type": "markdown",
      "metadata": {
        "id": "00382a3e-abec-4cdd-a54c-d1aaa3ea4707"
      },
      "source": [
        "Re-loading the first audio sample in the Common Voice dataset will resample\n",
        "it to the desired sampling rate:"
      ]
    },
    {
      "cell_type": "code",
      "execution_count": null,
      "metadata": {
        "id": "87122d71-289a-466a-afcf-fa354b18946b"
      },
      "outputs": [],
      "source": [
        "# FIXME print(common_voice[\"train\"][0])"
      ]
    },
    {
      "cell_type": "markdown",
      "metadata": {
        "id": "91edc72d-08f8-4f01-899d-74e65ce441fc"
      },
      "source": [
        "Now we can write a function to prepare our data ready for the model:\n",
        "1. We load and resample the audio data by calling `batch[\"audio\"]`. As explained above, 🤗 Datasets performs any necessary resampling operations on the fly.\n",
        "2. We use the feature extractor to compute the log-Mel spectrogram input features from our 1-dimensional audio array.\n",
        "3. We encode the transcriptions to label ids through the use of the tokenizer."
      ]
    },
    {
      "cell_type": "code",
      "execution_count": null,
      "metadata": {
        "id": "6525c478-8962-4394-a1c4-103c54cce170"
      },
      "outputs": [],
      "source": [
        "# FIXME def prepare_dataset(batch):\n",
        "# FIXME     # load and resample audio data from 48 to 16kHz\n",
        "# FIXME     audio = batch[\"audio\"]\n",
        "\n",
        "# FIXME     # compute log-Mel input features from input audio array\n",
        "# FIXME     batch[\"input_features\"] = feature_extractor(audio[\"array\"], sampling_rate=audio[\"sampling_rate\"]).input_features[0]\n",
        "\n",
        "# FIXME     # encode target text to label ids\n",
        "# FIXME     batch[\"labels\"] = tokenizer(batch[\"sentence\"]).input_ids\n",
        "# FIXME     return batch"
      ]
    },
    {
      "cell_type": "markdown",
      "metadata": {
        "id": "70b319fb-2439-4ef6-a70d-a47bf41c4a13"
      },
      "source": [
        "We can apply the data preparation function to all of our training examples using dataset's `.map` method. The argument `num_proc` specifies how many CPU cores to use. Setting `num_proc` > 1 will enable multiprocessing. If the `.map` method hangs with multiprocessing, set `num_proc=1` and process the dataset sequentially.\n",
        "\n",
        "Make yourself some tea 🍵, depending on dataset size, this might take 20-30 minutes ⏰"
      ]
    },
    {
      "cell_type": "code",
      "execution_count": null,
      "metadata": {
        "id": "7b73ab39-ffaf-4b9e-86e5-782963c6134b"
      },
      "outputs": [],
      "source": [
        "# FIXME common_voice = common_voice.map(prepare_dataset, remove_columns=common_voice.column_names[\"train\"], num_proc=2)"
      ]
    },
    {
      "cell_type": "code",
      "execution_count": null,
      "metadata": {
        "id": "c4be572c"
      },
      "outputs": [],
      "source": [
        "# FIXME common_voice[\"train\"]"
      ]
    },
    {
      "cell_type": "markdown",
      "metadata": {
        "id": "263a5a58-0239-4a25-b0df-c625fc9c5810"
      },
      "source": [
        "## Training and Evaluation\n",
        "\n",
        "Now that we've prepared our data, we're ready to dive into the training pipeline.\n",
        "The [🤗 Trainer](https://huggingface.co/transformers/master/main_classes/trainer.html?highlight=trainer)\n",
        "will do much of the heavy lifting for us. All we have to do is:\n",
        "\n",
        "- Define a data collator: the data collator takes our pre-processed data and prepares PyTorch tensors ready for the model.\n",
        "\n",
        "- Evaluation metrics: during evaluation, we want to evaluate the model using the [word error rate (WER)](https://huggingface.co/metrics/wer) metric.\n",
        "\n",
        "- Load a pre-trained checkpoint: we need to load a pre-trained checkpoint and configure it correctly for training.\n",
        "\n",
        "- Define the training configuration: this will be used by the 🤗 Trainer to define the training schedule.\n",
        "\n",
        "Once we've fine-tuned the model, we will evaluate it on the test data to verify that we have correctly trained it\n",
        "to transcribe speech in Hindi."
      ]
    },
    {
      "cell_type": "markdown",
      "metadata": {
        "id": "8d230e6d-624c-400a-bbf5-fa660881df25"
      },
      "source": [
        "### Define a Data Collator\n",
        "\n",
        "The data collator for a sequence-to-sequence speech model is unique in the sense that it\n",
        "treats the `input_features` and `labels` independently: the  `input_features` must be\n",
        "handled by the feature extractor and the `labels` by the tokenizer.\n",
        "\n",
        "The `input_features` are already padded to 30s and converted to a log-Mel spectrogram\n",
        "of fixed dimension by action of the feature extractor, so all we have to do is convert the `input_features`\n",
        "to batched PyTorch tensors. We do this using the feature extractor's `.pad` method with `return_tensors=pt`.\n",
        "\n",
        "The `labels` on the other hand are un-padded. We first pad the sequences\n",
        "to the maximum length in the batch using the tokenizer's `.pad` method. The padding tokens\n",
        "are then replaced by `-100` so that these tokens are **not** taken into account when\n",
        "computing the loss. We then cut the BOS token from the start of the label sequence as we\n",
        "append it later during training.\n",
        "\n",
        "We can leverage the `WhisperProcessor` we defined earlier to perform both the\n",
        "feature extractor and the tokenizer operations:"
      ]
    },
    {
      "cell_type": "code",
      "execution_count": null,
      "metadata": {
        "id": "8326221e-ec13-4731-bb4e-51e5fc1486c5"
      },
      "outputs": [],
      "source": [
        "# FIXME import torch\n",
        "\n",
        "# FIXME from dataclasses import dataclass\n",
        "# FIXME from typing import Any, Dict, List, Union\n",
        "\n",
        "\n",
        "# FIXME @dataclass\n",
        "# FIXME class DataCollatorSpeechSeq2SeqWithPadding:\n",
        "# FIXME     processor: Any\n",
        "\n",
        "# FIXME     def __call__(self, features: List[Dict[str, Union[List[int], torch.Tensor]]]) -> Dict[str, torch.Tensor]:\n",
        "# FIXME         # split inputs and labels since they have to be of different lengths and need different padding methods\n",
        "# FIXME         # first treat the audio inputs by simply returning torch tensors\n",
        "# FIXME         input_features = [{\"input_features\": feature[\"input_features\"]} for feature in features]\n",
        "# FIXME         batch = self.processor.feature_extractor.pad(input_features, return_tensors=\"pt\")\n",
        "\n",
        "        # get the tokenized label sequences\n",
        "# FIXME         label_features = [{\"input_ids\": feature[\"labels\"]} for feature in features]\n",
        "        # pad the labels to max length\n",
        "# FIXME         labels_batch = self.processor.tokenizer.pad(label_features, return_tensors=\"pt\")\n",
        "\n",
        "        # replace padding with -100 to ignore loss correctly\n",
        "# FIXME         labels = labels_batch[\"input_ids\"].masked_fill(labels_batch.attention_mask.ne(1), -100)\n",
        "\n",
        "        # if bos token is appended in previous tokenization step,\n",
        "        # cut bos token here as it's append later anyways\n",
        "# FIXME         if (labels[:, 0] == self.processor.tokenizer.bos_token_id).all().cpu().item():\n",
        "# FIXME             labels = labels[:, 1:]\n",
        "\n",
        "# FIXME         batch[\"labels\"] = labels\n",
        "\n",
        "# FIXME         return batch"
      ]
    },
    {
      "cell_type": "markdown",
      "metadata": {
        "id": "3cae7dbf-8a50-456e-a3a8-7fd005390f86"
      },
      "source": [
        "Let's initialise the data collator we've just defined:"
      ]
    },
    {
      "cell_type": "code",
      "execution_count": null,
      "metadata": {
        "id": "fc834702-c0d3-4a96-b101-7b87be32bf42"
      },
      "outputs": [],
      "source": [
        "# FIXME data_collator = DataCollatorSpeechSeq2SeqWithPadding(processor=processor)"
      ]
    },
    {
      "cell_type": "markdown",
      "metadata": {
        "id": "d62bb2ab-750a-45e7-82e9-61d6f4805698"
      },
      "source": [
        "### Evaluation Metrics"
      ]
    },
    {
      "cell_type": "markdown",
      "metadata": {
        "id": "66fee1a7-a44c-461e-b047-c3917221572e"
      },
      "source": [
        "We'll use the word error rate (WER) metric, the 'de-facto' metric for assessing\n",
        "ASR systems. For more information, refer to the WER [docs](https://huggingface.co/metrics/wer). We'll load the WER metric from 🤗 Evaluate:"
      ]
    },
    {
      "cell_type": "code",
      "execution_count": null,
      "metadata": {
        "id": "b22b4011-f31f-4b57-b684-c52332f92890"
      },
      "outputs": [],
      "source": [
        "# FIXME import evaluate\n",
        "\n",
        "# FIXME metric = evaluate.load(\"wer\")"
      ]
    },
    {
      "cell_type": "markdown",
      "metadata": {
        "id": "daf2a825-6d9f-4a23-b145-c37c0039075b"
      },
      "source": [
        "### Load a Pre-Trained Checkpoint"
      ]
    },
    {
      "cell_type": "markdown",
      "metadata": {
        "id": "437a97fa-4864-476b-8abc-f28b8166cfa5"
      },
      "source": [
        "Now let's load the pre-trained Whisper checkpoint. Again, this\n",
        "is trivial through use of 🤗 Transformers!\n",
        "\n",
        "To reduce our models memory footprint, we load the model in 8bit, this means we quantize the model to use 1/4th precision (when comapared to float32) with minimal loss to performance. To read more about how this works, head over [here](https://huggingface.co/blog/hf-bitsandbytes-integration)."
      ]
    },
    {
      "cell_type": "code",
      "execution_count": null,
      "metadata": {
        "id": "5a10cc4b-07ec-4ebd-ac1d-7c601023594f"
      },
      "outputs": [],
      "source": [
        "# FIXME from transformers import WhisperForConditionalGeneration\n",
        "\n",
        "# FIXME model = WhisperForConditionalGeneration.from_pretrained(model_name_or_path, load_in_8bit=True, device_map=\"auto\")"
      ]
    },
    {
      "cell_type": "markdown",
      "metadata": {
        "id": "bR-_yaEOPsfQ"
      },
      "source": [
        "### Post-processing on the model\n",
        "\n",
        "Finally, we need to apply some post-processing steps on the 8-bit model to enable training. We do so by first freezing all the model layers, and then cast the layer-norm and the output layer in `float32` for training and model stability."
      ]
    },
    {
      "cell_type": "code",
      "execution_count": null,
      "metadata": {
        "id": "Cl_ZQualPt9R"
      },
      "outputs": [],
      "source": [
        "# FIXME from peft import prepare_model_for_int8_training\n",
        "\n",
        "# FIXME model = prepare_model_for_int8_training(model, output_embedding_layer_name=\"proj_out\")"
      ]
    },
    {
      "cell_type": "markdown",
      "source": [
        "Since the Whisper model uses Convolutional layers in the Encoder, checkpointing disables grad computation to avoid this we specifically need to make the inputs trainable."
      ],
      "metadata": {
        "id": "p0Ja2e__OX02"
      }
    },
    {
      "cell_type": "code",
      "source": [
        "# FIXME def make_inputs_require_grad(module, input, output):\n",
        "# FIXME     output.requires_grad_(True)\n",
        "\n",
        "# FIXME model.model.encoder.conv1.register_forward_hook(make_inputs_require_grad)"
      ],
      "metadata": {
        "id": "bmpeiajSOWCy"
      },
      "execution_count": null,
      "outputs": []
    },
    {
      "cell_type": "markdown",
      "metadata": {
        "id": "Vjl4j4RJPmPR"
      },
      "source": [
        "### Apply Low-rank adapters (LoRA) to the model\n",
        "\n",
        "Here comes the magic with `peft`! Let's load a `PeftModel` and specify that we are going to use low-rank adapters (LoRA) using `get_peft_model` utility function from `peft`."
      ]
    },
    {
      "cell_type": "code",
      "execution_count": null,
      "metadata": {
        "id": "DQtpDPRHPyOL"
      },
      "outputs": [],
      "source": [
        "# FIXME from peft import LoraConfig, PeftModel, LoraModel, LoraConfig, get_peft_model\n",
        "\n",
        "# FIXME config = LoraConfig(r=32, lora_alpha=64, target_modules=[\"q_proj\", \"v_proj\"], lora_dropout=0.05, bias=\"none\")\n",
        "\n",
        "# FIXME model = get_peft_model(model, config)\n",
        "# FIXME model.print_trainable_parameters()"
      ]
    },
    {
      "cell_type": "markdown",
      "metadata": {
        "id": "3906d436"
      },
      "source": [
        "We are ONLY using **1%** of the total trainable parameters, thereby performing **Parameter-Efficient Fine-Tuning**"
      ]
    },
    {
      "cell_type": "markdown",
      "metadata": {
        "id": "2178dea4-80ca-47b6-b6ea-ba1915c90c06"
      },
      "source": [
        "### Define the Training Configuration"
      ]
    },
    {
      "cell_type": "markdown",
      "metadata": {
        "id": "c21af1e9-0188-4134-ac82-defc7bdcc436"
      },
      "source": [
        "In the final step, we define all the parameters related to training. For more detail on the training arguments, refer to the Seq2SeqTrainingArguments [docs](https://huggingface.co/docs/transformers/main_classes/trainer#transformers.Seq2SeqTrainingArguments)."
      ]
    },
    {
      "cell_type": "code",
      "execution_count": null,
      "metadata": {
        "id": "0ae3e9af-97b7-4aa0-ae85-20b23b5bcb3a"
      },
      "outputs": [],
      "source": [
        "# FIXME from transformers import Seq2SeqTrainingArguments\n",
        "\n",
        "# FIXME training_args = Seq2SeqTrainingArguments(\n",
        "# FIXME     output_dir=\"reach-vb/test\",  # change to a repo name of your choice\n",
        "# FIXME     per_device_train_batch_size=8,\n",
        "# FIXME     gradient_accumulation_steps=1,  # increase by 2x for every 2x decrease in batch size\n",
        "# FIXME     learning_rate=1e-3,\n",
        "# FIXME     warmup_steps=50,\n",
        "# FIXME     num_train_epochs=1,\n",
        "# FIXME     evaluation_strategy=\"steps\",\n",
        "# FIXME     fp16=True,\n",
        "# FIXME     per_device_eval_batch_size=8,\n",
        "# FIXME     generation_max_length=128,\n",
        "# FIXME     logging_steps=100,\n",
        "# FIXME     max_steps=100, # only for testing purposes, remove this from your final run :)\n",
        "# FIXME     remove_unused_columns=False,  # required as the PeftModel forward doesn't have the signature of the wrapped model's forward\n",
        "# FIXME     label_names=[\"labels\"],  # same reason as above\n",
        "# FIXME )"
      ]
    },
    {
      "cell_type": "markdown",
      "metadata": {
        "id": "b3a944d8-3112-4552-82a0-be25988b3857"
      },
      "source": [
        "Fine-tuning a model with PEFT comes with a few caveats.\n",
        "\n",
        "1. We need to explicitly set `remove_unused_columns=False` and `label_names=[\"labels\"]` as the PeftModel's forward doesn't inherit the signature of the base model's forward.\n",
        "\n",
        "2. Since INT8 training requires autocasting, we cannot use the native `predict_with_generate` call in Trainer as it doesn't automatically cast.\n",
        "\n",
        "3. Similarly, since we cannot autocast, we cannot pass the `compute_metrics` to `Seq2SeqTrainer` so we'll comment it out whilst instantiating the Trainer."
      ]
    },
    {
      "cell_type": "code",
      "execution_count": null,
      "metadata": {
        "id": "d546d7fe-0543-479a-b708-2ebabec19493"
      },
      "outputs": [],
      "source": [
        "# FIXME from transformers import Seq2SeqTrainer, TrainerCallback, TrainingArguments, TrainerState, TrainerControl\n",
        "# FIXME from transformers.trainer_utils import PREFIX_CHECKPOINT_DIR\n",
        "\n",
        "# This callback helps to save only the adapter weights and remove the base model weights.\n",
        "# FIXME class SavePeftModelCallback(TrainerCallback):\n",
        "# FIXME     def on_save(\n",
        "# FIXME         self,\n",
        "# FIXME         args: TrainingArguments,\n",
        "# FIXME         state: TrainerState,\n",
        "# FIXME         control: TrainerControl,\n",
        "# FIXME         **kwargs,\n",
        "# FIXME     ):\n",
        "# FIXME         checkpoint_folder = os.path.join(args.output_dir, f\"{PREFIX_CHECKPOINT_DIR}-{state.global_step}\")\n",
        "\n",
        "# FIXME         peft_model_path = os.path.join(checkpoint_folder, \"adapter_model\")\n",
        "# FIXME         kwargs[\"model\"].save_pretrained(peft_model_path)\n",
        "\n",
        "# FIXME         pytorch_model_path = os.path.join(checkpoint_folder, \"pytorch_model.bin\")\n",
        "# FIXME         if os.path.exists(pytorch_model_path):\n",
        "# FIXME             os.remove(pytorch_model_path)\n",
        "# FIXME         return control\n",
        "\n",
        "\n",
        "# FIXME trainer = Seq2SeqTrainer(\n",
        "# FIXME     args=training_args,\n",
        "# FIXME     model=model,\n",
        "# FIXME     train_dataset=common_voice[\"train\"],\n",
        "# FIXME     eval_dataset=common_voice[\"test\"],\n",
        "# FIXME     data_collator=data_collator,\n",
        "    # compute_metrics=compute_metrics,\n",
        "# FIXME     tokenizer=processor.feature_extractor,\n",
        "# FIXME     callbacks=[SavePeftModelCallback],\n",
        "# FIXME )\n",
        "# FIXME model.config.use_cache = False  # silence the warnings. Please re-enable for inference!"
      ]
    },
    {
      "cell_type": "code",
      "execution_count": null,
      "metadata": {
        "id": "ee8b7b8e-1c9a-4d77-9137-1778a629e6de"
      },
      "outputs": [],
      "source": [
        "# FIXME trainer.train()"
      ]
    },
    {
      "cell_type": "markdown",
      "source": [
        "Now that our model is fine-tuned, we can push the model on to Hugging Face Hub, this will later help us directly infer the model from the model repo."
      ],
      "metadata": {
        "id": "8iqXhUiuBQCs"
      }
    },
    {
      "cell_type": "code",
      "execution_count": null,
      "metadata": {
        "id": "0576aa2a"
      },
      "outputs": [],
      "source": [
        "# FIXME peft_model_id = \"reach-vb/whisper-large-v2-hindi-100steps\"\n",
        "# FIXME model.push_to_hub(peft_model_id)"
      ]
    },
    {
      "cell_type": "markdown",
      "source": [
        "## ВСЕ ДО ЭТОГО ШАГА МОЖНО ПРОПУСТИТЬ И СКАЧАТЬ СРАЗУ ОБУЧЕННУЮ МОДЕЛЬ"
      ],
      "metadata": {
        "id": "ihZ18UNqhHAj"
      }
    },
    {
      "cell_type": "code",
      "source": [
        "# https://github.com/guillaumekln/faster-whisper/issues/36#issuecomment-1480999802\n",
        "\n",
        "# I pushed converted models to the HuggingFace Hub: https://huggingface.co/guillaumekln/faster-whisper-large-v2/tree/main\n",
        "\n",
        "# The linked PR is also updating the code to automatically download these models so that the conversion step is no longer needed in most cases."
      ],
      "metadata": {
        "id": "uhYqdXuNhi37"
      },
      "execution_count": null,
      "outputs": []
    },
    {
      "cell_type": "code",
      "source": [
        "# README https://huggingface.co/guillaumekln/faster-whisper-large-v2/blob/main/README.md"
      ],
      "metadata": {
        "id": "Wf1OfpwsiNo2"
      },
      "execution_count": null,
      "outputs": []
    },
    {
      "cell_type": "code",
      "source": [
        "# EXAMPLE https://huggingface.co/openai/whisper-large-v2"
      ],
      "metadata": {
        "id": "_YXW4lVhiRf-"
      },
      "execution_count": null,
      "outputs": []
    },
    {
      "cell_type": "code",
      "source": [
        "# FIXME !git lfs install\n",
        "# FIXME !rm -rf openai\n",
        "# FIXME !mkdir -p openai\n",
        "# FIXME !git clone https://huggingface.co/openai/whisper-large-v2 openai/whisper-large-v2\n"
      ],
      "metadata": {
        "id": "eRggguyLrrpJ"
      },
      "execution_count": null,
      "outputs": []
    },
    {
      "cell_type": "code",
      "source": [
        "# FIXME !git lfs install\n",
        "# FIXME !rm -rf guillaumekln\n",
        "# FIXME !mkdir -p guillaumekln\n",
        "# FIXME !git clone https://huggingface.co/guillaumekln/faster-whisper-large-v2 guillaumekln/faster-whisper-large-v2\n"
      ],
      "metadata": {
        "id": "NRIvudREk5aj"
      },
      "execution_count": null,
      "outputs": []
    },
    {
      "cell_type": "code",
      "source": [
        "!pip install -U openai-whisper"
      ],
      "metadata": {
        "id": "ZlO1JkJhy86t"
      },
      "execution_count": null,
      "outputs": []
    },
    {
      "cell_type": "code",
      "source": [
        "import torch\n",
        "from transformers import pipeline\n",
        "from datasets import load_dataset\n",
        "\n",
        "device = \"cuda:0\" if torch.cuda.is_available() else \"cpu\"\n",
        "\n",
        "pipe = pipeline(\n",
        "  \"automatic-speech-recognition\",\n",
        "  model=\"openai/whisper-large-v2\",\n",
        "  chunk_length_s=30,\n",
        "  device=device,\n",
        ")\n",
        "\n",
        "# FIXME ds = load_dataset(\"hf-internal-testing/librispeech_asr_dummy\", \"clean\", split=\"validation\")\n",
        "# FIXME sample = ds[0][\"audio\"]\n",
        "\n",
        "# FIXME prediction = pipe(sample.copy(), batch_size=8)[\"text\"]\n",
        "# FIXME \" Mr. Quilter is the apostle of the middle classes, and we are glad to welcome his gospel.\"\n",
        "\n",
        "# we can also return timestamps for the predictions\n",
        "# FIXME prediction = pipe(sample.copy(), batch_size=8, return_timestamps=True)[\"chunks\"]\n",
        "# FIXME [{'text': ' Mr. Quilter is the apostle of the middle classes and we are glad to welcome his gospel.',\n",
        "# FIXME   'timestamp': (0.0, 5.44)}]\n",
        "\n"
      ],
      "metadata": {
        "id": "KrbtclGPpaUQ"
      },
      "execution_count": null,
      "outputs": []
    },
    {
      "cell_type": "code",
      "source": [
        "!mkdir -p /content/drive/LARGE_V2"
      ],
      "metadata": {
        "id": "m0M54hnH1gJh"
      },
      "execution_count": null,
      "outputs": []
    },
    {
      "cell_type": "markdown",
      "source": [
        "## ОШИБКА - СЕАНС ПРЕКРАЩЕН ИЗ-ЗА НЕХВАТКИ ОЗУ"
      ],
      "metadata": {
        "id": "CJfWoQXW5JKL"
      }
    },
    {
      "cell_type": "code",
      "source": [
        "import whisper\n",
        "\n",
        "model = whisper.load_model(\"large-v2\")\n",
        "count = 0\n",
        "for youtube_file in youtube_files:\n",
        "    count = count + 1\n",
        "    with open(f\"/content/drive/LARGE_V2/{count}.txt\", \"w\") as fw:\n",
        "        # load audio and pad/trim it to fit 30 seconds\n",
        "        audio = whisper.load_audio(youtube_file)\n",
        "        audio = whisper.pad_or_trim(audio)\n",
        "\n",
        "        # make log-Mel spectrogram and move to the same device as the model\n",
        "        mel = whisper.log_mel_spectrogram(audio).to(model.device)\n",
        "\n",
        "        # detect the spoken language\n",
        "        _, probs = model.detect_language(mel)\n",
        "        print(f\"Detected language: {max(probs, key=probs.get)}\")\n",
        "\n",
        "        # decode the audio\n",
        "        options = whisper.DecodingOptions()\n",
        "        result = whisper.decode(model, mel, options)\n",
        "\n",
        "        # print the recognized text\n",
        "        print(result.text)\n",
        "        fw.write(result.text)\n",
        "\n",
        "# FIXME segments, info = model.transcribe(youtube_file)\n",
        "# FIXME for segment in segments:\n",
        "# FIXME     print(\"[%.2fs -> %.2fs] %s\" % (segment.start, segment.end, segment.text))"
      ],
      "metadata": {
        "id": "ThLdRgeSzjeY"
      },
      "execution_count": null,
      "outputs": []
    },
    {
      "cell_type": "code",
      "source": [
        "# FIXME import torch\n",
        "\n",
        "# FIXME from transformers import pipeline\n",
        "\n",
        "# FIXME from datasets import load_dataset\n",
        "\n",
        "# FIXME device = \"cuda:0\" if torch.cuda.is_available() else \"cpu\"\n",
        "\n",
        "# FIXME pipe = pipeline(\n",
        "\n",
        "# FIXME   \"automatic-speech-recognition\",\n",
        "\n",
        "# FIXME   model=\"openai/whisper-large-v2\",\n",
        "\n",
        "# FIXME   chunk_length_s=30,\n",
        "\n",
        "# FIXME   device=device,\n",
        "\n",
        "# FIXME )\n",
        "\n",
        "# FIXME ds = load_dataset(\"hf-internal-testing/librispeech_asr_dummy\", \"clean\", split=\"validation\")\n",
        "\n",
        "# FIXME sample = ds[0][\"audio\"]\n",
        "\n",
        "# FIXME prediction = pipe(sample.copy(), batch_size=8)[\"text\"]\n",
        "# FIXME \" Mr. Quilter is the apostle of the middle classes, and we are glad to welcome his gospel.\"\n",
        "\n",
        "# we can also return timestamps for the predictions\n",
        "\n",
        "# FIXME prediction = pipe(sample.copy(), batch_size=8, return_timestamps=True)[\"chunks\"]\n",
        "# FIXME [{'text': ' Mr. Quilter is the apostle of the middle classes and we are glad to welcome his gospel.',\n",
        "# FIXME   'timestamp': (0.0, 5.44)}]"
      ],
      "metadata": {
        "id": "8VtgF5WJmz0x"
      },
      "execution_count": null,
      "outputs": []
    },
    {
      "cell_type": "code",
      "source": [
        "# FIXME from transformers import WhisperProcessor, WhisperForConditionalGeneration\n",
        "\n",
        "# FIXME from datasets import Audio, load_dataset\n",
        "\n",
        "# load model and processor\n",
        "\n",
        "# FIXME processor = WhisperProcessor.from_pretrained(\"openai/whisper-large-v2\")\n",
        "\n",
        "# FIXME model = WhisperForConditionalGeneration.from_pretrained(\"openai/whisper-large-v2\")\n",
        "\n",
        "# FIXME forced_decoder_ids = processor.get_decoder_prompt_ids(language=\"russian\", task=\"transcribe\")\n",
        "\n",
        "# load streaming dataset and read first audio sample\n",
        "\n",
        "# FIXME ds = load_dataset(\"common_voice\", \"ru\", split=\"test\", streaming=True)\n",
        "\n",
        "# FIXME ds = ds.cast_column(\"audio\", Audio(sampling_rate=16_000))\n",
        "\n",
        "# FIXME input_speech = next(iter(ds))[\"audio\"]\n",
        "\n",
        "# FIXME input_features = processor(input_speech[\"array\"], sampling_rate=input_speech[\"sampling_rate\"], return_tensors=\"pt\").input_features\n",
        "\n",
        "# generate token ids\n",
        "\n",
        "# FIXME predicted_ids = model.generate(input_features, forced_decoder_ids=forced_decoder_ids)\n",
        "\n",
        "# decode token ids to text\n",
        "\n",
        "# FIXME transcription = processor.batch_decode(predicted_ids)\n",
        "# FIXME ['<|startoftranscript|><|ru|><|transcribe|><|notimestamps|> Наконец-то будет проведена действительно интересная работа по этой теме.<|endoftext|>']\n",
        "\n",
        "# FIXME transcription = processor.batch_decode(predicted_ids, skip_special_tokens=True)\n",
        "# FIXME [' Наконец-то будет проведена действительно интересная работа по этой теме.']"
      ],
      "metadata": {
        "id": "FhdCzv5fmzsl"
      },
      "execution_count": null,
      "outputs": []
    },
    {
      "cell_type": "markdown",
      "source": [
        "## ВСЕ ПОСЛЕ ЭТОГО ШАГА МОЖНО ПРОПУСТИТЬ ТАК КАК СКАЧАЛИ ОБУЧЕННУЮ МОДЕЛЬ"
      ],
      "metadata": {
        "id": "nmxE4Smpk8gc"
      }
    },
    {
      "cell_type": "markdown",
      "metadata": {
        "id": "SlyyOGnPgi_I"
      },
      "source": [
        "# Evaluation and Inference"
      ]
    },
    {
      "cell_type": "markdown",
      "metadata": {
        "id": "Kzfg2qoXgrhg"
      },
      "source": [
        "On to the fun part, we've successfully fine-tuned our model. Now let's put it to test and calculate the WER on the `test` set.\n",
        "\n",
        "As with training, we do have a few caveats to pay attention to:\n",
        "1. Since we cannot use `predict_with_generate` function, we will hand roll our own eval loop with `torch.cuda.amp.autocast()` you can check it out below.\n",
        "2. Since the base model is frozen, PEFT model sometimes fails to recognise the language while decoding. To fix that, we force the starting tokens to mention the language we are transcribing. This is done via `forced_decoder_ids = processor.get_decoder_prompt_ids(language=\"Marathi\", task=\"transcribe\")` and passing that too the `model.generate` call.\n",
        "\n",
        "That's it, let's get transcribing! 🔥\n"
      ]
    },
    {
      "cell_type": "code",
      "execution_count": null,
      "metadata": {
        "id": "273a996c"
      },
      "outputs": [],
      "source": [
        "# FIXME from peft import PeftModel, PeftConfig\n",
        "# FIXME from transformers import WhisperForConditionalGeneration, Seq2SeqTrainer\n",
        "\n",
        "# FIXME peft_model_id = \"reach-vb/whisper-large-v2-hindi-100steps\" # Use the same model ID as before.\n",
        "# FIXME peft_config = PeftConfig.from_pretrained(peft_model_id)\n",
        "# FIXME model = WhisperForConditionalGeneration.from_pretrained(\n",
        "# FIXME     peft_config.base_model_name_or_path, load_in_8bit=True, device_map=\"auto\"\n",
        "# FIXME )\n",
        "# FIXME model = PeftModel.from_pretrained(model, peft_model_id)\n",
        "# FIXME model.config.use_cache = True"
      ]
    },
    {
      "cell_type": "code",
      "execution_count": null,
      "metadata": {
        "id": "401ceaa6"
      },
      "outputs": [],
      "source": [
        "# FIXME import gc\n",
        "# FIXME import numpy as np\n",
        "# FIXME from tqdm import tqdm\n",
        "# FIXME from torch.utils.data import DataLoader\n",
        "# FIXME from transformers.models.whisper.english_normalizer import BasicTextNormalizer\n",
        "\n",
        "# FIXME eval_dataloader = DataLoader(common_voice[\"test\"], batch_size=8, collate_fn=data_collator)\n",
        "# FIXME forced_decoder_ids = processor.get_decoder_prompt_ids(language=language, task=task)\n",
        "# FIXME normalizer = BasicTextNormalizer()\n",
        "\n",
        "# FIXME predictions = []\n",
        "# FIXME references = []\n",
        "# FIXME normalized_predictions = []\n",
        "# FIXME normalized_references = []\n",
        "\n",
        "# FIXME model.eval()\n",
        "# FIXME for step, batch in enumerate(tqdm(eval_dataloader)):\n",
        "# FIXME     with torch.cuda.amp.autocast():\n",
        "# FIXME         with torch.no_grad():\n",
        "# FIXME             generated_tokens = (\n",
        "# FIXME                 model.generate(\n",
        "# FIXME                     input_features=batch[\"input_features\"].to(\"cuda\"),\n",
        "# FIXME                     forced_decoder_ids=forced_decoder_ids,\n",
        "# FIXME                     max_new_tokens=255,\n",
        "# FIXME                 )\n",
        "# FIXME                 .cpu()\n",
        "# FIXME                 .numpy()\n",
        "# FIXME             )\n",
        "# FIXME             labels = batch[\"labels\"].cpu().numpy()\n",
        "# FIXME             labels = np.where(labels != -100, labels, processor.tokenizer.pad_token_id)\n",
        "# FIXME             decoded_preds = processor.tokenizer.batch_decode(generated_tokens, skip_special_tokens=True)\n",
        "# FIXME             decoded_labels = processor.tokenizer.batch_decode(labels, skip_special_tokens=True)\n",
        "# FIXME             predictions.extend(decoded_preds)\n",
        "# FIXME             references.extend(decoded_labels)\n",
        "# FIXME             normalized_predictions.extend([normalizer(pred).strip() for pred in decoded_preds])\n",
        "# FIXME             normalized_references.extend([normalizer(label).strip() for label in decoded_labels])\n",
        "# FIXME         del generated_tokens, labels, batch\n",
        "# FIXME     gc.collect()\n",
        "# FIXME wer = 100 * metric.compute(predictions=predictions, references=references)\n",
        "# FIXME normalized_wer = 100 * metric.compute(predictions=normalized_predictions, references=normalized_references)\n",
        "# FIXME eval_metrics = {\"eval/wer\": wer, \"eval/normalized_wer\": normalized_wer}\n",
        "\n",
        "# FIXME print(f\"{wer=} and {normalized_wer=}\")\n",
        "# FIXME print(eval_metrics)"
      ]
    },
    {
      "cell_type": "markdown",
      "source": [
        "## Fin!\n",
        "\n",
        "If you made it all the way till the end then pat yourself on the back. Looking back, we learned how to train *any* Whisper checkpoint faster, cheaper and with negligible loss in WER.\n",
        "\n",
        "With PEFT, you can also go beyond Speech recognition and apply the same set of techniques to other pretrained models as well. Come check it out here: https://github.com/huggingface/peft 🤗\n",
        "\n",
        "Don't forget to tweet your results and tag us! [@huggingface](https://twitter.com/huggingface) and [@reach_vb](https://twitter.com/reach_vb) ❤️"
      ],
      "metadata": {
        "id": "j3XF0PzsCV0v"
      }
    }
  ],
  "metadata": {
    "colab": {
      "provenance": []
    },
    "kernelspec": {
      "display_name": "Python 3",
      "name": "python3"
    },
    "language_info": {
      "name": "python"
    }
  },
  "nbformat": 4,
  "nbformat_minor": 0
}