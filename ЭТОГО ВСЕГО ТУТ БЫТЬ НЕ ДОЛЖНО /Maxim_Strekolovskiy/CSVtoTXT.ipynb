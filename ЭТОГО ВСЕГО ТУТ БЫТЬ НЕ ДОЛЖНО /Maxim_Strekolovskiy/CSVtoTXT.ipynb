{
  "nbformat": 4,
  "nbformat_minor": 0,
  "metadata": {
    "colab": {
      "provenance": []
    },
    "kernelspec": {
      "name": "python3",
      "display_name": "Python 3"
    },
    "language_info": {
      "name": "python"
    }
  },
  "cells": [
    {
      "cell_type": "markdown",
      "source": [
        "Пример загрузки базы CSV. Позволяет вручную настроить какие ячейки таблицы требуется прочитать и загрузить. Также присутствует возможность выгрузки отдельных ячеек csv во временный txt файл с последующей обработкой GPT."
      ],
      "metadata": {
        "id": "uqAzNq3L-QSM"
      }
    },
    {
      "cell_type": "code",
      "execution_count": null,
      "metadata": {
        "id": "R9jj61sb9wSa"
      },
      "outputs": [],
      "source": [
        "google_sheet_url = \"https://docs.google.com/spreadsheets/d/10Cn3fClsFDH324L7PLA-lfOvUtq_rRga\"\n",
        "full_url = f'https://docs.google.com/document/d/{doc_id}/export?format=csv'\n",
        "\n",
        "import pandas as pd\n",
        "import os\n",
        "\n",
        "# Функция обработки каждой строки данных\n",
        "def process_row(row, base_text_path):\n",
        "    device = row['Device']\n",
        "    review_submit_datetime = row['Review Submit Date and Time']\n",
        "    star_rating = row['Star Rating']\n",
        "    review_title = row['Review Title']\n",
        "    review_text = row['Review Text']\n",
        "    developer_reply_datetime = row['Developer Reply Date and Time']\n",
        "    developer_reply_text = row['Developer Reply Text']\n",
        "\n",
        "    # Делаем что-то с данными (например, печатаем их)\n",
        "    print(f\"Устройство: {device}\")\n",
        "    print(f\"Дата и время отправки отзыва: {review_submit_datetime}\")\n",
        "    print(f\"Звездный рейтинг: {star_rating}\")\n",
        "    print(f\"Заголовок отзыва: {review_title}\")\n",
        "    print(f\"Текст отзыва: {review_text}\")\n",
        "    print(f\"Дата и время ответа разработчика: {developer_reply_datetime}\")\n",
        "    print(f\"Текст ответа разработчика: {developer_reply_text}\")\n",
        "    print(\"\\n\")\n",
        "\n",
        "    # Создание каталога, если он не существует\n",
        "    os.makedirs(base_text_path, exist_ok=True)\n",
        "\n",
        "    # Сохранение данных таблицы во временный файл\n",
        "    # Проверка, не является ли review_text значением nan\n",
        "    if pd.notna(review_text):  # Если review_text не является nan, то записываем в файл\n",
        "        with open('/content/reviews/reviews.txt', 'a') as file:\n",
        "            file.write(f\"Заголовок: {review_title}\\n\")\n",
        "            file.write(f\"Текст отзыва: {review_text}\\n\\n\")\n",
        "\n",
        "    # Обработка текста review_text\n",
        "    base_text_path = \"/content/reviews\"  # Путь к папке, куда вы хотите сохранять текстовые файлы\n",
        "    text_path = [os.path.join(base_text_path, file) for file in os.listdir(base_text_path) if file.endswith('.txt')]\n",
        "\n",
        "\n",
        "# Функция для загрузки и обработки Google Sheet\n",
        "def load_and_process_google_sheet(sheet_url, base_text_path):\n",
        "    try:\n",
        "        # Загружаем Google Sheet в DataFrame\n",
        "        df = pd.read_csv(sheet_url)\n",
        "        # Применяем функцию process_row к каждой строке DataFrame\n",
        "        df.apply(process_row, axis=1, args=(base_text_path,))\n",
        "        print(\"Таблица успешно обработана!\")\n",
        "    except Exception as e:\n",
        "        print(f\"Ошибка: {e}\")\n",
        "\n",
        "# Вызов функции для загрузки и обработки Google Sheet\n",
        "base = '/content/reviews/reviews.txt'   # Отзывы\n",
        "load_and_process_google_sheet(google_sheet_url, base_text_path)"
      ]
    }
  ]
}