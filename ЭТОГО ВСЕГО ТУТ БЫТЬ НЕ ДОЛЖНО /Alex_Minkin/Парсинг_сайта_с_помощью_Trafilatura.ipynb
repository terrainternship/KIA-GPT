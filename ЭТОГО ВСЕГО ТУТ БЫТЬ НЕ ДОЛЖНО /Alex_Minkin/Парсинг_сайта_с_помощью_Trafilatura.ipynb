{
  "cells": [
    {
      "cell_type": "markdown",
      "id": "59249398-24e8-4339-a6ad-1c0ef69fb25e",
      "metadata": {
        "id": "59249398-24e8-4339-a6ad-1c0ef69fb25e"
      },
      "source": [
        "# Trafilatura: Overview\n",
        "\n",
        "## 1. Installation\n",
        "\n",
        "`pip install trafilatura`\n",
        "\n",
        "#### Updating\n",
        "\n",
        "`pip install -U trafilatura`\n",
        "\n",
        "For more info see [Installation](https://trafilatura.readthedocs.io/en/latest/installation.html)."
      ]
    },
    {
      "cell_type": "code",
      "source": [
        "pip install trafilatura"
      ],
      "metadata": {
        "colab": {
          "base_uri": "https://localhost:8080/"
        },
        "id": "uNyjupSNntjz",
        "outputId": "dc993943-7112-4d31-fcc9-7e7ccfd0f227"
      },
      "id": "uNyjupSNntjz",
      "execution_count": null,
      "outputs": [
        {
          "output_type": "stream",
          "name": "stdout",
          "text": [
            "Collecting trafilatura\n",
            "  Downloading trafilatura-1.6.1-py3-none-any.whl (1.0 MB)\n",
            "\u001b[2K     \u001b[90m━━━━━━━━━━━━━━━━━━━━━━━━━━━━━━━━━━━━━━━━\u001b[0m \u001b[32m1.0/1.0 MB\u001b[0m \u001b[31m10.3 MB/s\u001b[0m eta \u001b[36m0:00:00\u001b[0m\n",
            "\u001b[?25hRequirement already satisfied: certifi in /usr/local/lib/python3.10/dist-packages (from trafilatura) (2023.7.22)\n",
            "Collecting courlan>=0.9.3 (from trafilatura)\n",
            "  Downloading courlan-0.9.3-py3-none-any.whl (41 kB)\n",
            "\u001b[2K     \u001b[90m━━━━━━━━━━━━━━━━━━━━━━━━━━━━━━━━━━━━━━━━\u001b[0m \u001b[32m41.9/41.9 kB\u001b[0m \u001b[31m5.1 MB/s\u001b[0m eta \u001b[36m0:00:00\u001b[0m\n",
            "\u001b[?25hCollecting htmldate>=1.4.3 (from trafilatura)\n",
            "  Downloading htmldate-1.4.3-py3-none-any.whl (41 kB)\n",
            "\u001b[2K     \u001b[90m━━━━━━━━━━━━━━━━━━━━━━━━━━━━━━━━━━━━━━━━\u001b[0m \u001b[32m41.0/41.0 kB\u001b[0m \u001b[31m5.4 MB/s\u001b[0m eta \u001b[36m0:00:00\u001b[0m\n",
            "\u001b[?25hCollecting justext>=3.0.0 (from trafilatura)\n",
            "  Downloading jusText-3.0.0-py2.py3-none-any.whl (837 kB)\n",
            "\u001b[2K     \u001b[90m━━━━━━━━━━━━━━━━━━━━━━━━━━━━━━━━━━━━━━\u001b[0m \u001b[32m837.8/837.8 kB\u001b[0m \u001b[31m18.7 MB/s\u001b[0m eta \u001b[36m0:00:00\u001b[0m\n",
            "\u001b[?25hRequirement already satisfied: lxml>=4.9.2 in /usr/local/lib/python3.10/dist-packages (from trafilatura) (4.9.3)\n",
            "Requirement already satisfied: charset-normalizer>=3.1.0 in /usr/local/lib/python3.10/dist-packages (from trafilatura) (3.2.0)\n",
            "Requirement already satisfied: urllib3<3,>=1.26 in /usr/local/lib/python3.10/dist-packages (from trafilatura) (2.0.4)\n",
            "Requirement already satisfied: langcodes>=3.3.0 in /usr/local/lib/python3.10/dist-packages (from courlan>=0.9.3->trafilatura) (3.3.0)\n",
            "Collecting tld>=0.13 (from courlan>=0.9.3->trafilatura)\n",
            "  Downloading tld-0.13-py2.py3-none-any.whl (263 kB)\n",
            "\u001b[2K     \u001b[90m━━━━━━━━━━━━━━━━━━━━━━━━━━━━━━━━━━━━━━\u001b[0m \u001b[32m263.8/263.8 kB\u001b[0m \u001b[31m18.6 MB/s\u001b[0m eta \u001b[36m0:00:00\u001b[0m\n",
            "\u001b[?25hCollecting dateparser>=1.1.2 (from htmldate>=1.4.3->trafilatura)\n",
            "  Downloading dateparser-1.1.8-py2.py3-none-any.whl (293 kB)\n",
            "\u001b[2K     \u001b[90m━━━━━━━━━━━━━━━━━━━━━━━━━━━━━━━━━━━━━━\u001b[0m \u001b[32m293.8/293.8 kB\u001b[0m \u001b[31m19.1 MB/s\u001b[0m eta \u001b[36m0:00:00\u001b[0m\n",
            "\u001b[?25hRequirement already satisfied: python-dateutil>=2.8.2 in /usr/local/lib/python3.10/dist-packages (from htmldate>=1.4.3->trafilatura) (2.8.2)\n",
            "Requirement already satisfied: pytz in /usr/local/lib/python3.10/dist-packages (from dateparser>=1.1.2->htmldate>=1.4.3->trafilatura) (2023.3)\n",
            "Requirement already satisfied: regex!=2019.02.19,!=2021.8.27 in /usr/local/lib/python3.10/dist-packages (from dateparser>=1.1.2->htmldate>=1.4.3->trafilatura) (2023.6.3)\n",
            "Requirement already satisfied: tzlocal in /usr/local/lib/python3.10/dist-packages (from dateparser>=1.1.2->htmldate>=1.4.3->trafilatura) (5.0.1)\n",
            "Requirement already satisfied: six>=1.5 in /usr/local/lib/python3.10/dist-packages (from python-dateutil>=2.8.2->htmldate>=1.4.3->trafilatura) (1.16.0)\n",
            "Installing collected packages: tld, justext, dateparser, courlan, htmldate, trafilatura\n",
            "Successfully installed courlan-0.9.3 dateparser-1.1.8 htmldate-1.4.3 justext-3.0.0 tld-0.13 trafilatura-1.6.1\n"
          ]
        }
      ]
    },
    {
      "cell_type": "markdown",
      "source": [
        "## Import"
      ],
      "metadata": {
        "id": "ldmuEqglpmOH"
      },
      "id": "ldmuEqglpmOH"
    },
    {
      "cell_type": "code",
      "source": [
        "from trafilatura import fetch_url\n",
        "from trafilatura import extract"
      ],
      "metadata": {
        "id": "ynIN0Ghjpsmi"
      },
      "id": "ynIN0Ghjpsmi",
      "execution_count": null,
      "outputs": []
    },
    {
      "cell_type": "markdown",
      "id": "8505f5ea-b7dd-455e-94a2-0950ee5ebdc5",
      "metadata": {
        "id": "8505f5ea-b7dd-455e-94a2-0950ee5ebdc5"
      },
      "source": [
        "## 2. Downloads"
      ]
    },
    {
      "cell_type": "code",
      "execution_count": null,
      "id": "8998cb12-efd0-4822-b214-77a94c79aead",
      "metadata": {
        "id": "8998cb12-efd0-4822-b214-77a94c79aead"
      },
      "outputs": [],
      "source": [
        "url = 'https://www.kia.ru/models/stinger/desc/'\n",
        "document = fetch_url(url)"
      ]
    },
    {
      "cell_type": "markdown",
      "id": "64f173b8-0778-4126-912e-f788b622ddb2",
      "metadata": {
        "id": "64f173b8-0778-4126-912e-f788b622ddb2"
      },
      "source": [
        "For parallel and mass downloads see [Downloads page](https://trafilatura.readthedocs.io/en/latest/downloads.html)."
      ]
    },
    {
      "cell_type": "markdown",
      "id": "d5186981-567b-4720-8a53-a7a456ace98b",
      "metadata": {
        "id": "d5186981-567b-4720-8a53-a7a456ace98b"
      },
      "source": [
        "## 3. Function extract()"
      ]
    },
    {
      "cell_type": "code",
      "execution_count": null,
      "id": "a127cca1-7bd6-41dc-851b-3920b6372e84",
      "metadata": {
        "colab": {
          "base_uri": "https://localhost:8080/"
        },
        "id": "a127cca1-7bd6-41dc-851b-3920b6372e84",
        "outputId": "e38718a2-9344-4675-de5b-cd96502131e3"
      },
      "outputs": [
        {
          "output_type": "stream",
          "name": "stdout",
          "text": [
            "Kia Stinger создан как воплощение страсти к вождению, которая живет в сердце любого ценителя автомобилей. Откройте для себя новую эру мощности и стиля, управляемости и динамики, а также незабываемых ощущений в лице Kia Stinger!\n",
            "Классические пропорции соседствуют с новейшими разработками в области аэродинамики и шумопоглощения, в то время как облик автомобиля обеспечивает минимальное сопротивление и максимальную управляемость.\n",
            "Воздухозаборники направляют воздушный поток к радиатору и передним тормозам, уменьшая сопротивление, а отверстия в нижней части бампера направляют воздух к колесным аркам, что снижает сопротивление и охлаждает тормоза.\n",
            "Чистый и утонченный дизайн интерьера Kia Stinger черпает вдохновение в традициях стиля GT в сочетании с новейшими технологиями. Круглые диффузоры вентиляционной системы, шкалы приборов с металлическими кольцами и элементы отделки из матового хрома придают салону авиационные нотки.\n",
            "Kia Stinger — это бескомпромиссный автомобиль для водителя. Здесь все сделано специально для вас, от сидений со спортивной поддержкой до современных технологий. Вы сможете совершать самые продолжительные поездки, не чувствуя усталости.\n",
            "Система мониторинга BVM улучшает обзорность слепых зон, используя боковые камеры. При включении поворотного сигнала на цифровой приборной панели появляется изображение в слепой зоне.\n",
            "Когда вы увлечены дорогой, Kia Stinger помогает вам сосредоточиться на вождении. Продуманные и интуитивно понятные высокотехнологичные решения всегда под рукой и удобны в использовании.\n",
            "Стильная навигационная система, интегрированная с аудиосистемой, оснащена большим сенсорным экраном с технологией «парящего касания» для удобного доступа к мультимедиа.\n",
            "Это комплекс разработанных Kia систем помощи водителю (ADAS), представляющих собой интеллектуальные инновации в области безопасности, призванные снизить стресс и риски при вождении на современных дорогах. Системы Drive Wise помогают повысить безопасность за рулем и способствуют приятному вождению без лишних хлопот.\n",
            "С помощью камеры и радара система анализирует дорожную ситуацию впереди автомобиля и помогает соблюдать безопасную дистанцию.\n",
            "Будьте всегда на связи с вашим автомобилем при помощи сервисов Kia Connect. Приложение и бортовые сервисы позволят вам дистанционно активировать различные функции автомобиля и получать актуальную информацию о его состоянии в любое время.\n",
            "Kia Stinger сочетает в себе высокую маневренность и превосходную динамику с изысканным спортивным духом вождения, который вас несомненно удивит.\n",
            "Автомобили Kia произведены по самым высоким стандартам автомобильной промышленности. Именно это исключительное качество позволяет Kia предложить уникальные условия гарантии.\n"
          ]
        }
      ],
      "source": [
        "text = extract(document)\n",
        "print(text)"
      ]
    },
    {
      "cell_type": "markdown",
      "source": [
        "### TXT/Markdown output"
      ],
      "metadata": {
        "id": "MgZiqcmmmsT4"
      },
      "id": "MgZiqcmmmsT4"
    },
    {
      "cell_type": "code",
      "source": [
        "text = extract(document, include_links=True)\n",
        "print(text)"
      ],
      "metadata": {
        "colab": {
          "base_uri": "https://localhost:8080/"
        },
        "id": "_fYs64j_m1p-",
        "outputId": "a176b52f-a1c3-484a-e2df-d016cfe6ac5a"
      },
      "id": "_fYs64j_m1p-",
      "execution_count": null,
      "outputs": [
        {
          "output_type": "stream",
          "name": "stdout",
          "text": [
            "Перед вами модный автомобиль, идеальный для городских улиц и скоростных магистралей. Дерзкий дизайн, продуманный интерьер и передовые технологии безопасности воплощают собой автомобиль, способный притягивать взгляды и восхищать, куда бы вы ни отправились.\n",
            "Вы вряд ли сможете сдержать свои чувства, едва увидев Kia Picanto в версии GT Line. Динамичные линии, эффектный передний бампер, фирменная решетка радиатора с дерзкой окантовкой, светодиодные дневные ходовые огни, форма заднего бампера. Будьте уверены: GT Line — это настоящий стиль и истинная страсть.\n",
            "Kia Picanto настолько продуман, что при компактных размерах его салон просторен и комфортен. Более того, в нем предусмотрено достаточно места для багажа. Добавьте к этому такие приятные и полезные функции, как подогрев рулевого колеса и передних сидений — и вы непременно захотите отправиться в путь.\n",
            "Настоящее удовольствие в холодный период. Теперь нет необходимости зимой быть за рулем в перчатках.\n",
            "Жить настоящим — значит всегда быть в курсе событий. Именно поэтому Kia Picanto предлагает умные решения в области информации и развлечений. Вы остаетесь на связи 24 часа в сутки с удобным подключением смартфона через Bluetooth, а полезные функции, такие как Android Auto и Apple CarPlay, позволят вам получить от автомобиля максимум удовольствия.\n",
            "Стильная мультимедийная система информирует о статусе поездки и развлекает в пути.\n",
            "Если вы любите приключения, Kia Picanto — автомобиль для вас. Просторный салон, удобно складывающиеся задние сиденья, щедрые 255 литров багажного отделения, превращающиеся в невероятные 1 010 литров при сложенном заднем ряде, означают вашу готовность и к повседневным поездкам, и к дальним путешествиям.\n",
            "Возьмите в дорогу все, что вам нужно. Вы сможете легко уместить багаж в салоне благодаря сиденьям заднего ряда, складывающимся в соотношении 60:40.\n",
            "Вы можете выбрать один из двух надежных бензиновых двигателей, обладающих высокой эффективностью и и низким расходом топлива. Каждый из них идеально подходит для городского режима и способен превзойти ваши ожидания на скоростной трассе.\n",
            "Автомобили Kia произведены по самым высоким стандартам автомобильной промышленности. Именно это исключительное качество позволяет Kia предложить уникальные условия гарантии.\n"
          ]
        }
      ]
    },
    {
      "cell_type": "markdown",
      "source": [
        "### Как парсить ссылки списком из файла\n",
        "\n",
        "> Блок с отступами\n",
        "\n"
      ],
      "metadata": {
        "id": "B1eq8zP4qjkA"
      },
      "id": "B1eq8zP4qjkA"
    },
    {
      "cell_type": "code",
      "source": [
        "file_path = '/content/sample_data/links.txt'  # Замените 'path/to/file.txt' на путь к вашему файлу\n",
        "\n",
        "# Открытие файла на чтение\n",
        "with open(file_path, 'r') as file:\n",
        "    # Чтение первых пяти строк файла\n",
        "    lines = [next(file).strip() for _ in range(5)]  # Используем генератор списка\n",
        "\n",
        "# Вывод содержимого lines (первые пять строк файла)\n",
        "print(lines)"
      ],
      "metadata": {
        "colab": {
          "base_uri": "https://localhost:8080/"
        },
        "id": "HD59Sf0Ip0Kz",
        "outputId": "d6febfc2-feeb-40e4-e6df-cbf097ced69c"
      },
      "id": "HD59Sf0Ip0Kz",
      "execution_count": null,
      "outputs": [
        {
          "output_type": "stream",
          "name": "stdout",
          "text": [
            "['https://www.kia.ru/models/picanto/desc/', 'https://www.kia.ru/models/rio/desc/', 'https://www.kia.ru/models/rio-x/desc/', 'https://www.kia.ru/models/ceed/desc/', 'https://www.kia.ru/models/ceed_sw/desc/']\n"
          ]
        }
      ]
    },
    {
      "cell_type": "code",
      "source": [
        "mylist = lines"
      ],
      "metadata": {
        "id": "NSycDILMqtCs"
      },
      "id": "NSycDILMqtCs",
      "execution_count": null,
      "outputs": []
    },
    {
      "cell_type": "code",
      "source": [
        "file_to_save = '/content/sample_data/pars.txt'  # Замените на фактический путь к файлу\n",
        "\n",
        "# Открытие файла на запись с помощью режима 'a' (добавление в конец файла)\n",
        "with open(file_to_save, 'a') as file:\n",
        "    # Запись строк в файл\n",
        "    for url in mylist:\n",
        "        downloaded = fetch_url(url)\n",
        "        text = extract(downloaded)\n",
        "        file.write(text + '\\n\\n')\n",
        "\n",
        "# Подтверждение записи\n",
        "print('Строки успешно добавлены в файл.')"
      ],
      "metadata": {
        "colab": {
          "base_uri": "https://localhost:8080/"
        },
        "id": "feajd9B8rMd7",
        "outputId": "7ffa1e07-4aea-4ef1-839f-b0f709c6bea4"
      },
      "id": "feajd9B8rMd7",
      "execution_count": null,
      "outputs": [
        {
          "output_type": "stream",
          "name": "stdout",
          "text": [
            "Строки успешно добавлены в файл.\n"
          ]
        }
      ]
    },
    {
      "cell_type": "markdown",
      "source": [
        "## Проработать дополнительно:\n"
      ],
      "metadata": {
        "id": "8BLHR7gKFs3v"
      },
      "id": "8BLHR7gKFs3v"
    },
    {
      "cell_type": "code",
      "source": [
        "# Находим все элементы div с классом entry-title на странице с помощью метода findAll и присваиваем результат переменной list_1\n",
        "list_1 = bs.findAll('div', class_='entry-title')\n",
        "\n",
        "# Проходим по всем элементам в списке list_1 с помощью цикла for\n",
        "for i in list_1:\n",
        "    # Получаем текстовое содержимое каждого элемента с помощью атрибута text\n",
        "    # Заменяем символ \\xa0 на пустую строку с помощью метода replace\n",
        "    # Заменяем подстроку \"Анна Ахматова —\" на пустую строку с помощью метода replace\n",
        "    # Удаляем пробелы по краям с помощью метода strip\n",
        "    print(i.text.replace('\\xa0', '').replace('Анна Ахматова —', '').strip())"
      ],
      "metadata": {
        "id": "-nqKJn7LFxcP"
      },
      "id": "-nqKJn7LFxcP",
      "execution_count": null,
      "outputs": []
    },
    {
      "cell_type": "markdown",
      "source": [
        "Теперь нам нужно получить ссылку каждого стихотворения, перейти по ней и сохранить."
      ],
      "metadata": {
        "id": "nKqZswHsGlxo"
      },
      "id": "nKqZswHsGlxo"
    },
    {
      "cell_type": "code",
      "source": [
        "def pars_poem(block):\n",
        "    # Получаем ссылку на страницу стихотворения\n",
        "    url_2 = block.find('a').get('href')\n",
        "    # Получаем название стихотворения\n",
        "    name = block.text.replace('\\xa0', '').strip()\n",
        "    # Переходим на странцу со стихотворением\n",
        "    html_2 = requests.get(url=url_2, headers=HEADERS).text\n",
        "    # Парсим стихотворение\n",
        "    bs2 = BeautifulSoup(html_2, \"html.parser\")\n",
        "    res = bs2.find('div', class_='entry-content poem-text').text.split('Анализ')[0].strip()\n",
        "\n",
        "    # Открываем файл в режиме записи\n",
        "    with open(\"poems.txt\", \"a\", encoding=\"utf-8\") as file:\n",
        "        # Записываем название стихотворения и текст в файл\n",
        "        file.write(name + \"\\n\\n\")\n",
        "        file.write(res + \"\\n\")\n",
        "        file.write(\"=\"*30 + \"\\n\")\n",
        "\n",
        "for block in list_1:\n",
        "    pars_poem(block)"
      ],
      "metadata": {
        "id": "xy_no3EkGWfg"
      },
      "id": "xy_no3EkGWfg",
      "execution_count": null,
      "outputs": []
    }
  ],
  "metadata": {
    "kernelspec": {
      "display_name": "Python 3",
      "name": "python3"
    },
    "language_info": {
      "codemirror_mode": {
        "name": "ipython",
        "version": 3
      },
      "file_extension": ".py",
      "mimetype": "text/x-python",
      "name": "python",
      "nbconvert_exporter": "python",
      "pygments_lexer": "ipython3",
      "version": "3.6.9"
    },
    "toc-autonumbering": false,
    "toc-showmarkdowntxt": false,
    "colab": {
      "provenance": [],
      "gpuType": "T4"
    },
    "accelerator": "GPU"
  },
  "nbformat": 4,
  "nbformat_minor": 5
}