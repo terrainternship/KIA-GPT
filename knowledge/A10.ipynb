{
  "cells": [
    {
      "cell_type": "code",
      "source": [
        "# ТЕСТИРОВАНИЕ A10 RELEASE\n",
        "\n",
        "from google.colab import drive\n",
        "drive.mount('/content/drive')"
      ],
      "metadata": {
        "colab": {
          "base_uri": "https://localhost:8080/"
        },
        "id": "liJtv5K872wH",
        "outputId": "64f224d7-386d-4795-d94e-49cd12b14f03"
      },
      "execution_count": 1,
      "outputs": [
        {
          "output_type": "stream",
          "name": "stdout",
          "text": [
            "Drive already mounted at /content/drive; to attempt to forcibly remount, call drive.mount(\"/content/drive\", force_remount=True).\n"
          ]
        }
      ]
    },
    {
      "cell_type": "code",
      "source": [
        "!rm -rf /content/drive/MyDrive/KIA_TEST/FAISS_KIA_V3"
      ],
      "metadata": {
        "id": "FdzOgOj1BB0I"
      },
      "execution_count": 2,
      "outputs": []
    },
    {
      "cell_type": "code",
      "source": [
        "!mkdir -p /content/drive/MyDrive/KIA_TEST/FAISS_KIA_V3"
      ],
      "metadata": {
        "id": "mS7zSmtqBW3B"
      },
      "execution_count": 3,
      "outputs": []
    },
    {
      "cell_type": "code",
      "source": [
        "!git clone https://github.com/musicnova/KIA-GPT0.git /content/drive/MyDrive/KIA_TEST/FAISS_KIA_V3/faiss_a10"
      ],
      "metadata": {
        "colab": {
          "base_uri": "https://localhost:8080/"
        },
        "id": "lkFEXz7kFl7B",
        "outputId": "d9afae92-70e0-404b-819b-cfc5ce189b69"
      },
      "execution_count": 4,
      "outputs": [
        {
          "output_type": "stream",
          "name": "stdout",
          "text": [
            "Cloning into '/content/drive/MyDrive/KIA_TEST/FAISS_KIA_V3/faiss_a10'...\n",
            "remote: Enumerating objects: 1558, done.\u001b[K\n",
            "remote: Counting objects: 100% (367/367), done.\u001b[K\n",
            "remote: Compressing objects: 100% (141/141), done.\u001b[K\n",
            "remote: Total 1558 (delta 272), reused 277 (delta 224), pack-reused 1191\u001b[K\n",
            "Receiving objects: 100% (1558/1558), 20.83 MiB | 12.00 MiB/s, done.\n",
            "Resolving deltas: 100% (896/896), done.\n",
            "Updating files: 100% (143/143), done.\n"
          ]
        }
      ]
    },
    {
      "cell_type": "code",
      "source": [
        "!(cd /content/drive/MyDrive/KIA_TEST/FAISS_KIA_V3/faiss_a10 && git checkout faiss/A10)"
      ],
      "metadata": {
        "colab": {
          "base_uri": "https://localhost:8080/"
        },
        "id": "dGgKGjO7FxUe",
        "outputId": "40a25f2e-ea2d-409b-db93-b834a513f254"
      },
      "execution_count": 5,
      "outputs": [
        {
          "output_type": "stream",
          "name": "stdout",
          "text": [
            "Branch 'faiss/A10' set up to track remote branch 'faiss/A10' from 'origin'.\n",
            "Switched to a new branch 'faiss/A10'\n"
          ]
        }
      ]
    },
    {
      "cell_type": "code",
      "source": [
        "!rm -rf faiss"
      ],
      "metadata": {
        "id": "0RMNGOokF21t"
      },
      "execution_count": 6,
      "outputs": []
    },
    {
      "cell_type": "code",
      "source": [
        "!rm -f database.md"
      ],
      "metadata": {
        "id": "-Uq9DNgJBdTx"
      },
      "execution_count": 7,
      "outputs": []
    },
    {
      "cell_type": "code",
      "source": [
        "!cp -r /content/drive/MyDrive/KIA_TEST/FAISS_KIA_V3/faiss_a10/knowledge/faiss faiss"
      ],
      "metadata": {
        "id": "Rdcwy4uaG5Kt"
      },
      "execution_count": 8,
      "outputs": []
    },
    {
      "cell_type": "code",
      "source": [
        "!pip  install  tiktoken==0.4.0  langchain==0.0.231 openai==0.27.8 faiss-cpu==1.7.4 gspread oauth2client nltk pydantic==1.10.8"
      ],
      "metadata": {
        "colab": {
          "base_uri": "https://localhost:8080/"
        },
        "id": "Px-C9C3z72kR",
        "outputId": "8a01b02e-baa6-4809-ac68-d6ab11d26366"
      },
      "execution_count": 9,
      "outputs": [
        {
          "output_type": "stream",
          "name": "stdout",
          "text": [
            "Requirement already satisfied: tiktoken==0.4.0 in /usr/local/lib/python3.10/dist-packages (0.4.0)\n",
            "Requirement already satisfied: langchain==0.0.231 in /usr/local/lib/python3.10/dist-packages (0.0.231)\n",
            "Requirement already satisfied: openai==0.27.8 in /usr/local/lib/python3.10/dist-packages (0.27.8)\n",
            "Requirement already satisfied: faiss-cpu==1.7.4 in /usr/local/lib/python3.10/dist-packages (1.7.4)\n",
            "Requirement already satisfied: gspread in /usr/local/lib/python3.10/dist-packages (3.4.2)\n",
            "Requirement already satisfied: oauth2client in /usr/local/lib/python3.10/dist-packages (4.1.3)\n",
            "Requirement already satisfied: nltk in /usr/local/lib/python3.10/dist-packages (3.8.1)\n",
            "Requirement already satisfied: pydantic==1.10.8 in /usr/local/lib/python3.10/dist-packages (1.10.8)\n",
            "Requirement already satisfied: regex>=2022.1.18 in /usr/local/lib/python3.10/dist-packages (from tiktoken==0.4.0) (2023.6.3)\n",
            "Requirement already satisfied: requests>=2.26.0 in /usr/local/lib/python3.10/dist-packages (from tiktoken==0.4.0) (2.31.0)\n",
            "Requirement already satisfied: PyYAML>=5.4.1 in /usr/local/lib/python3.10/dist-packages (from langchain==0.0.231) (6.0.1)\n",
            "Requirement already satisfied: SQLAlchemy<3,>=1.4 in /usr/local/lib/python3.10/dist-packages (from langchain==0.0.231) (2.0.21)\n",
            "Requirement already satisfied: aiohttp<4.0.0,>=3.8.3 in /usr/local/lib/python3.10/dist-packages (from langchain==0.0.231) (3.8.6)\n",
            "Requirement already satisfied: async-timeout<5.0.0,>=4.0.0 in /usr/local/lib/python3.10/dist-packages (from langchain==0.0.231) (4.0.3)\n",
            "Requirement already satisfied: dataclasses-json<0.6.0,>=0.5.7 in /usr/local/lib/python3.10/dist-packages (from langchain==0.0.231) (0.5.14)\n",
            "Requirement already satisfied: langchainplus-sdk<0.0.21,>=0.0.20 in /usr/local/lib/python3.10/dist-packages (from langchain==0.0.231) (0.0.20)\n",
            "Requirement already satisfied: numexpr<3.0.0,>=2.8.4 in /usr/local/lib/python3.10/dist-packages (from langchain==0.0.231) (2.8.7)\n",
            "Requirement already satisfied: numpy<2,>=1 in /usr/local/lib/python3.10/dist-packages (from langchain==0.0.231) (1.23.5)\n",
            "Requirement already satisfied: openapi-schema-pydantic<2.0,>=1.2 in /usr/local/lib/python3.10/dist-packages (from langchain==0.0.231) (1.2.4)\n",
            "Requirement already satisfied: tenacity<9.0.0,>=8.1.0 in /usr/local/lib/python3.10/dist-packages (from langchain==0.0.231) (8.2.3)\n",
            "Requirement already satisfied: tqdm in /usr/local/lib/python3.10/dist-packages (from openai==0.27.8) (4.66.1)\n",
            "Requirement already satisfied: typing-extensions>=4.2.0 in /usr/local/lib/python3.10/dist-packages (from pydantic==1.10.8) (4.5.0)\n",
            "Requirement already satisfied: google-auth in /usr/local/lib/python3.10/dist-packages (from gspread) (2.17.3)\n",
            "Requirement already satisfied: httplib2>=0.9.1 in /usr/local/lib/python3.10/dist-packages (from oauth2client) (0.22.0)\n",
            "Requirement already satisfied: pyasn1>=0.1.7 in /usr/local/lib/python3.10/dist-packages (from oauth2client) (0.5.0)\n",
            "Requirement already satisfied: pyasn1-modules>=0.0.5 in /usr/local/lib/python3.10/dist-packages (from oauth2client) (0.3.0)\n",
            "Requirement already satisfied: rsa>=3.1.4 in /usr/local/lib/python3.10/dist-packages (from oauth2client) (4.9)\n",
            "Requirement already satisfied: six>=1.6.1 in /usr/local/lib/python3.10/dist-packages (from oauth2client) (1.16.0)\n",
            "Requirement already satisfied: click in /usr/local/lib/python3.10/dist-packages (from nltk) (8.1.7)\n",
            "Requirement already satisfied: joblib in /usr/local/lib/python3.10/dist-packages (from nltk) (1.3.2)\n",
            "Requirement already satisfied: attrs>=17.3.0 in /usr/local/lib/python3.10/dist-packages (from aiohttp<4.0.0,>=3.8.3->langchain==0.0.231) (23.1.0)\n",
            "Requirement already satisfied: charset-normalizer<4.0,>=2.0 in /usr/local/lib/python3.10/dist-packages (from aiohttp<4.0.0,>=3.8.3->langchain==0.0.231) (3.3.0)\n",
            "Requirement already satisfied: multidict<7.0,>=4.5 in /usr/local/lib/python3.10/dist-packages (from aiohttp<4.0.0,>=3.8.3->langchain==0.0.231) (6.0.4)\n",
            "Requirement already satisfied: yarl<2.0,>=1.0 in /usr/local/lib/python3.10/dist-packages (from aiohttp<4.0.0,>=3.8.3->langchain==0.0.231) (1.9.2)\n",
            "Requirement already satisfied: frozenlist>=1.1.1 in /usr/local/lib/python3.10/dist-packages (from aiohttp<4.0.0,>=3.8.3->langchain==0.0.231) (1.4.0)\n",
            "Requirement already satisfied: aiosignal>=1.1.2 in /usr/local/lib/python3.10/dist-packages (from aiohttp<4.0.0,>=3.8.3->langchain==0.0.231) (1.3.1)\n",
            "Requirement already satisfied: marshmallow<4.0.0,>=3.18.0 in /usr/local/lib/python3.10/dist-packages (from dataclasses-json<0.6.0,>=0.5.7->langchain==0.0.231) (3.20.1)\n",
            "Requirement already satisfied: typing-inspect<1,>=0.4.0 in /usr/local/lib/python3.10/dist-packages (from dataclasses-json<0.6.0,>=0.5.7->langchain==0.0.231) (0.9.0)\n",
            "Requirement already satisfied: pyparsing!=3.0.0,!=3.0.1,!=3.0.2,!=3.0.3,<4,>=2.4.2 in /usr/local/lib/python3.10/dist-packages (from httplib2>=0.9.1->oauth2client) (3.1.1)\n",
            "Requirement already satisfied: idna<4,>=2.5 in /usr/local/lib/python3.10/dist-packages (from requests>=2.26.0->tiktoken==0.4.0) (3.4)\n",
            "Requirement already satisfied: urllib3<3,>=1.21.1 in /usr/local/lib/python3.10/dist-packages (from requests>=2.26.0->tiktoken==0.4.0) (2.0.6)\n",
            "Requirement already satisfied: certifi>=2017.4.17 in /usr/local/lib/python3.10/dist-packages (from requests>=2.26.0->tiktoken==0.4.0) (2023.7.22)\n",
            "Requirement already satisfied: greenlet!=0.4.17 in /usr/local/lib/python3.10/dist-packages (from SQLAlchemy<3,>=1.4->langchain==0.0.231) (3.0.0)\n",
            "Requirement already satisfied: cachetools<6.0,>=2.0.0 in /usr/local/lib/python3.10/dist-packages (from google-auth->gspread) (5.3.1)\n",
            "Requirement already satisfied: packaging>=17.0 in /usr/local/lib/python3.10/dist-packages (from marshmallow<4.0.0,>=3.18.0->dataclasses-json<0.6.0,>=0.5.7->langchain==0.0.231) (23.2)\n",
            "Requirement already satisfied: mypy-extensions>=0.3.0 in /usr/local/lib/python3.10/dist-packages (from typing-inspect<1,>=0.4.0->dataclasses-json<0.6.0,>=0.5.7->langchain==0.0.231) (1.0.0)\n"
          ]
        }
      ]
    },
    {
      "cell_type": "markdown",
      "metadata": {
        "id": "8l6EU0C7uUFp"
      },
      "source": [
        "## Собрать новую базу FAISS"
      ]
    },
    {
      "cell_type": "code",
      "execution_count": 10,
      "metadata": {
        "id": "YnSehGphiewU"
      },
      "outputs": [],
      "source": [
        "from langchain.text_splitter import MarkdownHeaderTextSplitter\n",
        "import re\n",
        "from langchain.vectorstores import FAISS\n",
        "\n",
        "def load_file_knowledge(file_path: str) -> str:\n",
        "    # Чтение текстового файла\n",
        "    with open(file_path, 'r', encoding='utf-8') as file:\n",
        "        text = file.read()\n",
        "\n",
        "    headers_to_split_on = [\n",
        "        (\"#\", \"Header 1\"),\n",
        "        (\"##\", \"Header 2\"),\n",
        "        (\"###\", \"Header 3\"),\n",
        "        (\"####\", \"Header 4\"),\n",
        "    ]\n",
        "\n",
        "    markdown_splitter = MarkdownHeaderTextSplitter(headers_to_split_on=headers_to_split_on)\n",
        "    md_header_splits = markdown_splitter.split_text(text)\n",
        "\n",
        "    # Предполагается, что FAISS и OpenAIEmbeddings были импортированы или определены где-то выше\n",
        "    vectordateBase = FAISS.from_documents(md_header_splits, OpenAIEmbeddings())\n",
        "    vectordateBase.save_local(\"faiss\")\n",
        "\n",
        "    return\n",
        "\n"
      ]
    },
    {
      "cell_type": "code",
      "execution_count": 11,
      "metadata": {
        "id": "9CrXhbfVqtP_"
      },
      "outputs": [],
      "source": [
        "# load_file_knowledge('database.md')\n",
        "# БД сохранитсья в коллабе в папке faiss нужно подождать какое-то время"
      ]
    },
    {
      "cell_type": "markdown",
      "metadata": {
        "id": "QsFGkXMMwcX3"
      },
      "source": [
        "## Проверка чанков **БЕЗ** сбора нового файла FAISS **БЕЗ** обращения к OpenAI\n"
      ]
    },
    {
      "cell_type": "code",
      "execution_count": 12,
      "metadata": {
        "colab": {
          "base_uri": "https://localhost:8080/"
        },
        "id": "-nH2KyinoxhE",
        "outputId": "0e19a24e-b938-49d6-f1d8-ee5ad8a0bfb2"
      },
      "outputs": [
        {
          "output_type": "stream",
          "name": "stdout",
          "text": [
            "Requirement already satisfied: tiktoken==0.4.0 in /usr/local/lib/python3.10/dist-packages (0.4.0)\n",
            "Requirement already satisfied: langchain==0.0.231 in /usr/local/lib/python3.10/dist-packages (0.0.231)\n",
            "Requirement already satisfied: openai==0.27.8 in /usr/local/lib/python3.10/dist-packages (0.27.8)\n",
            "Requirement already satisfied: faiss-cpu==1.7.4 in /usr/local/lib/python3.10/dist-packages (1.7.4)\n",
            "Requirement already satisfied: gspread in /usr/local/lib/python3.10/dist-packages (3.4.2)\n",
            "Requirement already satisfied: oauth2client in /usr/local/lib/python3.10/dist-packages (4.1.3)\n",
            "Requirement already satisfied: nltk in /usr/local/lib/python3.10/dist-packages (3.8.1)\n",
            "Requirement already satisfied: pydantic==1.10.8 in /usr/local/lib/python3.10/dist-packages (1.10.8)\n",
            "Requirement already satisfied: regex>=2022.1.18 in /usr/local/lib/python3.10/dist-packages (from tiktoken==0.4.0) (2023.6.3)\n",
            "Requirement already satisfied: requests>=2.26.0 in /usr/local/lib/python3.10/dist-packages (from tiktoken==0.4.0) (2.31.0)\n",
            "Requirement already satisfied: PyYAML>=5.4.1 in /usr/local/lib/python3.10/dist-packages (from langchain==0.0.231) (6.0.1)\n",
            "Requirement already satisfied: SQLAlchemy<3,>=1.4 in /usr/local/lib/python3.10/dist-packages (from langchain==0.0.231) (2.0.21)\n",
            "Requirement already satisfied: aiohttp<4.0.0,>=3.8.3 in /usr/local/lib/python3.10/dist-packages (from langchain==0.0.231) (3.8.6)\n",
            "Requirement already satisfied: async-timeout<5.0.0,>=4.0.0 in /usr/local/lib/python3.10/dist-packages (from langchain==0.0.231) (4.0.3)\n",
            "Requirement already satisfied: dataclasses-json<0.6.0,>=0.5.7 in /usr/local/lib/python3.10/dist-packages (from langchain==0.0.231) (0.5.14)\n",
            "Requirement already satisfied: langchainplus-sdk<0.0.21,>=0.0.20 in /usr/local/lib/python3.10/dist-packages (from langchain==0.0.231) (0.0.20)\n",
            "Requirement already satisfied: numexpr<3.0.0,>=2.8.4 in /usr/local/lib/python3.10/dist-packages (from langchain==0.0.231) (2.8.7)\n",
            "Requirement already satisfied: numpy<2,>=1 in /usr/local/lib/python3.10/dist-packages (from langchain==0.0.231) (1.23.5)\n",
            "Requirement already satisfied: openapi-schema-pydantic<2.0,>=1.2 in /usr/local/lib/python3.10/dist-packages (from langchain==0.0.231) (1.2.4)\n",
            "Requirement already satisfied: tenacity<9.0.0,>=8.1.0 in /usr/local/lib/python3.10/dist-packages (from langchain==0.0.231) (8.2.3)\n",
            "Requirement already satisfied: tqdm in /usr/local/lib/python3.10/dist-packages (from openai==0.27.8) (4.66.1)\n",
            "Requirement already satisfied: typing-extensions>=4.2.0 in /usr/local/lib/python3.10/dist-packages (from pydantic==1.10.8) (4.5.0)\n",
            "Requirement already satisfied: google-auth in /usr/local/lib/python3.10/dist-packages (from gspread) (2.17.3)\n",
            "Requirement already satisfied: httplib2>=0.9.1 in /usr/local/lib/python3.10/dist-packages (from oauth2client) (0.22.0)\n",
            "Requirement already satisfied: pyasn1>=0.1.7 in /usr/local/lib/python3.10/dist-packages (from oauth2client) (0.5.0)\n",
            "Requirement already satisfied: pyasn1-modules>=0.0.5 in /usr/local/lib/python3.10/dist-packages (from oauth2client) (0.3.0)\n",
            "Requirement already satisfied: rsa>=3.1.4 in /usr/local/lib/python3.10/dist-packages (from oauth2client) (4.9)\n",
            "Requirement already satisfied: six>=1.6.1 in /usr/local/lib/python3.10/dist-packages (from oauth2client) (1.16.0)\n",
            "Requirement already satisfied: click in /usr/local/lib/python3.10/dist-packages (from nltk) (8.1.7)\n",
            "Requirement already satisfied: joblib in /usr/local/lib/python3.10/dist-packages (from nltk) (1.3.2)\n",
            "Requirement already satisfied: attrs>=17.3.0 in /usr/local/lib/python3.10/dist-packages (from aiohttp<4.0.0,>=3.8.3->langchain==0.0.231) (23.1.0)\n",
            "Requirement already satisfied: charset-normalizer<4.0,>=2.0 in /usr/local/lib/python3.10/dist-packages (from aiohttp<4.0.0,>=3.8.3->langchain==0.0.231) (3.3.0)\n",
            "Requirement already satisfied: multidict<7.0,>=4.5 in /usr/local/lib/python3.10/dist-packages (from aiohttp<4.0.0,>=3.8.3->langchain==0.0.231) (6.0.4)\n",
            "Requirement already satisfied: yarl<2.0,>=1.0 in /usr/local/lib/python3.10/dist-packages (from aiohttp<4.0.0,>=3.8.3->langchain==0.0.231) (1.9.2)\n",
            "Requirement already satisfied: frozenlist>=1.1.1 in /usr/local/lib/python3.10/dist-packages (from aiohttp<4.0.0,>=3.8.3->langchain==0.0.231) (1.4.0)\n",
            "Requirement already satisfied: aiosignal>=1.1.2 in /usr/local/lib/python3.10/dist-packages (from aiohttp<4.0.0,>=3.8.3->langchain==0.0.231) (1.3.1)\n",
            "Requirement already satisfied: marshmallow<4.0.0,>=3.18.0 in /usr/local/lib/python3.10/dist-packages (from dataclasses-json<0.6.0,>=0.5.7->langchain==0.0.231) (3.20.1)\n",
            "Requirement already satisfied: typing-inspect<1,>=0.4.0 in /usr/local/lib/python3.10/dist-packages (from dataclasses-json<0.6.0,>=0.5.7->langchain==0.0.231) (0.9.0)\n",
            "Requirement already satisfied: pyparsing!=3.0.0,!=3.0.1,!=3.0.2,!=3.0.3,<4,>=2.4.2 in /usr/local/lib/python3.10/dist-packages (from httplib2>=0.9.1->oauth2client) (3.1.1)\n",
            "Requirement already satisfied: idna<4,>=2.5 in /usr/local/lib/python3.10/dist-packages (from requests>=2.26.0->tiktoken==0.4.0) (3.4)\n",
            "Requirement already satisfied: urllib3<3,>=1.21.1 in /usr/local/lib/python3.10/dist-packages (from requests>=2.26.0->tiktoken==0.4.0) (2.0.6)\n",
            "Requirement already satisfied: certifi>=2017.4.17 in /usr/local/lib/python3.10/dist-packages (from requests>=2.26.0->tiktoken==0.4.0) (2023.7.22)\n",
            "Requirement already satisfied: greenlet!=0.4.17 in /usr/local/lib/python3.10/dist-packages (from SQLAlchemy<3,>=1.4->langchain==0.0.231) (3.0.0)\n",
            "Requirement already satisfied: cachetools<6.0,>=2.0.0 in /usr/local/lib/python3.10/dist-packages (from google-auth->gspread) (5.3.1)\n",
            "Requirement already satisfied: packaging>=17.0 in /usr/local/lib/python3.10/dist-packages (from marshmallow<4.0.0,>=3.18.0->dataclasses-json<0.6.0,>=0.5.7->langchain==0.0.231) (23.2)\n",
            "Requirement already satisfied: mypy-extensions>=0.3.0 in /usr/local/lib/python3.10/dist-packages (from typing-inspect<1,>=0.4.0->dataclasses-json<0.6.0,>=0.5.7->langchain==0.0.231) (1.0.0)\n"
          ]
        }
      ],
      "source": [
        "!pip  install  tiktoken==0.4.0  langchain==0.0.231 openai==0.27.8 faiss-cpu==1.7.4 gspread oauth2client nltk pydantic==1.10.8"
      ]
    },
    {
      "cell_type": "code",
      "execution_count": 13,
      "metadata": {
        "id": "wNTJkb02qexK"
      },
      "outputs": [],
      "source": [
        "import gdown\n",
        "from langchain.llms import OpenAI\n",
        "from langchain.docstore.document import Document\n",
        "import requests\n",
        "#database\n",
        "from langchain.embeddings.openai import OpenAIEmbeddings\n",
        "from langchain.vectorstores import FAISS\n",
        "from langchain.text_splitter import RecursiveCharacterTextSplitter\n",
        "#from langchain.document_loaders import TextLoader\n",
        "\n",
        "from langchain.prompts import PromptTemplate\n",
        "import pathlib\n",
        "import subprocess\n",
        "import tempfile\n",
        "import ipywidgets as widgets\n",
        "import gspread\n",
        "from oauth2client.service_account import ServiceAccountCredentials\n",
        "import re\n",
        "import getpass\n",
        "import os\n",
        "import openai\n",
        "import tiktoken\n",
        "\n",
        "class bcolors:\n",
        "    HEADER = '\\033[95m'\n",
        "    OKBLUE = '\\033[94m'\n",
        "    OKCYAN = '\\033[96m'\n",
        "    OKGREEN = '\\033[92m'\n",
        "    WARNING = '\\033[93m'\n",
        "    FAIL = '\\033[91m'\n",
        "    ENDC = '\\033[0m'\n",
        "    BOLD = '\\033[1m'\n",
        "    UNDERLINE = '\\033[4m'\n",
        "\n",
        "\n",
        "HISTORY = []"
      ]
    },
    {
      "cell_type": "code",
      "source": [
        "MODEL_GPT_3_5_TURBO_16K = ['gpt-3.5-turbo-16k', 0.003, 0.004]\n",
        "MODEL_GPT_3_5_TURBO = ['gpt-3.5-turbo', 0.0015, 0.002]  # 4,097 tokens\n",
        "MODEL_GPT_4 = ['gpt-4', 0.03, 0.06]  # 8,192 tokens\n",
        "SELECT_MODEL_GPT = MODEL_GPT_3_5_TURBO_16K"
      ],
      "metadata": {
        "id": "JGGCoN9RNAmm"
      },
      "execution_count": 14,
      "outputs": []
    },
    {
      "cell_type": "code",
      "execution_count": 15,
      "metadata": {
        "colab": {
          "base_uri": "https://localhost:8080/"
        },
        "id": "jSdHAWANqs7C",
        "outputId": "9f96d860-7b9e-467e-98fe-edfafc53be62"
      },
      "outputs": [
        {
          "name": "stdout",
          "output_type": "stream",
          "text": [
            "OpenAI API Key:··········\n"
          ]
        }
      ],
      "source": [
        "openai_key = getpass.getpass(\"OpenAI API Key:\")\n",
        "os.environ[\"OPENAI_API_KEY\"] = openai_key\n",
        "openai.api_key = openai_key"
      ]
    },
    {
      "cell_type": "code",
      "execution_count": 16,
      "metadata": {
        "id": "XdiDI_MZwHKm"
      },
      "outputs": [],
      "source": [
        "# Загружаем векторный файл базы знаний! В коллаб надо в папку faiss загрузить 2 файла\n",
        "\n",
        "knowledge_only_langchain = FAISS.load_local(\"faiss\", OpenAIEmbeddings())"
      ]
    },
    {
      "cell_type": "code",
      "source": [
        "def insert_newlines(textstr: str, max_len: int = 170) -> str:\n",
        "    words = textstr.split()\n",
        "    lines = []\n",
        "    current_line = \"\"\n",
        "    for word in words:\n",
        "        if len(current_line + \" \" + word) > max_len:\n",
        "            lines.append(current_line)\n",
        "            current_line = \"\"\n",
        "        current_line += \" \" + word\n",
        "    lines.append(current_line)\n",
        "    return \"\\n\".join(lines)"
      ],
      "metadata": {
        "id": "eJG2gn2UNapo"
      },
      "execution_count": 17,
      "outputs": []
    },
    {
      "cell_type": "code",
      "source": [
        "# функция для загрузки документа по ссылке из гугл драйв\n",
        "def load_document_text(url: str) -> str:\n",
        "    # Extract the document ID from the URL\n",
        "    match_ = re.search('/document/d/([a-zA-Z0-9-_]+)', url)\n",
        "    if match_ is None:\n",
        "        raise ValueError('Invalid Google Docs URL')\n",
        "    doc_id = match_.group(1)\n",
        "\n",
        "    # Download the document as plain text\n",
        "    response = requests.get(f'https://docs.google.com/document/d/{doc_id}/export?format=txt')\n",
        "    response.raise_for_status()\n",
        "    text = response.text\n",
        "\n",
        "    return text"
      ],
      "metadata": {
        "id": "Qzkek3SlNaj9"
      },
      "execution_count": 18,
      "outputs": []
    },
    {
      "cell_type": "code",
      "source": [
        "def _summarize_topic( dialog):\n",
        "        messages = [\n",
        "            {\"role\": \"system\",\n",
        "             \"content\": \"Ты - ассистент консультанта, основанный на AI. Ты умеешь профессионально суммаризировать присланные тебе диалоги консультанта и клиента. Твоя задача - суммаризировать диалог, который тебе пришел.\"},\n",
        "            {\"role\": \"user\",\n",
        "             \"content\": \"Суммаризируй следующий диалог консультанта и клиента: \" + \" \".join(dialog)}\n",
        "        ]\n",
        "\n",
        "        completion = openai.ChatCompletion.create(\n",
        "            model=SELECT_MODEL_GPT[0],\n",
        "            messages=messages,\n",
        "            temperature=0.1,  # Используем более низкую температуру для более определенной суммаризации\n",
        "            max_tokens=1000  # Ограничиваем количество токенов для суммаризации\n",
        "        )\n",
        "\n",
        "        return completion.choices[0].message.content\n",
        "\n",
        "\n",
        "\n",
        "def answer_index(knowledge_base, topic, temp=0.1, top_similar_documents=5):\n",
        "        summarize_text = ''\n",
        "        if len(HISTORY) > 0:\n",
        "            summarize_text = \"Вот краткий обзор предыдущего диалога: \" + _summarize_topic(\n",
        "                [q + ' ' + (a if a is not None else '') for q, a in HISTORY])\n",
        "            print(f'САММАРИ \\n=== {summarize_text} \\n')\n",
        "\n",
        "        # Добавляем явное разделение между историей диалога и текущим вопросом\n",
        "        input_text = summarize_text + \"\\n\\nТекущий вопрос: \" + topic\n",
        "\n",
        "        docs = knowledge_base.similarity_search_with_score(topic, k=top_similar_documents)\n",
        "        responses = []\n",
        "        for i, (doc, score) in enumerate(docs):\n",
        "            if score < 1: # ТУТ ТЫ МОЖЕШЬ УПРАВЛЯТЬ праметром Л2 для чанков. 0..1\n",
        "                content = doc.page_content\n",
        "                response = f'\\n=====================Отрывок документа №{i + 1}=====================\\n{content}\\n'\n",
        "                print(f'\\n=====================Отрывок документа №{i + 1}=====================\\n')\n",
        "                print(f'=== score = {score}  Metadata документа ------------ {doc.metadata}')\n",
        "                print(f'\\n{content}\\n')\n",
        "                responses.append(response)\n",
        "\n",
        "\n",
        "        messages = [\n",
        "            {\"role\": \"system\", \"content\": prompt},\n",
        "            {\"role\": \"user\",\n",
        "             \"content\": f\"Документ с информацией для ответа пользователю: {responses}\\n\\nВопрос клиента: \\n{input_text}\"}\n",
        "        ]\n",
        "\n",
        "        completion = openai.ChatCompletion.create(\n",
        "            model=SELECT_MODEL_GPT[0],\n",
        "            messages=messages,\n",
        "            temperature=temp\n",
        "        )\n",
        "\n",
        "        answer = completion.choices[0].message.content\n",
        "\n",
        "        # Добавляем вопрос пользователя и ответ системы в историю\n",
        "        HISTORY.append((topic, answer if answer is not None else ''))\n",
        "\n",
        "        return insert_newlines(answer)  # возвращает ответ\n"
      ],
      "metadata": {
        "id": "dsEKLyifvEto"
      },
      "execution_count": 24,
      "outputs": []
    },
    {
      "cell_type": "code",
      "source": [
        "def run_dialog(system_doc_url, knowledge_base_url):\n",
        "    topic = 'Приветствую, я нейро-помощник KIA. Подскажите, какая у Вас марка машины? Как я могу к Вам обращаться?'\n",
        "    print('\\nМенеджер: ', topic+'\\n\\n')\n",
        "    user_question = input('\\nКлиент: ')\n",
        "    answer = answer_index(knowledge_base_url, user_question)\n",
        "    HISTORY.append((topic, answer if answer is not None else ''))\n",
        "    print('\\nМенеджер: ', 'Какая Вам требуется помощь?'+'\\n\\n')\n",
        "    while True:\n",
        "        user_question = input('\\nКлиент: ')\n",
        "        if ((user_question.lower() == 'stop') or (user_question.lower() == 'стоп')):\n",
        "            break\n",
        "        answer = answer_index(knowledge_base_url, user_question)\n",
        "        print('\\nМенеджер: ', answer+'\\n\\n')\n",
        "\n",
        "    return"
      ],
      "metadata": {
        "id": "g8N4WuC7qtKO"
      },
      "execution_count": 25,
      "outputs": []
    },
    {
      "cell_type": "code",
      "source": [
        "# Промпт моделей машин\n",
        "prompt = load_document_text ('https://docs.google.com/document/d/1i8HA7cX4Ut-tb9rf8wOgERU7lLe66xJYscizGtSSJl0')"
      ],
      "metadata": {
        "id": "YCBakZx6qtVM"
      },
      "execution_count": 26,
      "outputs": []
    },
    {
      "cell_type": "code",
      "source": [
        "temperature=0.3\n",
        "verbose=0\n",
        "#HISTORY = [] # Убери решетку если нужно обновлять историю диалогов после запуска, если не нужно обновлять то оставь так\n",
        "\n",
        "run_dialog(prompt, knowledge_only_langchain)"
      ],
      "metadata": {
        "id": "WWY1AS2GvTN5",
        "colab": {
          "base_uri": "https://localhost:8080/"
        },
        "outputId": "1550b7e1-500d-4ce2-f7e3-b8a84f7ca8ce"
      },
      "execution_count": null,
      "outputs": [
        {
          "output_type": "stream",
          "name": "stdout",
          "text": [
            "\n",
            "Менеджер:  Приветствую, я нейро-помощник KIA. Подскажите, какая у Вас марка машины? Как я могу к Вам обращаться?\n",
            "\n",
            "\n",
            "\n",
            "Клиент: Юрий. Лучшая марка из возможных.\n",
            "\n",
            "=====================Отрывок документа №1=====================\n",
            "\n",
            "=== score = 0.3524581789970398  Metadata документа ------------ {'Header 1': 'sales_purchases', 'Header 2': 'sales_purchases381'}\n",
            "\n",
            "В наличии представлен один вариант автомобиля К5 200 лс.\n",
            "\n",
            "\n",
            "=====================Отрывок документа №2=====================\n",
            "\n",
            "=== score = 0.3571484684944153  Metadata документа ------------ {'Header 1': 'sevice_maintence', 'Header 2': 'sevice_maintence538'}\n",
            "\n",
            "Обработанная запись базы знаний: Информация о гарантийном обслуживании в дилерском центре \"Юг-Авто Яблоновский\".\n",
            "\n",
            "\n",
            "=====================Отрывок документа №3=====================\n",
            "\n",
            "=== score = 0.362907350063324  Metadata документа ------------ {'Header 1': 'sales_purchases', 'Header 2': 'sales_purchases385'}\n",
            "\n",
            "Юридические лица могут арендовать автомобили, но не все дилерские центры предоставляют эту услугу. Для уточнения информации необходимо обратиться напрямую в дилерский\n",
            "центр.\n",
            "\n",
            "\n",
            "=====================Отрывок документа №4=====================\n",
            "\n",
            "=== score = 0.36358168721199036  Metadata документа ------------ {'Header 1': 'tech', 'Header 2': 'tech10'}\n",
            "\n",
            "Для уточнения технических параметров комплектующих автомобиля, рекомендуется обратиться в ближайший официальный дилерский центр.\n",
            "\n",
            "\n",
            "=====================Отрывок документа №5=====================\n",
            "\n",
            "=== score = 0.3639853000640869  Metadata документа ------------ {'Header 1': 'tech', 'Header 2': 'tech170'}\n",
            "\n",
            "Информацию по техническим вопросам, включая выбор антифриза для модели Рио 2020 года, можно уточнить у специалистов официальных дилеров. Контакты дилеров доступны на\n",
            "официальном сайте.\n",
            "\n",
            "\n",
            "Менеджер:  Какая Вам требуется помощь?\n",
            "\n",
            "\n",
            "\n",
            "Клиент: Какие интересные особенности есть у Sportage?\n",
            "САММАРИ \n",
            "=== Вот краткий обзор предыдущего диалога: Клиент, Юрий, выразил свою благодарность за оценку марки KIA. Он также выразил желание получить информацию о моделях автомобилей KIA и сервисных услугах. Нейро-помощник KIA приветствовал клиента и спросил, какая у него марка машины и как к нему можно обращаться. \n",
            "\n",
            "\n",
            "=====================Отрывок документа №1=====================\n",
            "\n",
            "=== score = 0.22922836244106293  Metadata документа ------------ {'Header 1': 'models', 'Header 2': 'Kia Sportage 2022', 'Header 3': 'Смелый и выразительный'}\n",
            "\n",
            "Смелый и выразительный\n",
            "Kia Sportage в версии X-Line еще ярче раскрывает самобытныйи уверенный характер кроссовера. Его отличают внедорожные элементыи уникальный природный цвет кузова.\n",
            "Фото https://cdn.kia.ru/resize/1920x960/media-data/infographics/sportage_new/74d8ed59-963e-40d2-a332-d179512148d9.jpg\n",
            "\n",
            "\n",
            "=====================Отрывок документа №2=====================\n",
            "\n",
            "=== score = 0.2463674694299698  Metadata документа ------------ {'Header 1': 'models', 'Header 2': 'Kia Sportage 2022', 'Header 3': 'Для бесконечного вдохновения'}\n",
            "\n",
            "Для бесконечного вдохновения\n",
            "У Kia Sportage смелый и стремительный дизайн. Автомобиль создан с учетом современных технологий, которые позволяют чувствовать себя в дороге еще более уверенно, независимо от того, где вы находитесь и куда стремитесь. Для тех, кто продолжает двигаться. Вдохновение всегда рядом.. Kia Sportage - победитель Гран-при «За рулем 2023»\n",
            "Фото https://cdn.kia.ru/resize/1920x960/media-data/infographics/sportage_new/40c1dddc-fccd-49c7-8ace-2772c12e8fe8.jpg\n",
            "\n",
            "\n",
            "=====================Отрывок документа №3=====================\n",
            "\n",
            "=== score = 0.24763646721839905  Metadata документа ------------ {'Header 1': 'models', 'Header 2': 'Kia Sportage 2022', 'Header 3': 'Иммерсивное пространство'}\n",
            "\n",
            "Иммерсивное пространство\n",
            "Интерьер Kia Sportage сочетает премиальное качество и ориентированныйна водителя дизайн. Изящный и тонкий изогнутый панорамный дисплей,обрамленный стильными дефлекторами воздуховодов, как будто огибаетводителя, открывая ему доступ к новейшим достижениям в областимультимедиа.\n",
            "Фото https://cdn.kia.ru/resize/1920x960/media-data/infographics/sportage_new/31a15033-ed3c-4bd8-855c-3e91867699c0.jpg\n",
            "\n",
            "\n",
            "=====================Отрывок документа №4=====================\n",
            "\n",
            "=== score = 0.24854983389377594  Metadata документа ------------ {'Header 1': 'sales_purchases', 'Header 2': 'sales_purchases423'}\n",
            "\n",
            "Автомобиль Sportage доступен в 14 вариантах комплектаций стоимостью от 2 849 900 ₽. Комплектация Luxe включает 18-дюймовые легкосплавные диски с шинами 235/60 R18,\n",
            "8-дюймовую мультимедиа систему с поддержкой Apple Carplay и Android Auto, электрообогрев лобового стекла и телематические сервисы Kia Connect.\n",
            "\n",
            "\n",
            "=====================Отрывок документа №5=====================\n",
            "\n",
            "=== score = 0.250175803899765  Metadata документа ------------ {'Header 1': 'sales_purchases', 'Header 2': 'sales_purchases70'}\n",
            "\n",
            "Обработанные записи базы знаний: 1. Для моделей Sportage, выпущенных для рынка России, заявлен только бензиновый двигатель. 2. Если появится дизельный вариант Sportage,\n",
            "он будет доступен у официальных дилеров. 3. Следить за появлением новых моделей можно на официальном сайте www.kia.ru. 4. Автомобили Sportage для российского рынка\n",
            "собираются в Республике Корея и Российской Федерации (Автотор).\n",
            "\n",
            "\n",
            "Менеджер:   KIA Sportage предлагает несколько интересных особенностей. Внедорожные элементы и уникальный природный цвет кузова в версии X-Line делают его еще более ярким и\n",
            " выразительным. Автомобиль также имеет смелый и стремительный дизайн, созданный с использованием современных технологий. Внутри Sportage вы найдете премиальное качество\n",
            " интерьера с ориентированным на водителя дизайном и изящным панорамным дисплеем. Если вам интересны фотографии, я могу предоставить их для более наглядного представления.\n",
            "\n",
            "\n",
            "\n",
            "Клиент: Какие фишки у Sportage\n",
            "САММАРИ \n",
            "=== Вот краткий обзор предыдущего диалога: Клиент, Юрий, выразил свою благодарность за оценку марки KIA. Он интересуется информацией о моделях автомобилей KIA и сервисных услугах. Консультант представляется как нейро-помощник KIA и готов помочь с любыми вопросами. Юрий задает вопрос о Sportage и интересуется его особенностями. Консультант отвечает, что Sportage имеет внедорожные элементы, уникальный природный цвет кузова в версии X-Line, смелый и стремительный дизайн, премиальное качество интерьера с ориентированным на водителя дизайном и изящным панорамным дисплеем. Консультант также предлагает предоставить фотографии для более наглядного представления. \n",
            "\n",
            "\n",
            "=====================Отрывок документа №1=====================\n",
            "\n",
            "=== score = 0.2536063492298126  Metadata документа ------------ {'Header 1': 'models', 'Header 2': 'Kia Sportage 2022', 'Header 3': 'Смелый и выразительный'}\n",
            "\n",
            "Смелый и выразительный\n",
            "Kia Sportage в версии X-Line еще ярче раскрывает самобытныйи уверенный характер кроссовера. Его отличают внедорожные элементыи уникальный природный цвет кузова.\n",
            "Фото https://cdn.kia.ru/resize/1920x960/media-data/infographics/sportage_new/74d8ed59-963e-40d2-a332-d179512148d9.jpg\n",
            "\n",
            "\n",
            "=====================Отрывок документа №2=====================\n",
            "\n",
            "=== score = 0.2638587951660156  Metadata документа ------------ {'Header 1': 'models', 'Header 2': 'Kia Sportage 2022', 'Header 3': 'Для бесконечного вдохновения'}\n",
            "\n",
            "Для бесконечного вдохновения\n",
            "У Kia Sportage смелый и стремительный дизайн. Автомобиль создан с учетом современных технологий, которые позволяют чувствовать себя в дороге еще более уверенно, независимо от того, где вы находитесь и куда стремитесь. Для тех, кто продолжает двигаться. Вдохновение всегда рядом.. Kia Sportage - победитель Гран-при «За рулем 2023»\n",
            "Фото https://cdn.kia.ru/resize/1920x960/media-data/infographics/sportage_new/40c1dddc-fccd-49c7-8ace-2772c12e8fe8.jpg\n",
            "\n",
            "\n",
            "=====================Отрывок документа №3=====================\n",
            "\n",
            "=== score = 0.2647632956504822  Metadata документа ------------ {'Header 1': 'sales_purchases', 'Header 2': 'sales_purchases70'}\n",
            "\n",
            "Обработанные записи базы знаний: 1. Для моделей Sportage, выпущенных для рынка России, заявлен только бензиновый двигатель. 2. Если появится дизельный вариант Sportage,\n",
            "он будет доступен у официальных дилеров. 3. Следить за появлением новых моделей можно на официальном сайте www.kia.ru. 4. Автомобили Sportage для российского рынка\n",
            "собираются в Республике Корея и Российской Федерации (Автотор).\n",
            "\n",
            "\n",
            "=====================Отрывок документа №4=====================\n",
            "\n",
            "=== score = 0.2676064670085907  Metadata документа ------------ {'Header 1': 'sales_purchases', 'Header 2': 'sales_purchases423'}\n",
            "\n",
            "Автомобиль Sportage доступен в 14 вариантах комплектаций стоимостью от 2 849 900 ₽. Комплектация Luxe включает 18-дюймовые легкосплавные диски с шинами 235/60 R18,\n",
            "8-дюймовую мультимедиа систему с поддержкой Apple Carplay и Android Auto, электрообогрев лобового стекла и телематические сервисы Kia Connect.\n",
            "\n",
            "\n",
            "=====================Отрывок документа №5=====================\n",
            "\n",
            "=== score = 0.2690329849720001  Metadata документа ------------ {'Header 1': 'models', 'Header 2': 'Kia Sportage 2022', 'Header 3': 'Двигатель'}\n",
            "\n",
            "Двигатель\n",
            "Покоряя дороги и вершины. Благодаря сочетанию мощности и топливной экономичности двигателей Kia Sportage вы сможете преодолевать большее расстояние, не отказывая себе в наслаждении динамикой и управляемостью при любых дорожных и погодных условиях.\n",
            "Модели двигателей: 2.5 Smartstream GDI, 2.0 Smartstream MPI\n",
            "\n",
            "\n",
            "Менеджер:   Sportage имеет несколько интересных особенностей: 1. Внедорожные элементы: Sportage X-Line имеет внедорожные элементы, которые придают ему более смелый и уверенный\n",
            " характер. 2. Уникальный природный цвет кузова: Sportage X-Line доступен в уникальном природном цвете кузова, который подчеркивает его индивидуальность. 3. Смелый и\n",
            " стремительный дизайн: Sportage имеет смелый и стремительный дизайн, который придает ему элегантный и динамичный вид. 4. Премиальное качество интерьера: Sportage\n",
            " предлагает премиальное качество интерьера с ориентированным на водителя дизайном и изящным панорамным дисплеем. Если вам интересно, я могу предоставить фотографии\n",
            " Sportage для более наглядного представления.\n",
            "\n",
            "\n",
            "\n",
            "Клиент: А что ты знаешь про Mohave\n",
            "САММАРИ \n",
            "=== Вот краткий обзор предыдущего диалога: Клиент выразил свою благодарность за оценку марки KIA и выразил интерес к получению информации о моделях автомобилей и сервисных услугах. Консультант представился как нейро-помощник KIA и спросил о марке машины клиента. Затем консультант предложил помощь в ответе на любые вопросы, связанные с продукцией и услугами KIA. Клиент задал вопрос о особенностях модели Sportage, на что консультант предоставил информацию о внедорожных элементах, уникальном природном цвете кузова, смелом и стремительном дизайне, а также премиальном качестве интерьера. Консультант также предложил предоставить фотографии для более наглядного представления. \n",
            "\n",
            "\n",
            "=====================Отрывок документа №1=====================\n",
            "\n",
            "=== score = 0.35784733295440674  Metadata документа ------------ {'Header 1': 'sales_purchases', 'Header 2': 'sales_purchases409'}\n",
            "\n",
            "Модель автомобиля Mohave не участвует в программе Kia Flex. Проект Kia Flex рассчитан на граждан РФ старше 25 лет, с опытом вождения от 3 лет. Актуальную информацию о\n",
            "стоимости услуги, наличии автомобилей, условиях договора можно уточнить только при обращении к дилеру, участвующему в программе.\n",
            "\n",
            "\n",
            "=====================Отрывок документа №2=====================\n",
            "\n",
            "=== score = 0.3689572513103485  Metadata документа ------------ {'Header 1': 'sales_purchases', 'Header 2': 'sales_purchases21'}\n",
            "\n",
            "Обработанная запись базы знаний: Покупка и установка дополнительного оборудования для Kia Mohave рекомендуется через официальных дилеров. Официальные дилеры продают\n",
            "автомобили из наличия на собственном складе, поставка под заказ не осуществляется. Актуальную информацию о наличии и условиях приобретения рекомендуется уточнять у\n",
            "дилера напрямую.\n",
            "\n",
            "\n",
            "=====================Отрывок документа №3=====================\n",
            "\n",
            "=== score = 0.37589800357818604  Metadata документа ------------ {'Header 1': 'sales_purchases', 'Header 2': 'sales_purchases59'}\n",
            "\n",
            "Наличие автомобиля mohave может варьироваться в зависимости от города. В Москве заявлено 3 таких автомобиля, разных комплектаций и разного года производства. В\n",
            "Санкт-Петербурге таких автомобилей в наличии нет.\n",
            "\n",
            "\n",
            "=====================Отрывок документа №4=====================\n",
            "\n",
            "=== score = 0.3861045837402344  Metadata документа ------------ {'Header 1': 'models', 'Header 2': 'Kia Mohave 2022'}\n",
            "\n",
            "Kia Mohave 2022 - https://www.kia.ru/models/mohave/desc/\n",
            "\n",
            "\n",
            "=====================Отрывок документа №5=====================\n",
            "\n",
            "=== score = 0.4068892002105713  Metadata документа ------------ {'Header 1': 'models', 'Header 2': 'Kia Mohave 2022', 'Header 3': 'Технологии'}\n",
            "\n",
            "Технологии\n",
            "Весь спектр эмоций. Kia Mohave буквально насыщен технологиями, чтобы каждая ваша поездка стала максимально комфортной и удобной. Связь, навигация, музыка, дорожная информация — благодаря идеальному сочетанию техники и эмоций вы управляете автомобилем уверенно и безопасно.\n",
            "Навигационная система с дисплеем 12,3''. Полностью цифровая приборная панель 12,3”. Проекционный дисплей (HUD). Аудиосистема премиум-класса Lexicon. Беспроводное зарядное устройство для смартфона. Навигационная система с дисплеем 12,3''. Большой панорамный экран высокого разрешения, расположенный над центральной консолью, отображает информацию мультимедийной системы, климат-контроля и других систем автомобиля.. Полностью цифровая приборная панель 12,3”. Показания основных приборов отображаются на электронной панели. Спидометр, тахометр, сигналы систем безопасности — все это представлено здесь, чуть ниже линии взгляда водителя.. Проекционный дисплей (HUD). Трехмерная проекция информации на лобовое стекло значительно повышает безопасность движения, позволяя водителю не отвлекаться от дороги.. Аудиосистема премиум-класса Lexicon. Аудиосистема с усилителем и 14 динамиками, включая динамики объемного звучания и сабвуфер, подарят новое качество звука вашему любимому плейлисту.. Беспроводное зарядное устройство для смартфона. Вам не понадобится провод, чтобы зарядить мобильный телефон — просто разместите его на специальной площадке за селектором трансмиссии.. 1 / 5. Навигационная система с дисплеем 12,3''. Полностью цифровая приборная панель 12,3”. Проекционный дисплей (HUD). Аудиосистема премиум-класса Lexicon. Беспроводное зарядное устройство для смартфона  \n",
            "Технологии\n",
            "Kia Connect. Будьте всегда на связи с вашим автомобилем при помощи сервисов Kia Connect. Приложение и бортовые сервисы позволят вам дистанционно активировать различные функции автомобиля и получать актуальную информацию о его состоянии в любое время.\n",
            "Подробнее. Дистанционный запуск двигателя. Управление климат-контролем. Дистанционное открытие/закрытие дверей. Уведомление о срабатывании штатной сигнализации. Статус и диагностика систем транспортного средства. Дистанционный запуск двигателя. Функция удаленного запуска Smart key позволяет дистанционно запустить и прогреть двигатель и активировать систему климат-контроля.. Управление климат-контролем. Дистанционная настройка температуры в салоне, активация подогрева стекол и боковых зеркал заднего вида.. Дистанционное открытие/закрытие дверей. Автомобиль автоматически отправит уведомление о незакрытых дверях и в случае необходимости вы можете закрыть их дистанционно.. Уведомление о срабатывании штатной сигнализации. При срабатывании штатной сигнализации автомобиль автоматически вышлет вам уведомление.. Статус и диагностика систем транспортного средства. Диагностика автомобиля возможна по запросу через меню мультимедийной системы либо автоматически при каждом запуске двигателя. Данные о работе систем автомобиля за последний месяц вы сможете посмотреть в приложении.. 1 / 5. Дистанционный запуск двигателя. Управление климат-контролем. Дистанционное открытие/закрытие дверей. Уведомление о срабатывании штатной сигнализации. Статус и диагностика систем транспортного средства\n",
            "\n",
            "\n",
            "Менеджер:   Я вижу, что вы интересуетесь моделью Mohave. Могу предоставить вам информацию о данной модели. Mohave - это внедорожник от KIA, который предлагает просторный интерьер и\n",
            " мощный двигатель. Он оснащен бензиновым двигателем V6 объемом 3,0 литра и имеет полный привод. Mohave также обладает высоким уровнем комфорта и безопасности, а также\n",
            " различными технологическими возможностями, такими как навигационная система с дисплеем 12,3 дюйма, полностью цифровая приборная панель и аудиосистема премиум-класса\n",
            " Lexicon. Если вам интересно получить более подробную информацию о Mohave, я могу предоставить вам ссылку на официальный сайт KIA, где вы сможете ознакомиться с полными\n",
            " характеристиками и фотографиями модели.\n",
            "\n",
            "\n",
            "\n",
            "Клиент: В каких моделях есть функция DAW\n",
            "САММАРИ \n",
            "=== Вот краткий обзор предыдущего диалога: Консультант и клиент обсуждают марку автомобилей KIA. Клиент выражает свою благодарность за оценку марки KIA и интересуется, какую информацию можно получить о моделях и сервисных услугах. Консультант представляется как нейро-помощник KIA и спрашивает, какую марку машины у клиента. Клиент интересуется особенностями модели Sportage, на что консультант предоставляет информацию о внедорожных элементах, уникальном природном цвете кузова, дизайне и качестве интерьера. Консультант также предлагает предоставить фотографии для наглядного представления. Клиент интересуется также моделью Mohave, на что консультант предоставляет информацию о просторном интерьере, мощном двигателе, комфорте, безопасности и технологических возможностях этой модели. Консультант предлагает клиенту ссылку на официальный сайт KIA для получения более подробной информации. \n",
            "\n",
            "\n",
            "=====================Отрывок документа №1=====================\n",
            "\n",
            "=== score = 0.3336486518383026  Metadata документа ------------ {'Header 1': 'technology', 'Header 2': 'Система контроля внимания водителя (DAW)'}\n",
            "\n",
            "Система контроля внимания водителя (DAW)\n",
            "Система DAW анализирует шаблоны поведения водителя при управлении автомобилем, и если появляются признаки усталости и потери концентрации, она подает визуальный и звуковой сигналы, рекомендуя сделать остановку для отдыха. Систему DAW можно настроить в соответствии с индивидуальными пожеланиями водителя.\n",
            "\n",
            "\n",
            "=====================Отрывок документа №2=====================\n",
            "\n",
            "=== score = 0.42227649688720703  Metadata документа ------------ {'Header 1': 'sales_purchases', 'Header 2': 'sales_purchases384'}\n",
            "\n",
            "Обработанная запись базы знаний: При планировании покупки автомобиля, если интересующая модель отсутствует у дилера, рекомендуется обратиться к дилеру для уточнения\n",
            "возможности поставки. При выборе дополнительных опций к модели в конфигураторе, необходимо уточнить у дилера, идут ли подкрылки и прочая защита авто автоматически при\n",
            "покупке или их нужно указывать отдельно.\n",
            "\n",
            "\n",
            "=====================Отрывок документа №3=====================\n",
            "\n",
            "=== score = 0.42732107639312744  Metadata документа ------------ {'Header 1': 'tech', 'Header 2': 'tech197'}\n",
            "\n",
            "Обработанная запись базы знаний: Модели Kia, поддерживающие Apple key, позволяют открывать и заводить машину с помощью телефона.\n",
            "\n",
            "\n",
            "=====================Отрывок документа №4=====================\n",
            "\n",
            "=== score = 0.42898160219192505  Metadata документа ------------ {'Header 1': 'sales_purchases', 'Header 2': 'sales_purchases93'}\n",
            "\n",
            "Обработанная запись базы знаний: Клиенты могут выразить желание купить машину.\n",
            "\n",
            "\n",
            "=====================Отрывок документа №5=====================\n",
            "\n",
            "=== score = 0.42964494228363037  Metadata документа ------------ {'Header 1': 'technology', 'Header 2': 'Система выбора режима движения Drive Mode Select'}\n",
            "\n",
            "Система выбора режима движения Drive Mode Select\n",
            "Система Drive Mode Select выводит удовольствие  за рулем на новый уровень с помощью нажатия на клавишу или поворота вращающегося селектора возле рычага (джойстика) коробки передач. Работая в паре с трансмиссией, система улучшает динамические характеристики, увеличивая отзывчивость педали газа, обеспечивая более интенсивное ускорение и оптимизируя обороты двигателя во время обгона.\n",
            "\n",
            "\n",
            "Менеджер:   Функция DAW (система контроля внимания водителя) доступна в некоторых моделях автомобилей KIA. Хотели бы вы узнать, в какой конкретной модели вас интересует эта функция?\n",
            "\n",
            "\n",
            "\n",
            "Клиент: Сравни характеристики Ceed и Carnival, назови разные\n",
            "САММАРИ \n",
            "=== Вот краткий обзор предыдущего диалога: Клиент Юрий выразил свою благодарность за оценку марки KIA. Консультант предложил помощь в получении информации о моделях автомобилей KIA и сервисных услугах. Консультант также представился как нейро-помощник KIA и спросил у клиента, какая у него марка машины и как к нему обращаться. Клиент задал вопрос о фишках модели Sportage, на что консультант предоставил информацию о внедорожных элементах, уникальном природном цвете кузова, смелом и стремительном дизайне, премиальном качестве интерьера. Консультант также предложил предоставить фотографии для наглядного представления. Клиент интересовался также моделью Mohave, на что консультант предоставил информацию о просторном интерьере, мощном двигателе, высоком уровне комфорта и безопасности, а также различных технологических возможностях. Консультант предложил клиенту ссылку на официальный сайт KIA для получения более подробной информации. Клиент также интересовался наличием функции DAW (системы контроля внимания водителя) в моделях KIA, на что консультант спросил, в какой конкретной модели клиента интересует эта функция. \n",
            "\n",
            "\n",
            "=====================Отрывок документа №1=====================\n",
            "\n",
            "=== score = 0.4023030996322632  Metadata документа ------------ {'Header 1': 'models', 'Header 2': 'Kia Carnival 2022', 'Header 3': 'Территория стиля и комфорта'}\n",
            "\n",
            "Территория стиля и комфорта\n",
            "Что перед вами? Роскошный и брутальный кроссовер? Солидный и практичный семейный автомобиль? Высокотехнологичное средство передвижения или просторный и комфортный пати-вэн для большой компании? Kia Carnival совмещает все это и готов удивлять вас долгие годы.\n",
            "Фото https://cdn.kia.ru/resize/1920x960/media-data/infographic/file/b32628c8-1d7d-401c-a57a-1169c5700dcf.jpeg\n",
            "\n",
            "\n",
            "=====================Отрывок документа №2=====================\n",
            "\n",
            "=== score = 0.4100843667984009  Metadata документа ------------ {'Header 1': 'models', 'Header 2': 'Kia Carnival 2022', 'Header 3': 'Двигатель'}\n",
            "\n",
            "Двигатель\n",
            "Ощутимая мощность. Инновационные бензиновый и дизельный двигатели Kia Carnival производят меньше шума и обеспечивают значительную экономию топлива за счет эффективного охлаждения и пониженного трения. В паре с 8-ступенчатой автоматической трансмиссией, отличающейся плавным и уверенным переключением передач и увеличенным рабочим диапазоном, вы получаете идеальный баланс мощности и экономичности.\n",
            "Модели двигателей: 3.5 Smartstream MPI, бензин, 2.2 Smartstream CRDI, дизель\n",
            "\n",
            "\n",
            "=====================Отрывок документа №3=====================\n",
            "\n",
            "=== score = 0.4127213656902313  Metadata документа ------------ {'Header 1': 'sales_purchases', 'Header 2': 'sales_purchases295'}\n",
            "\n",
            "Обмен автомобиля на модель Kia Carnival возможен у дилеров. В РФ доступны два типа двигателей для этой модели: 3.5 MPI / 249 л.с. / Бензин и 2.2 CRDi / 199 л.с. /\n",
            "Дизель. Актуальную стоимость и комплектацию можно уточнить на сайте или обратившись к дилерам напрямую.\n",
            "\n",
            "\n",
            "=====================Отрывок документа №4=====================\n",
            "\n",
            "=== score = 0.41431504487991333  Metadata документа ------------ {'Header 1': 'sales_purchases', 'Header 2': 'sales_purchases259'}\n",
            "\n",
            "Комплектации автомобилей Kia Rio X \"Престиж\" и \"Премиум\" могут отличаться, включая количество динамиков и наличие навигационной системы. Для сравнения комплектаций можно\n",
            "использовать функцию \"Различающиеся характеристики\" на официальном сайте. Однако, комплектация автомобиля у официального дилера может отличаться от заявленной на сайте.\n",
            "Рекомендуется обращаться к специалистам дилерского центра для получения актуальной информации.\n",
            "\n",
            "\n",
            "=====================Отрывок документа №5=====================\n",
            "\n",
            "=== score = 0.4223184585571289  Metadata документа ------------ {'Header 1': 'sales_purchases', 'Header 2': 'sales_purchases59'}\n",
            "\n",
            "Наличие автомобиля mohave может варьироваться в зависимости от города. В Москве заявлено 3 таких автомобиля, разных комплектаций и разного года производства. В\n",
            "Санкт-Петербурге таких автомобилей в наличии нет.\n",
            "\n",
            "\n",
            "Менеджер:   Хорошо, чтобы сравнить характеристики моделей Ceed и Carnival, мне нужно знать конкретную конфигурацию и модель, которые вас интересуют. Пожалуйста, уточните, какая\n",
            " версия Ceed и Carnival вас интересует, чтобы я мог предоставить вам подробную информацию о их характеристиках.\n",
            "\n",
            "\n"
          ]
        }
      ]
    }
  ],
  "metadata": {
    "colab": {
      "provenance": []
    },
    "kernelspec": {
      "display_name": "Python 3",
      "name": "python3"
    },
    "language_info": {
      "name": "python"
    }
  },
  "nbformat": 4,
  "nbformat_minor": 0
}